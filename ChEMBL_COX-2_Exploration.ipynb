{
 "cells": [
  {
   "cell_type": "markdown",
   "id": "dated-tribune",
   "metadata": {},
   "source": [
    "# Imports"
   ]
  },
  {
   "cell_type": "code",
   "execution_count": 1,
   "id": "forward-turkish",
   "metadata": {
    "tags": []
   },
   "outputs": [
    {
     "name": "stdout",
     "output_type": "stream",
     "text": [
      "RDKit Version:  2024.03.5\n"
     ]
    }
   ],
   "source": [
    "# -- Data & Plotting\n",
    "import numpy as np\n",
    "import pandas as pd\n",
    "import matplotlib.pyplot as plt\n",
    "import seaborn as sns\n",
    "\n",
    "# Progress Bar\n",
    "from tqdm import tqdm, tnrange, tqdm_notebook\n",
    "tqdm.pandas()\n",
    "\n",
    "# -- RDKit\n",
    "import rdkit\n",
    "from rdkit import Chem\n",
    "from rdkit.Chem import AllChem, Draw, PandasTools\n",
    "from rdkit.Chem.Draw import IPythonConsole\n",
    "PandasTools.RenderImagesInAllDataFrames()\n",
    "print(\"RDKit Version: \", rdkit.__version__)"
   ]
  },
  {
   "cell_type": "code",
   "execution_count": 2,
   "id": "capable-direction",
   "metadata": {
    "tags": []
   },
   "outputs": [
    {
     "data": {
      "text/plain": [
       "100"
      ]
     },
     "execution_count": 2,
     "metadata": {},
     "output_type": "execute_result"
    }
   ],
   "source": [
    "# This will allow us to see all columns:\n",
    "pd.set_option(\"display.max_columns\", 100)\n",
    "\n",
    "# To disable it, do:\n",
    "# pd.reset_option(\"^display\")\n",
    "\n",
    "# To get details:\n",
    "pd.get_option(\"display.max_columns\")\n",
    "\n",
    "# More information at:\n",
    "# https://pandas.pydata.org/pandas-docs/stable/user_guide/options.html#getting-and-setting-options"
   ]
  },
  {
   "cell_type": "markdown",
   "id": "flush-tsunami",
   "metadata": {},
   "source": [
    "# Obtaining the database\n",
    "Today we will be working with a database of compounds that wre somehow tested against the \n",
    "human cycloxoygenase-2 ([COX-2](https://en.wikipedia.org/wiki/Cyclooxygenase-2)), \n",
    "which is involved in pain and inflammation processes.\n",
    "NSAIDS that selectively target COX-2 ([coxibs](https://en.wikipedia.org/wiki/Cyclooxygenase-2_inhibitor)) \n",
    "reduce the risk of peptic ulcers associated with the inhibition of a related enzyme, \n",
    "[COX-1](https://en.wikipedia.org/wiki/Cyclooxygenase-1).\n",
    "\n",
    "We can obtain a database of compounds tested against COX-2 by searching different databases, \n",
    "the main ones being [PubChem](https://pubchem.ncbi.nlm.nih.gov/), maintained by the NIH,\n",
    "and [ChEMBL](https://www.ebi.ac.uk/chembl/), maintained by the European Bioinformatics Institute.\n",
    "\n",
    "Here, we will work with compounds obtained from the ChEMBL database. The process to obtain the database is the following:\n",
    "1. Navigate to the [ChEMBL](https://www.ebi.ac.uk/chembl/) site, and search for \"COX-2\", **but don't hit enter yet!**\n",
    "2. From the drop-down list, under \"Targets\", select \"COX-2\". That will return a page with different \"COX-2\" targets\n",
    "3. Scroll down to the human COX-2 (CHEMBL230):\n",
    "<a href=\"https://www.ebi.ac.uk/chembl/target_report_card/CHEMBL230/\"><img src=\"./media/ChEMBL_COX-2.png\" border=1 /></a> <br>\n",
    "Clicking on the header will take you to the page with COX-2 data.\n",
    "4. Finally,scroll to **\"Activity Charts\"**, and click on the **\"Activity Types for CHEMBL230 (Cyclooxygenase-2)\"** link:\n",
    "<a href=\"https://www.ebi.ac.uk/chembl/web_components/explore/activities/STATE_ID:A7tQ9Eh8n8uuiWNfvBq-yw%3D%3D\"><img src=\"./media/ChEMBL_COX-2_activities.png\" border=1 /></a> <br>\n",
    "It will take you to a list of 13,999 compounds (as of 08/28/2024) with measured activity against COX-2, \n",
    "which you can download as a CSV file by clicking the <img src=\"./media/ChEMBL_CSV.png\" alt=\"CSV\" /> button. \n",
    "\n",
    "\n",
    "<div class=\"alert alert-info\" role=\"alert\">\n",
    "    Note: It may take a while. To speed up our class, the file is already available here in the data folder: `data/ChEMBL_COX-2_2024-08-28.csv`.\n",
    "</div>\n",
    "\n",
    "\n",
    "And we're ready to start exploring!"
   ]
  },
  {
   "cell_type": "markdown",
   "id": "455d990e-129d-44e0-bc27-994cfd073cb9",
   "metadata": {},
   "source": [
    "# Exploring the database\n",
    "The CSV file from ChEMBL has a weird format, with \";\" separating the columnns!"
   ]
  },
  {
   "cell_type": "code",
   "execution_count": 3,
   "id": "joint-bruce",
   "metadata": {
    "tags": []
   },
   "outputs": [
    {
     "data": {
      "text/html": [
       "<div>\n",
       "<style scoped>\n",
       "    .dataframe tbody tr th:only-of-type {\n",
       "        vertical-align: middle;\n",
       "    }\n",
       "\n",
       "    .dataframe tbody tr th {\n",
       "        vertical-align: top;\n",
       "    }\n",
       "\n",
       "    .dataframe thead th {\n",
       "        text-align: right;\n",
       "    }\n",
       "</style>\n",
       "<table border=\"1\" class=\"dataframe\">\n",
       "  <thead>\n",
       "    <tr style=\"text-align: right;\">\n",
       "      <th></th>\n",
       "      <th>Molecule ChEMBL ID</th>\n",
       "      <th>Molecule Name</th>\n",
       "      <th>Molecule Max Phase</th>\n",
       "      <th>Molecular Weight</th>\n",
       "      <th>#RO5 Violations</th>\n",
       "      <th>AlogP</th>\n",
       "      <th>Compound Key</th>\n",
       "      <th>Smiles</th>\n",
       "      <th>Standard Type</th>\n",
       "      <th>Standard Relation</th>\n",
       "      <th>Standard Value</th>\n",
       "      <th>Standard Units</th>\n",
       "      <th>pChEMBL Value</th>\n",
       "      <th>Data Validity Comment</th>\n",
       "      <th>Comment</th>\n",
       "      <th>Uo Units</th>\n",
       "      <th>Ligand Efficiency BEI</th>\n",
       "      <th>Ligand Efficiency LE</th>\n",
       "      <th>Ligand Efficiency LLE</th>\n",
       "      <th>Ligand Efficiency SEI</th>\n",
       "      <th>Potential Duplicate</th>\n",
       "      <th>Assay ChEMBL ID</th>\n",
       "      <th>Assay Description</th>\n",
       "      <th>Assay Type</th>\n",
       "      <th>BAO Format ID</th>\n",
       "      <th>BAO Label</th>\n",
       "      <th>Assay Organism</th>\n",
       "      <th>Assay Tissue ChEMBL ID</th>\n",
       "      <th>Assay Tissue Name</th>\n",
       "      <th>Assay Cell Type</th>\n",
       "      <th>Assay Subcellular Fraction</th>\n",
       "      <th>Assay Parameters</th>\n",
       "      <th>Assay Variant Accession</th>\n",
       "      <th>Assay Variant Mutation</th>\n",
       "      <th>Target ChEMBL ID</th>\n",
       "      <th>Target Name</th>\n",
       "      <th>Target Organism</th>\n",
       "      <th>Target Type</th>\n",
       "      <th>Document ChEMBL ID</th>\n",
       "      <th>Source ID</th>\n",
       "      <th>Source Description</th>\n",
       "      <th>Document Journal</th>\n",
       "      <th>Document Year</th>\n",
       "      <th>Cell ChEMBL ID</th>\n",
       "      <th>Properties</th>\n",
       "      <th>Action Type</th>\n",
       "      <th>Standard Text Value</th>\n",
       "    </tr>\n",
       "  </thead>\n",
       "  <tbody>\n",
       "    <tr>\n",
       "      <th>0</th>\n",
       "      <td>CHEMBL1200623</td>\n",
       "      <td>ETHYLESTRENOL</td>\n",
       "      <td>4.0</td>\n",
       "      <td>288.48</td>\n",
       "      <td>1.0</td>\n",
       "      <td>5.09</td>\n",
       "      <td>ETHYLESTRENOL</td>\n",
       "      <td>CC[C@]1(O)CC[C@H]2[C@@H]3CCC4=CCCC[C@@H]4[C@H]...</td>\n",
       "      <td>Ki</td>\n",
       "      <td>NaN</td>\n",
       "      <td>NaN</td>\n",
       "      <td>NaN</td>\n",
       "      <td>NaN</td>\n",
       "      <td>NaN</td>\n",
       "      <td>Not Active (inhibition &lt; 50% @ 10 uM and thus ...</td>\n",
       "      <td>NaN</td>\n",
       "      <td>NaN</td>\n",
       "      <td>NaN</td>\n",
       "      <td>NaN</td>\n",
       "      <td>NaN</td>\n",
       "      <td>0</td>\n",
       "      <td>CHEMBL1909131</td>\n",
       "      <td>DRUGMATRIX: Cyclooxygenase COX-2 enzyme inhibi...</td>\n",
       "      <td>B</td>\n",
       "      <td>BAO_0000219</td>\n",
       "      <td>cell-based format</td>\n",
       "      <td>NaN</td>\n",
       "      <td>NaN</td>\n",
       "      <td>NaN</td>\n",
       "      <td>Sf21</td>\n",
       "      <td>NaN</td>\n",
       "      <td>NaN</td>\n",
       "      <td>NaN</td>\n",
       "      <td>NaN</td>\n",
       "      <td>CHEMBL230</td>\n",
       "      <td>Cyclooxygenase-2</td>\n",
       "      <td>Homo sapiens</td>\n",
       "      <td>SINGLE PROTEIN</td>\n",
       "      <td>CHEMBL1909046</td>\n",
       "      <td>15</td>\n",
       "      <td>DrugMatrix</td>\n",
       "      <td>NaN</td>\n",
       "      <td>NaN</td>\n",
       "      <td>CHEMBL4106362</td>\n",
       "      <td>NaN</td>\n",
       "      <td>NaN</td>\n",
       "      <td>NaN</td>\n",
       "    </tr>\n",
       "    <tr>\n",
       "      <th>1</th>\n",
       "      <td>CHEMBL404811</td>\n",
       "      <td>DIGITONIN</td>\n",
       "      <td>NaN</td>\n",
       "      <td>1229.32</td>\n",
       "      <td>NaN</td>\n",
       "      <td>NaN</td>\n",
       "      <td>DIGITONIN</td>\n",
       "      <td>C[C@@H]1CC[C@@]2(OC1)O[C@H]1[C@@H](O)[C@H]3[C@...</td>\n",
       "      <td>IC50</td>\n",
       "      <td>NaN</td>\n",
       "      <td>NaN</td>\n",
       "      <td>NaN</td>\n",
       "      <td>NaN</td>\n",
       "      <td>NaN</td>\n",
       "      <td>Not Active (inhibition &lt; 50% @ 10 uM and thus ...</td>\n",
       "      <td>NaN</td>\n",
       "      <td>NaN</td>\n",
       "      <td>NaN</td>\n",
       "      <td>NaN</td>\n",
       "      <td>NaN</td>\n",
       "      <td>0</td>\n",
       "      <td>CHEMBL1909131</td>\n",
       "      <td>DRUGMATRIX: Cyclooxygenase COX-2 enzyme inhibi...</td>\n",
       "      <td>B</td>\n",
       "      <td>BAO_0000219</td>\n",
       "      <td>cell-based format</td>\n",
       "      <td>NaN</td>\n",
       "      <td>NaN</td>\n",
       "      <td>NaN</td>\n",
       "      <td>Sf21</td>\n",
       "      <td>NaN</td>\n",
       "      <td>NaN</td>\n",
       "      <td>NaN</td>\n",
       "      <td>NaN</td>\n",
       "      <td>CHEMBL230</td>\n",
       "      <td>Cyclooxygenase-2</td>\n",
       "      <td>Homo sapiens</td>\n",
       "      <td>SINGLE PROTEIN</td>\n",
       "      <td>CHEMBL1909046</td>\n",
       "      <td>15</td>\n",
       "      <td>DrugMatrix</td>\n",
       "      <td>NaN</td>\n",
       "      <td>NaN</td>\n",
       "      <td>CHEMBL4106362</td>\n",
       "      <td>NaN</td>\n",
       "      <td>NaN</td>\n",
       "      <td>NaN</td>\n",
       "    </tr>\n",
       "    <tr>\n",
       "      <th>2</th>\n",
       "      <td>CHEMBL416126</td>\n",
       "      <td>NaN</td>\n",
       "      <td>NaN</td>\n",
       "      <td>388.39</td>\n",
       "      <td>0.0</td>\n",
       "      <td>4.43</td>\n",
       "      <td>20j</td>\n",
       "      <td>CS(=O)(=O)c1ccc(-c2cc(F)c(F)cc2-c2ccc3c(c2)OCO...</td>\n",
       "      <td>IC50</td>\n",
       "      <td>'='</td>\n",
       "      <td>12.00</td>\n",
       "      <td>nM</td>\n",
       "      <td>7.92</td>\n",
       "      <td>NaN</td>\n",
       "      <td>NaN</td>\n",
       "      <td>UO_0000065</td>\n",
       "      <td>20.39</td>\n",
       "      <td>0.40</td>\n",
       "      <td>3.49</td>\n",
       "      <td>15.06</td>\n",
       "      <td>0</td>\n",
       "      <td>CHEMBL762917</td>\n",
       "      <td>In vitro inhibitory activity against human rec...</td>\n",
       "      <td>B</td>\n",
       "      <td>BAO_0000357</td>\n",
       "      <td>single protein format</td>\n",
       "      <td>NaN</td>\n",
       "      <td>NaN</td>\n",
       "      <td>NaN</td>\n",
       "      <td>NaN</td>\n",
       "      <td>NaN</td>\n",
       "      <td>NaN</td>\n",
       "      <td>NaN</td>\n",
       "      <td>NaN</td>\n",
       "      <td>CHEMBL230</td>\n",
       "      <td>Cyclooxygenase-2</td>\n",
       "      <td>Homo sapiens</td>\n",
       "      <td>SINGLE PROTEIN</td>\n",
       "      <td>CHEMBL1129066</td>\n",
       "      <td>1</td>\n",
       "      <td>Scientific Literature</td>\n",
       "      <td>J Med Chem</td>\n",
       "      <td>1996.0</td>\n",
       "      <td>NaN</td>\n",
       "      <td>NaN</td>\n",
       "      <td>NaN</td>\n",
       "      <td>NaN</td>\n",
       "    </tr>\n",
       "    <tr>\n",
       "      <th>3</th>\n",
       "      <td>CHEMBL1413</td>\n",
       "      <td>CICLOPIROX</td>\n",
       "      <td>4.0</td>\n",
       "      <td>207.27</td>\n",
       "      <td>0.0</td>\n",
       "      <td>2.44</td>\n",
       "      <td>CICLOPIROX</td>\n",
       "      <td>Cc1cc(C2CCCCC2)n(O)c(=O)c1</td>\n",
       "      <td>IC50</td>\n",
       "      <td>NaN</td>\n",
       "      <td>NaN</td>\n",
       "      <td>NaN</td>\n",
       "      <td>NaN</td>\n",
       "      <td>NaN</td>\n",
       "      <td>Not Active (inhibition &lt; 50% @ 10 uM and thus ...</td>\n",
       "      <td>NaN</td>\n",
       "      <td>NaN</td>\n",
       "      <td>NaN</td>\n",
       "      <td>NaN</td>\n",
       "      <td>NaN</td>\n",
       "      <td>0</td>\n",
       "      <td>CHEMBL1909131</td>\n",
       "      <td>DRUGMATRIX: Cyclooxygenase COX-2 enzyme inhibi...</td>\n",
       "      <td>B</td>\n",
       "      <td>BAO_0000219</td>\n",
       "      <td>cell-based format</td>\n",
       "      <td>NaN</td>\n",
       "      <td>NaN</td>\n",
       "      <td>NaN</td>\n",
       "      <td>Sf21</td>\n",
       "      <td>NaN</td>\n",
       "      <td>NaN</td>\n",
       "      <td>NaN</td>\n",
       "      <td>NaN</td>\n",
       "      <td>CHEMBL230</td>\n",
       "      <td>Cyclooxygenase-2</td>\n",
       "      <td>Homo sapiens</td>\n",
       "      <td>SINGLE PROTEIN</td>\n",
       "      <td>CHEMBL1909046</td>\n",
       "      <td>15</td>\n",
       "      <td>DrugMatrix</td>\n",
       "      <td>NaN</td>\n",
       "      <td>NaN</td>\n",
       "      <td>CHEMBL4106362</td>\n",
       "      <td>NaN</td>\n",
       "      <td>NaN</td>\n",
       "      <td>NaN</td>\n",
       "    </tr>\n",
       "    <tr>\n",
       "      <th>4</th>\n",
       "      <td>CHEMBL143776</td>\n",
       "      <td>NaN</td>\n",
       "      <td>NaN</td>\n",
       "      <td>321.37</td>\n",
       "      <td>1.0</td>\n",
       "      <td>5.99</td>\n",
       "      <td>32</td>\n",
       "      <td>Fc1ccc(-c2[nH]c(-c3ccc(F)cc3)c3c2C2CCC3C2)cc1</td>\n",
       "      <td>IC50</td>\n",
       "      <td>'='</td>\n",
       "      <td>0.08</td>\n",
       "      <td>nM</td>\n",
       "      <td>10.10</td>\n",
       "      <td>NaN</td>\n",
       "      <td>NaN</td>\n",
       "      <td>UO_0000065</td>\n",
       "      <td>31.42</td>\n",
       "      <td>0.57</td>\n",
       "      <td>4.11</td>\n",
       "      <td>63.94</td>\n",
       "      <td>0</td>\n",
       "      <td>CHEMBL769655</td>\n",
       "      <td>Tested in vitro for inhibition against Prostag...</td>\n",
       "      <td>B</td>\n",
       "      <td>BAO_0000357</td>\n",
       "      <td>single protein format</td>\n",
       "      <td>NaN</td>\n",
       "      <td>NaN</td>\n",
       "      <td>NaN</td>\n",
       "      <td>NaN</td>\n",
       "      <td>NaN</td>\n",
       "      <td>NaN</td>\n",
       "      <td>NaN</td>\n",
       "      <td>NaN</td>\n",
       "      <td>CHEMBL230</td>\n",
       "      <td>Cyclooxygenase-2</td>\n",
       "      <td>Homo sapiens</td>\n",
       "      <td>SINGLE PROTEIN</td>\n",
       "      <td>CHEMBL1133534</td>\n",
       "      <td>1</td>\n",
       "      <td>Scientific Literature</td>\n",
       "      <td>J Med Chem</td>\n",
       "      <td>2000.0</td>\n",
       "      <td>NaN</td>\n",
       "      <td>NaN</td>\n",
       "      <td>NaN</td>\n",
       "      <td>NaN</td>\n",
       "    </tr>\n",
       "  </tbody>\n",
       "</table>\n",
       "</div>"
      ],
      "text/plain": [
       "  Molecule ChEMBL ID  Molecule Name  Molecule Max Phase  Molecular Weight  \\\n",
       "0      CHEMBL1200623  ETHYLESTRENOL                 4.0            288.48   \n",
       "1       CHEMBL404811      DIGITONIN                 NaN           1229.32   \n",
       "2       CHEMBL416126            NaN                 NaN            388.39   \n",
       "3         CHEMBL1413     CICLOPIROX                 4.0            207.27   \n",
       "4       CHEMBL143776            NaN                 NaN            321.37   \n",
       "\n",
       "   #RO5 Violations  AlogP   Compound Key  \\\n",
       "0              1.0   5.09  ETHYLESTRENOL   \n",
       "1              NaN    NaN      DIGITONIN   \n",
       "2              0.0   4.43            20j   \n",
       "3              0.0   2.44     CICLOPIROX   \n",
       "4              1.0   5.99             32   \n",
       "\n",
       "                                              Smiles Standard Type  \\\n",
       "0  CC[C@]1(O)CC[C@H]2[C@@H]3CCC4=CCCC[C@@H]4[C@H]...            Ki   \n",
       "1  C[C@@H]1CC[C@@]2(OC1)O[C@H]1[C@@H](O)[C@H]3[C@...          IC50   \n",
       "2  CS(=O)(=O)c1ccc(-c2cc(F)c(F)cc2-c2ccc3c(c2)OCO...          IC50   \n",
       "3                         Cc1cc(C2CCCCC2)n(O)c(=O)c1          IC50   \n",
       "4      Fc1ccc(-c2[nH]c(-c3ccc(F)cc3)c3c2C2CCC3C2)cc1          IC50   \n",
       "\n",
       "  Standard Relation  Standard Value Standard Units  pChEMBL Value  \\\n",
       "0               NaN             NaN            NaN            NaN   \n",
       "1               NaN             NaN            NaN            NaN   \n",
       "2               '='           12.00             nM           7.92   \n",
       "3               NaN             NaN            NaN            NaN   \n",
       "4               '='            0.08             nM          10.10   \n",
       "\n",
       "  Data Validity Comment                                            Comment  \\\n",
       "0                   NaN  Not Active (inhibition < 50% @ 10 uM and thus ...   \n",
       "1                   NaN  Not Active (inhibition < 50% @ 10 uM and thus ...   \n",
       "2                   NaN                                                NaN   \n",
       "3                   NaN  Not Active (inhibition < 50% @ 10 uM and thus ...   \n",
       "4                   NaN                                                NaN   \n",
       "\n",
       "     Uo Units  Ligand Efficiency BEI  Ligand Efficiency LE  \\\n",
       "0         NaN                    NaN                   NaN   \n",
       "1         NaN                    NaN                   NaN   \n",
       "2  UO_0000065                  20.39                  0.40   \n",
       "3         NaN                    NaN                   NaN   \n",
       "4  UO_0000065                  31.42                  0.57   \n",
       "\n",
       "   Ligand Efficiency LLE  Ligand Efficiency SEI  Potential Duplicate  \\\n",
       "0                    NaN                    NaN                    0   \n",
       "1                    NaN                    NaN                    0   \n",
       "2                   3.49                  15.06                    0   \n",
       "3                    NaN                    NaN                    0   \n",
       "4                   4.11                  63.94                    0   \n",
       "\n",
       "  Assay ChEMBL ID                                  Assay Description  \\\n",
       "0   CHEMBL1909131  DRUGMATRIX: Cyclooxygenase COX-2 enzyme inhibi...   \n",
       "1   CHEMBL1909131  DRUGMATRIX: Cyclooxygenase COX-2 enzyme inhibi...   \n",
       "2    CHEMBL762917  In vitro inhibitory activity against human rec...   \n",
       "3   CHEMBL1909131  DRUGMATRIX: Cyclooxygenase COX-2 enzyme inhibi...   \n",
       "4    CHEMBL769655  Tested in vitro for inhibition against Prostag...   \n",
       "\n",
       "  Assay Type BAO Format ID              BAO Label Assay Organism  \\\n",
       "0          B   BAO_0000219      cell-based format            NaN   \n",
       "1          B   BAO_0000219      cell-based format            NaN   \n",
       "2          B   BAO_0000357  single protein format            NaN   \n",
       "3          B   BAO_0000219      cell-based format            NaN   \n",
       "4          B   BAO_0000357  single protein format            NaN   \n",
       "\n",
       "  Assay Tissue ChEMBL ID Assay Tissue Name Assay Cell Type  \\\n",
       "0                    NaN               NaN            Sf21   \n",
       "1                    NaN               NaN            Sf21   \n",
       "2                    NaN               NaN             NaN   \n",
       "3                    NaN               NaN            Sf21   \n",
       "4                    NaN               NaN             NaN   \n",
       "\n",
       "  Assay Subcellular Fraction Assay Parameters  Assay Variant Accession  \\\n",
       "0                        NaN              NaN                      NaN   \n",
       "1                        NaN              NaN                      NaN   \n",
       "2                        NaN              NaN                      NaN   \n",
       "3                        NaN              NaN                      NaN   \n",
       "4                        NaN              NaN                      NaN   \n",
       "\n",
       "   Assay Variant Mutation Target ChEMBL ID       Target Name Target Organism  \\\n",
       "0                     NaN        CHEMBL230  Cyclooxygenase-2    Homo sapiens   \n",
       "1                     NaN        CHEMBL230  Cyclooxygenase-2    Homo sapiens   \n",
       "2                     NaN        CHEMBL230  Cyclooxygenase-2    Homo sapiens   \n",
       "3                     NaN        CHEMBL230  Cyclooxygenase-2    Homo sapiens   \n",
       "4                     NaN        CHEMBL230  Cyclooxygenase-2    Homo sapiens   \n",
       "\n",
       "      Target Type Document ChEMBL ID  Source ID     Source Description  \\\n",
       "0  SINGLE PROTEIN      CHEMBL1909046         15             DrugMatrix   \n",
       "1  SINGLE PROTEIN      CHEMBL1909046         15             DrugMatrix   \n",
       "2  SINGLE PROTEIN      CHEMBL1129066          1  Scientific Literature   \n",
       "3  SINGLE PROTEIN      CHEMBL1909046         15             DrugMatrix   \n",
       "4  SINGLE PROTEIN      CHEMBL1133534          1  Scientific Literature   \n",
       "\n",
       "  Document Journal  Document Year Cell ChEMBL ID Properties Action Type  \\\n",
       "0              NaN            NaN  CHEMBL4106362        NaN         NaN   \n",
       "1              NaN            NaN  CHEMBL4106362        NaN         NaN   \n",
       "2       J Med Chem         1996.0            NaN        NaN         NaN   \n",
       "3              NaN            NaN  CHEMBL4106362        NaN         NaN   \n",
       "4       J Med Chem         2000.0            NaN        NaN         NaN   \n",
       "\n",
       "   Standard Text Value  \n",
       "0                  NaN  \n",
       "1                  NaN  \n",
       "2                  NaN  \n",
       "3                  NaN  \n",
       "4                  NaN  "
      ]
     },
     "execution_count": 3,
     "metadata": {},
     "output_type": "execute_result"
    }
   ],
   "source": [
    "cox2db = pd.read_csv(\"data/ChEMBL_COX-2_2024-08-28.csv\", sep=\";\")\n",
    "cox2db.head(5)"
   ]
  },
  {
   "cell_type": "markdown",
   "id": "d056a096-8354-49f9-a34f-6d5e9beb1570",
   "metadata": {},
   "source": [
    "That's a lot of stuff. This is the list of columns available:"
   ]
  },
  {
   "cell_type": "code",
   "execution_count": 4,
   "id": "worthy-conversion",
   "metadata": {
    "tags": []
   },
   "outputs": [
    {
     "data": {
      "text/plain": [
       "Index(['Molecule ChEMBL ID', 'Molecule Name', 'Molecule Max Phase',\n",
       "       'Molecular Weight', '#RO5 Violations', 'AlogP', 'Compound Key',\n",
       "       'Smiles', 'Standard Type', 'Standard Relation', 'Standard Value',\n",
       "       'Standard Units', 'pChEMBL Value', 'Data Validity Comment', 'Comment',\n",
       "       'Uo Units', 'Ligand Efficiency BEI', 'Ligand Efficiency LE',\n",
       "       'Ligand Efficiency LLE', 'Ligand Efficiency SEI', 'Potential Duplicate',\n",
       "       'Assay ChEMBL ID', 'Assay Description', 'Assay Type', 'BAO Format ID',\n",
       "       'BAO Label', 'Assay Organism', 'Assay Tissue ChEMBL ID',\n",
       "       'Assay Tissue Name', 'Assay Cell Type', 'Assay Subcellular Fraction',\n",
       "       'Assay Parameters', 'Assay Variant Accession', 'Assay Variant Mutation',\n",
       "       'Target ChEMBL ID', 'Target Name', 'Target Organism', 'Target Type',\n",
       "       'Document ChEMBL ID', 'Source ID', 'Source Description',\n",
       "       'Document Journal', 'Document Year', 'Cell ChEMBL ID', 'Properties',\n",
       "       'Action Type', 'Standard Text Value'],\n",
       "      dtype='object')"
      ]
     },
     "execution_count": 4,
     "metadata": {},
     "output_type": "execute_result"
    }
   ],
   "source": [
    "cox2db.columns"
   ]
  },
  {
   "cell_type": "code",
   "execution_count": 5,
   "id": "brutal-stupid",
   "metadata": {
    "tags": []
   },
   "outputs": [
    {
     "data": {
      "text/plain": [
       "(13999, 47)"
      ]
     },
     "execution_count": 5,
     "metadata": {},
     "output_type": "execute_result"
    }
   ],
   "source": [
    "cox2db.shape"
   ]
  },
  {
   "cell_type": "markdown",
   "id": "dominant-removal",
   "metadata": {},
   "source": [
    "## Unique molecules"
   ]
  },
  {
   "cell_type": "markdown",
   "id": "lasting-capacity",
   "metadata": {},
   "source": [
    "The database has a total of 13,999 *entries*, which were collected from diverse sources. How many are really unique? We can check by the `ChEMBL ID`, which is an unique identifier for each molecule: "
   ]
  },
  {
   "cell_type": "code",
   "execution_count": 6,
   "id": "searching-thanks",
   "metadata": {
    "tags": []
   },
   "outputs": [
    {
     "data": {
      "text/plain": [
       "8582"
      ]
     },
     "execution_count": 6,
     "metadata": {},
     "output_type": "execute_result"
    }
   ],
   "source": [
    "len(cox2db['Molecule ChEMBL ID'].unique())"
   ]
  },
  {
   "cell_type": "markdown",
   "id": "federal-chapter",
   "metadata": {},
   "source": [
    "From the total of 13,999 entries, only 8,582 have unique IDs. \n",
    "\n",
    "Furthermore, if we check the SMILES representations:"
   ]
  },
  {
   "cell_type": "code",
   "execution_count": 7,
   "id": "essential-billy",
   "metadata": {
    "tags": []
   },
   "outputs": [
    {
     "data": {
      "text/plain": [
       "8545"
      ]
     },
     "execution_count": 7,
     "metadata": {},
     "output_type": "execute_result"
    }
   ],
   "source": [
    "len(cox2db['Smiles'].unique())"
   ]
  },
  {
   "cell_type": "markdown",
   "id": "7b0c78f4-9641-4b4f-96b0-05a42dc506f6",
   "metadata": {},
   "source": [
    "There seems to be some molecules with different IDs but the same SMILES!\n",
    "\n",
    "Let's look at the repetitions of molecules with the same ID:"
   ]
  },
  {
   "cell_type": "code",
   "execution_count": 8,
   "id": "aggregate-fifth",
   "metadata": {
    "tags": []
   },
   "outputs": [
    {
     "data": {
      "text/plain": [
       "Molecule ChEMBL ID\n",
       "CHEMBL118        291\n",
       "CHEMBL6          172\n",
       "CHEMBL122         83\n",
       "CHEMBL521         52\n",
       "CHEMBL7162        36\n",
       "                ... \n",
       "CHEMBL2105059      1\n",
       "CHEMBL1201338      1\n",
       "CHEMBL521686       1\n",
       "CHEMBL708          1\n",
       "CHEMBL1697733      1\n",
       "Name: count, Length: 8582, dtype: int64"
      ]
     },
     "execution_count": 8,
     "metadata": {},
     "output_type": "execute_result"
    }
   ],
   "source": [
    "id_counts = cox2db['Molecule ChEMBL ID'].value_counts()\n",
    "id_counts"
   ]
  },
  {
   "cell_type": "markdown",
   "id": "proved-serum",
   "metadata": {},
   "source": [
    "Some molecules appear in various experiments. For example, Celecoxib ([CHEMBL118](https://www.ebi.ac.uk/chembl/compound_report_card/CHEMBL118/)) is a reference in many studies."
   ]
  },
  {
   "cell_type": "code",
   "execution_count": 9,
   "id": "lyric-scratch",
   "metadata": {
    "tags": []
   },
   "outputs": [
    {
     "data": {
      "image/png": "[encoded data removed]",
      "text/plain": [
       "<rdkit.Chem.rdchem.Mol at 0x14f5265dbf40>"
      ]
     },
     "execution_count": 9,
     "metadata": {},
     "output_type": "execute_result"
    }
   ],
   "source": [
    "Chem.MolFromSmiles(cox2db[ cox2db['Molecule ChEMBL ID'] == 'CHEMBL118']['Smiles'].unique()[0])"
   ]
  },
  {
   "cell_type": "markdown",
   "id": "documented-growth",
   "metadata": {},
   "source": [
    "## Example: Celecoxib (CHEMBL118)"
   ]
  },
  {
   "cell_type": "markdown",
   "id": "assumed-shark",
   "metadata": {},
   "source": [
    "It is likely that the repetitions mean different assays. Especially, some common known COX-2 inhibitors are used in many assays as reference. For example, Celecoxib ([CHEMBL118](https://www.ebi.ac.uk/chembl/compound_report_card/CHEMBL118/)) appears in 287 different assays of 10 different types:"
   ]
  },
  {
   "cell_type": "code",
   "execution_count": 10,
   "id": "seventh-treaty",
   "metadata": {
    "tags": []
   },
   "outputs": [
    {
     "data": {
      "text/plain": [
       "287"
      ]
     },
     "execution_count": 10,
     "metadata": {},
     "output_type": "execute_result"
    }
   ],
   "source": [
    "len(cox2db[ cox2db['Molecule ChEMBL ID'] == 'CHEMBL118']['Assay ChEMBL ID'].unique())"
   ]
  },
  {
   "cell_type": "code",
   "execution_count": 11,
   "id": "elegant-natural",
   "metadata": {
    "tags": []
   },
   "outputs": [
    {
     "data": {
      "text/plain": [
       "Standard Type\n",
       "IC50          209\n",
       "Inhibition     66\n",
       "Activity        8\n",
       "Ki              2\n",
       "Delta G         1\n",
       "Ka              1\n",
       "FC              1\n",
       "INH             1\n",
       "AC50            1\n",
       "T1/2            1\n",
       "Name: count, dtype: int64"
      ]
     },
     "execution_count": 11,
     "metadata": {},
     "output_type": "execute_result"
    }
   ],
   "source": [
    "cox2db[ cox2db['Molecule ChEMBL ID'] == 'CHEMBL118']['Standard Type'].value_counts()"
   ]
  },
  {
   "cell_type": "markdown",
   "id": "straight-quantum",
   "metadata": {},
   "source": [
    "### $IC_{50}s$"
   ]
  },
  {
   "cell_type": "markdown",
   "id": "armed-people",
   "metadata": {},
   "source": [
    "Most values (209) are for IC50, which is notoriously imprecise. Note the variation in values:"
   ]
  },
  {
   "cell_type": "code",
   "execution_count": 12,
   "id": "listed-typing",
   "metadata": {
    "tags": []
   },
   "outputs": [
    {
     "data": {
      "text/plain": [
       "count       209.000000\n",
       "mean       4257.572967\n",
       "std       40029.361475\n",
       "min           0.520000\n",
       "25%          40.000000\n",
       "50%         100.000000\n",
       "75%         440.000000\n",
       "max      430000.000000\n",
       "Name: Standard Value, dtype: float64"
      ]
     },
     "execution_count": 12,
     "metadata": {},
     "output_type": "execute_result"
    }
   ],
   "source": [
    "cox2db[ (cox2db['Molecule ChEMBL ID'] == 'CHEMBL118') & (cox2db['Standard Type'] == 'IC50')][\"Standard Value\"].describe()"
   ]
  },
  {
   "cell_type": "markdown",
   "id": "e61f7967-e647-42ee-8bbe-2a59224ceeba",
   "metadata": {},
   "source": [
    "First, let's check how many different units are used:"
   ]
  },
  {
   "cell_type": "code",
   "execution_count": 13,
   "id": "abandoned-december",
   "metadata": {
    "tags": []
   },
   "outputs": [
    {
     "data": {
      "text/plain": [
       "array(['nM'], dtype=object)"
      ]
     },
     "execution_count": 13,
     "metadata": {},
     "output_type": "execute_result"
    }
   ],
   "source": [
    "cox2db[ (cox2db['Molecule ChEMBL ID'] == 'CHEMBL118') & (cox2db['Standard Type'] == 'IC50')][\"Standard Units\"].unique()"
   ]
  },
  {
   "cell_type": "markdown",
   "id": "1695033a-8eba-4e4a-8955-49a7cefdebf7",
   "metadata": {},
   "source": [
    "Good... At least it seems to have only one unit reported. So, let's take a look into the results:"
   ]
  },
  {
   "cell_type": "code",
   "execution_count": 14,
   "id": "unusual-rough",
   "metadata": {
    "tags": []
   },
   "outputs": [
    {
     "data": {
      "text/plain": [
       "[Text(0.5, 0, 'IC50 Value')]"
      ]
     },
     "execution_count": 14,
     "metadata": {},
     "output_type": "execute_result"
    },
    {
     "data": {
      "image/png": "[encoded data removed]",
      "text/plain": [
       "<Figure size 640x480 with 1 Axes>"
      ]
     },
     "metadata": {},
     "output_type": "display_data"
    }
   ],
   "source": [
    "g = sns.stripplot(data = cox2db[ (cox2db['Molecule ChEMBL ID'] == 'CHEMBL118') &\n",
    "                                 (cox2db['Standard Type'] == 'IC50')\n",
    "                               ], \n",
    "                   x = \"Standard Value\")\n",
    "g.set(xlabel='IC50 Value')"
   ]
  },
  {
   "cell_type": "markdown",
   "id": "7fd370aa-588c-482e-bbd3-8cb8f9db4321",
   "metadata": {},
   "source": [
    "Ugh!!\n",
    "\n",
    "The most likely reason for the very high values are wrong reported units or typos. ChEMBL provides a column with comments about data validity:"
   ]
  },
  {
   "cell_type": "code",
   "execution_count": 15,
   "id": "seventh-asset",
   "metadata": {
    "tags": []
   },
   "outputs": [
    {
     "data": {
      "text/plain": [
       "array([nan, 'Outside typical range', 'Potential transcription error',\n",
       "       'Potential missing data'], dtype=object)"
      ]
     },
     "execution_count": 15,
     "metadata": {},
     "output_type": "execute_result"
    }
   ],
   "source": [
    "cox2db['Data Validity Comment'].unique()"
   ]
  },
  {
   "cell_type": "markdown",
   "id": "da62b329-cbbd-4e07-83b2-2555386a732e",
   "metadata": {
    "tags": []
   },
   "source": [
    "Let's see which comments are in the database:"
   ]
  },
  {
   "cell_type": "code",
   "execution_count": 16,
   "id": "a56ff6cd-7481-4fb5-9b46-3df2426c429b",
   "metadata": {
    "tags": []
   },
   "outputs": [
    {
     "data": {
      "text/plain": [
       "Data Validity Comment\n",
       "Outside typical range            409\n",
       "Potential transcription error      9\n",
       "Potential missing data             1\n",
       "Name: count, dtype: int64"
      ]
     },
     "execution_count": 16,
     "metadata": {},
     "output_type": "execute_result"
    }
   ],
   "source": [
    "cox2db['Data Validity Comment'].value_counts()"
   ]
  },
  {
   "cell_type": "markdown",
   "id": "74b74544-1e8d-4139-864b-14e2252440d8",
   "metadata": {},
   "source": [
    "The `Data Validity Comment` column only has any contents when there is some indication that the data may be wrong. So, we can use this column to filter out obviuos outliers and dubious data. Does it get better?"
   ]
  },
  {
   "cell_type": "code",
   "execution_count": 17,
   "id": "d304ab8c-28b6-4989-8d5a-c298721f14da",
   "metadata": {
    "tags": []
   },
   "outputs": [
    {
     "data": {
      "text/plain": [
       "[Text(0.5, 0, 'IC50 Value')]"
      ]
     },
     "execution_count": 17,
     "metadata": {},
     "output_type": "execute_result"
    },
    {
     "data": {
      "image/png": "[encoded data removed]",
      "text/plain": [
       "<Figure size 640x480 with 1 Axes>"
      ]
     },
     "metadata": {},
     "output_type": "display_data"
    }
   ],
   "source": [
    "g = sns.stripplot(data = cox2db[ (cox2db['Molecule ChEMBL ID'] == 'CHEMBL118') &\n",
    "                                 (cox2db['Standard Type'] == 'IC50') &\n",
    "                                 (cox2db['Data Validity Comment'].isna())\n",
    "                               ], \n",
    "                   x = \"Standard Value\")\n",
    "g.set(xlabel='IC50 Value')"
   ]
  },
  {
   "cell_type": "markdown",
   "id": "linear-lobby",
   "metadata": {},
   "source": [
    "A bit better... But there's still some values that are way too high. If we remove the aberrant values above 1,000, we get:"
   ]
  },
  {
   "cell_type": "code",
   "execution_count": 18,
   "id": "silver-union",
   "metadata": {
    "tags": []
   },
   "outputs": [
    {
     "data": {
      "text/plain": [
       "[Text(0.5, 23.52222222222222, 'IC50 Value')]"
      ]
     },
     "execution_count": 18,
     "metadata": {},
     "output_type": "execute_result"
    },
    {
     "data": {
      "image/png": "[encoded data removed]",
      "text/plain": [
       "<Figure size 640x480 with 1 Axes>"
      ]
     },
     "metadata": {},
     "output_type": "display_data"
    }
   ],
   "source": [
    "g = sns.swarmplot(data = cox2db[ (cox2db['Molecule ChEMBL ID'] == 'CHEMBL118') &\n",
    "                                 (cox2db['Standard Type'] == 'IC50') &\n",
    "                                 (cox2db['Data Validity Comment'].isna()) &\n",
    "                                 (cox2db['Standard Value'] < 1000)\n",
    "                               ], \n",
    "                   x = \"Standard Value\")\n",
    "g.set(xlabel='IC50 Value')"
   ]
  },
  {
   "cell_type": "markdown",
   "id": "42d601e2-dabc-4399-9bfd-d410d6e74013",
   "metadata": {},
   "source": [
    "So, what is the $IC_{50}$ for Celecoxib, after all?"
   ]
  },
  {
   "cell_type": "markdown",
   "id": "artistic-allah",
   "metadata": {},
   "source": [
    "As an aside, instead of the $IC_{50}s$, we can use the $-Log(IC_{50})$ value, which has less variation. Let's look at it's distribution:"
   ]
  },
  {
   "cell_type": "code",
   "execution_count": 19,
   "id": "lined-harbor",
   "metadata": {
    "tags": []
   },
   "outputs": [
    {
     "data": {
      "text/plain": [
       "<Axes: xlabel='pChEMBL Value'>"
      ]
     },
     "execution_count": 19,
     "metadata": {},
     "output_type": "execute_result"
    },
    {
     "data": {
      "image/png": "[encoded data removed]",
      "text/plain": [
       "<Figure size 640x480 with 1 Axes>"
      ]
     },
     "metadata": {},
     "output_type": "display_data"
    }
   ],
   "source": [
    "sns.swarmplot(data=cox2db[(cox2db['Molecule ChEMBL ID'] == 'CHEMBL118') &\n",
    "                          (cox2db['Standard Type'] == 'IC50') &\n",
    "                          (cox2db['Standard Relation'] == \"'='\") &\n",
    "                          (cox2db['Data Validity Comment'].isna()) &\n",
    "                          (cox2db['Standard Value'] < 1000)\n",
    "                        ],\n",
    "             x='pChEMBL Value')"
   ]
  },
  {
   "cell_type": "markdown",
   "id": "offshore-computer",
   "metadata": {},
   "source": [
    "### Inhibition"
   ]
  },
  {
   "cell_type": "markdown",
   "id": "overhead-casting",
   "metadata": {},
   "source": [
    "66 of the experiments report \"Inhibition\": "
   ]
  },
  {
   "cell_type": "code",
   "execution_count": 20,
   "id": "affiliated-nutrition",
   "metadata": {
    "tags": []
   },
   "outputs": [
    {
     "data": {
      "text/plain": [
       "<Axes: xlabel='Standard Value', ylabel='Count'>"
      ]
     },
     "execution_count": 20,
     "metadata": {},
     "output_type": "execute_result"
    },
    {
     "data": {
      "image/png": "[encoded data removed]",
      "text/plain": [
       "<Figure size 640x480 with 1 Axes>"
      ]
     },
     "metadata": {},
     "output_type": "display_data"
    }
   ],
   "source": [
    "# Inhibition\n",
    "data = cox2db[ (cox2db['Molecule ChEMBL ID'] == 'CHEMBL118') &\n",
    "               (cox2db['Standard Type'] == 'Inhibition')     &\n",
    "               (cox2db['Standard Units'] == '%')]\n",
    "\n",
    "sns.histplot(data = data, x='Standard Value')"
   ]
  },
  {
   "cell_type": "code",
   "execution_count": 21,
   "id": "minor-poker",
   "metadata": {
    "tags": []
   },
   "outputs": [
    {
     "data": {
      "text/plain": [
       "count     63.000000\n",
       "mean      76.037873\n",
       "std       24.602662\n",
       "min        0.076000\n",
       "25%       60.500000\n",
       "50%       83.000000\n",
       "75%       96.200000\n",
       "max      100.000000\n",
       "Name: Standard Value, dtype: float64"
      ]
     },
     "execution_count": 21,
     "metadata": {},
     "output_type": "execute_result"
    }
   ],
   "source": [
    "data[\"Standard Value\"].describe()"
   ]
  },
  {
   "cell_type": "markdown",
   "id": "stuffed-services",
   "metadata": {},
   "source": [
    "### Activity"
   ]
  },
  {
   "cell_type": "markdown",
   "id": "personal-light",
   "metadata": {},
   "source": [
    "8 entries are just labeled \"Activity\", but the information seems meaningless. They are probably relative to some other compound, not shown here. That means those numbers cannot be used!"
   ]
  },
  {
   "cell_type": "code",
   "execution_count": 22,
   "id": "regulation-statistics",
   "metadata": {},
   "outputs": [
    {
     "data": {
      "text/plain": [
       "<Axes: xlabel='None', ylabel='Standard Value'>"
      ]
     },
     "execution_count": 22,
     "metadata": {},
     "output_type": "execute_result"
    },
    {
     "data": {
      "image/png": "[encoded data removed]",
      "text/plain": [
       "<Figure size 640x480 with 1 Axes>"
      ]
     },
     "metadata": {},
     "output_type": "display_data"
    }
   ],
   "source": [
    "data = cox2db[ (cox2db['Molecule ChEMBL ID'] == 'CHEMBL118') & (cox2db['Standard Type'] == 'Activity')]\n",
    "sns.barplot(data=data, x=data.index, y='Standard Value')"
   ]
  },
  {
   "cell_type": "markdown",
   "id": "usual-lawyer",
   "metadata": {},
   "source": [
    "### $\\Delta G$, $K_a$ and $K_i$"
   ]
  },
  {
   "cell_type": "markdown",
   "id": "humanitarian-clark",
   "metadata": {},
   "source": [
    "Those are usually the most precise types of data, but are harder to get. There's only 4 values in the data, and it turns out the numbers in the database are not very informative:"
   ]
  },
  {
   "cell_type": "code",
   "execution_count": 23,
   "id": "revised-discussion",
   "metadata": {
    "tags": []
   },
   "outputs": [
    {
     "data": {
      "text/html": [
       "<div>\n",
       "<style scoped>\n",
       "    .dataframe tbody tr th:only-of-type {\n",
       "        vertical-align: middle;\n",
       "    }\n",
       "\n",
       "    .dataframe tbody tr th {\n",
       "        vertical-align: top;\n",
       "    }\n",
       "\n",
       "    .dataframe thead th {\n",
       "        text-align: right;\n",
       "    }\n",
       "</style>\n",
       "<table border=\"1\" class=\"dataframe\">\n",
       "  <thead>\n",
       "    <tr style=\"text-align: right;\">\n",
       "      <th></th>\n",
       "      <th>Molecule ChEMBL ID</th>\n",
       "      <th>Molecule Name</th>\n",
       "      <th>Molecule Max Phase</th>\n",
       "      <th>Molecular Weight</th>\n",
       "      <th>#RO5 Violations</th>\n",
       "      <th>AlogP</th>\n",
       "      <th>Compound Key</th>\n",
       "      <th>Smiles</th>\n",
       "      <th>Standard Type</th>\n",
       "      <th>Standard Relation</th>\n",
       "      <th>Standard Value</th>\n",
       "      <th>Standard Units</th>\n",
       "      <th>pChEMBL Value</th>\n",
       "      <th>Data Validity Comment</th>\n",
       "      <th>Comment</th>\n",
       "      <th>Uo Units</th>\n",
       "      <th>Ligand Efficiency BEI</th>\n",
       "      <th>Ligand Efficiency LE</th>\n",
       "      <th>Ligand Efficiency LLE</th>\n",
       "      <th>Ligand Efficiency SEI</th>\n",
       "      <th>Potential Duplicate</th>\n",
       "      <th>Assay ChEMBL ID</th>\n",
       "      <th>Assay Description</th>\n",
       "      <th>Assay Type</th>\n",
       "      <th>BAO Format ID</th>\n",
       "      <th>BAO Label</th>\n",
       "      <th>Assay Organism</th>\n",
       "      <th>Assay Tissue ChEMBL ID</th>\n",
       "      <th>Assay Tissue Name</th>\n",
       "      <th>Assay Cell Type</th>\n",
       "      <th>Assay Subcellular Fraction</th>\n",
       "      <th>Assay Parameters</th>\n",
       "      <th>Assay Variant Accession</th>\n",
       "      <th>Assay Variant Mutation</th>\n",
       "      <th>Target ChEMBL ID</th>\n",
       "      <th>Target Name</th>\n",
       "      <th>Target Organism</th>\n",
       "      <th>Target Type</th>\n",
       "      <th>Document ChEMBL ID</th>\n",
       "      <th>Source ID</th>\n",
       "      <th>Source Description</th>\n",
       "      <th>Document Journal</th>\n",
       "      <th>Document Year</th>\n",
       "      <th>Cell ChEMBL ID</th>\n",
       "      <th>Properties</th>\n",
       "      <th>Action Type</th>\n",
       "      <th>Standard Text Value</th>\n",
       "    </tr>\n",
       "  </thead>\n",
       "  <tbody>\n",
       "    <tr>\n",
       "      <th>3856</th>\n",
       "      <td>CHEMBL118</td>\n",
       "      <td>CELECOXIB</td>\n",
       "      <td>4.0</td>\n",
       "      <td>381.38</td>\n",
       "      <td>0.0</td>\n",
       "      <td>3.51</td>\n",
       "      <td>1</td>\n",
       "      <td>Cc1ccc(-c2cc(C(F)(F)F)nn2-c2ccc(S(N)(=O)=O)cc2...</td>\n",
       "      <td>Delta G</td>\n",
       "      <td>'='</td>\n",
       "      <td>0.00</td>\n",
       "      <td>kCal mol-1</td>\n",
       "      <td>NaN</td>\n",
       "      <td>NaN</td>\n",
       "      <td>NaN</td>\n",
       "      <td>NaN</td>\n",
       "      <td>NaN</td>\n",
       "      <td>NaN</td>\n",
       "      <td>NaN</td>\n",
       "      <td>NaN</td>\n",
       "      <td>0</td>\n",
       "      <td>CHEMBL768430</td>\n",
       "      <td>Relative free energy of binding of compound to...</td>\n",
       "      <td>B</td>\n",
       "      <td>BAO_0000357</td>\n",
       "      <td>single protein format</td>\n",
       "      <td>NaN</td>\n",
       "      <td>NaN</td>\n",
       "      <td>NaN</td>\n",
       "      <td>NaN</td>\n",
       "      <td>NaN</td>\n",
       "      <td>NaN</td>\n",
       "      <td>NaN</td>\n",
       "      <td>NaN</td>\n",
       "      <td>CHEMBL230</td>\n",
       "      <td>Cyclooxygenase-2</td>\n",
       "      <td>Homo sapiens</td>\n",
       "      <td>SINGLE PROTEIN</td>\n",
       "      <td>CHEMBL1134800</td>\n",
       "      <td>1</td>\n",
       "      <td>Scientific Literature</td>\n",
       "      <td>Bioorg Med Chem Lett</td>\n",
       "      <td>2001.0</td>\n",
       "      <td>NaN</td>\n",
       "      <td>NaN</td>\n",
       "      <td>NaN</td>\n",
       "      <td>NaN</td>\n",
       "    </tr>\n",
       "    <tr>\n",
       "      <th>8232</th>\n",
       "      <td>CHEMBL118</td>\n",
       "      <td>CELECOXIB</td>\n",
       "      <td>4.0</td>\n",
       "      <td>381.38</td>\n",
       "      <td>0.0</td>\n",
       "      <td>3.51</td>\n",
       "      <td>CELECOXIB</td>\n",
       "      <td>Cc1ccc(-c2cc(C(F)(F)F)nn2-c2ccc(S(N)(=O)=O)cc2...</td>\n",
       "      <td>Ka</td>\n",
       "      <td>'='</td>\n",
       "      <td>2.15</td>\n",
       "      <td>10'4/M</td>\n",
       "      <td>NaN</td>\n",
       "      <td>NaN</td>\n",
       "      <td>NaN</td>\n",
       "      <td>NaN</td>\n",
       "      <td>NaN</td>\n",
       "      <td>NaN</td>\n",
       "      <td>NaN</td>\n",
       "      <td>NaN</td>\n",
       "      <td>0</td>\n",
       "      <td>CHEMBL3380382</td>\n",
       "      <td>Binding affinity to COX-2 (unknown origin) by ...</td>\n",
       "      <td>B</td>\n",
       "      <td>BAO_0000357</td>\n",
       "      <td>single protein format</td>\n",
       "      <td>Homo sapiens</td>\n",
       "      <td>NaN</td>\n",
       "      <td>NaN</td>\n",
       "      <td>NaN</td>\n",
       "      <td>NaN</td>\n",
       "      <td>NaN</td>\n",
       "      <td>NaN</td>\n",
       "      <td>NaN</td>\n",
       "      <td>CHEMBL230</td>\n",
       "      <td>Cyclooxygenase-2</td>\n",
       "      <td>Homo sapiens</td>\n",
       "      <td>SINGLE PROTEIN</td>\n",
       "      <td>CHEMBL3351295</td>\n",
       "      <td>1</td>\n",
       "      <td>Scientific Literature</td>\n",
       "      <td>Eur J Med Chem</td>\n",
       "      <td>2014.0</td>\n",
       "      <td>NaN</td>\n",
       "      <td>NaN</td>\n",
       "      <td>NaN</td>\n",
       "      <td>NaN</td>\n",
       "    </tr>\n",
       "    <tr>\n",
       "      <th>8265</th>\n",
       "      <td>CHEMBL118</td>\n",
       "      <td>CELECOXIB</td>\n",
       "      <td>4.0</td>\n",
       "      <td>381.38</td>\n",
       "      <td>0.0</td>\n",
       "      <td>3.51</td>\n",
       "      <td>CELECOXIB</td>\n",
       "      <td>Cc1ccc(-c2cc(C(F)(F)F)nn2-c2ccc(S(N)(=O)=O)cc2...</td>\n",
       "      <td>Ki</td>\n",
       "      <td>NaN</td>\n",
       "      <td>NaN</td>\n",
       "      <td>NaN</td>\n",
       "      <td>NaN</td>\n",
       "      <td>NaN</td>\n",
       "      <td>Note: corresponding IC50 reported as Active</td>\n",
       "      <td>NaN</td>\n",
       "      <td>NaN</td>\n",
       "      <td>NaN</td>\n",
       "      <td>NaN</td>\n",
       "      <td>NaN</td>\n",
       "      <td>0</td>\n",
       "      <td>CHEMBL1909131</td>\n",
       "      <td>DRUGMATRIX: Cyclooxygenase COX-2 enzyme inhibi...</td>\n",
       "      <td>B</td>\n",
       "      <td>BAO_0000219</td>\n",
       "      <td>cell-based format</td>\n",
       "      <td>NaN</td>\n",
       "      <td>NaN</td>\n",
       "      <td>NaN</td>\n",
       "      <td>Sf21</td>\n",
       "      <td>NaN</td>\n",
       "      <td>NaN</td>\n",
       "      <td>NaN</td>\n",
       "      <td>NaN</td>\n",
       "      <td>CHEMBL230</td>\n",
       "      <td>Cyclooxygenase-2</td>\n",
       "      <td>Homo sapiens</td>\n",
       "      <td>SINGLE PROTEIN</td>\n",
       "      <td>CHEMBL1909046</td>\n",
       "      <td>15</td>\n",
       "      <td>DrugMatrix</td>\n",
       "      <td>NaN</td>\n",
       "      <td>NaN</td>\n",
       "      <td>CHEMBL4106362</td>\n",
       "      <td>NaN</td>\n",
       "      <td>NaN</td>\n",
       "      <td>NaN</td>\n",
       "    </tr>\n",
       "    <tr>\n",
       "      <th>9734</th>\n",
       "      <td>CHEMBL118</td>\n",
       "      <td>CELECOXIB</td>\n",
       "      <td>4.0</td>\n",
       "      <td>381.38</td>\n",
       "      <td>0.0</td>\n",
       "      <td>3.51</td>\n",
       "      <td>Celecoxib</td>\n",
       "      <td>Cc1ccc(-c2cc(C(F)(F)F)nn2-c2ccc(S(N)(=O)=O)cc2...</td>\n",
       "      <td>Ki</td>\n",
       "      <td>'='</td>\n",
       "      <td>0.47</td>\n",
       "      <td>nM</td>\n",
       "      <td>9.33</td>\n",
       "      <td>NaN</td>\n",
       "      <td>NaN</td>\n",
       "      <td>UO_0000065</td>\n",
       "      <td>24.46</td>\n",
       "      <td>0.49</td>\n",
       "      <td>5.82</td>\n",
       "      <td>11.96</td>\n",
       "      <td>0</td>\n",
       "      <td>CHEMBL4810382</td>\n",
       "      <td>Inhibition of human recombinant COX-2 using ar...</td>\n",
       "      <td>B</td>\n",
       "      <td>BAO_0000357</td>\n",
       "      <td>single protein format</td>\n",
       "      <td>Homo sapiens</td>\n",
       "      <td>NaN</td>\n",
       "      <td>NaN</td>\n",
       "      <td>NaN</td>\n",
       "      <td>NaN</td>\n",
       "      <td>NaN</td>\n",
       "      <td>NaN</td>\n",
       "      <td>NaN</td>\n",
       "      <td>CHEMBL230</td>\n",
       "      <td>Cyclooxygenase-2</td>\n",
       "      <td>Homo sapiens</td>\n",
       "      <td>SINGLE PROTEIN</td>\n",
       "      <td>CHEMBL4808216</td>\n",
       "      <td>1</td>\n",
       "      <td>Scientific Literature</td>\n",
       "      <td>J Med Chem</td>\n",
       "      <td>2021.0</td>\n",
       "      <td>NaN</td>\n",
       "      <td>TIME = 1.0 hr</td>\n",
       "      <td>INHIBITOR</td>\n",
       "      <td>NaN</td>\n",
       "    </tr>\n",
       "  </tbody>\n",
       "</table>\n",
       "</div>"
      ],
      "text/plain": [
       "     Molecule ChEMBL ID Molecule Name  Molecule Max Phase  Molecular Weight  \\\n",
       "3856          CHEMBL118     CELECOXIB                 4.0            381.38   \n",
       "8232          CHEMBL118     CELECOXIB                 4.0            381.38   \n",
       "8265          CHEMBL118     CELECOXIB                 4.0            381.38   \n",
       "9734          CHEMBL118     CELECOXIB                 4.0            381.38   \n",
       "\n",
       "      #RO5 Violations  AlogP Compound Key  \\\n",
       "3856              0.0   3.51            1   \n",
       "8232              0.0   3.51    CELECOXIB   \n",
       "8265              0.0   3.51    CELECOXIB   \n",
       "9734              0.0   3.51    Celecoxib   \n",
       "\n",
       "                                                 Smiles Standard Type  \\\n",
       "3856  Cc1ccc(-c2cc(C(F)(F)F)nn2-c2ccc(S(N)(=O)=O)cc2...       Delta G   \n",
       "8232  Cc1ccc(-c2cc(C(F)(F)F)nn2-c2ccc(S(N)(=O)=O)cc2...            Ka   \n",
       "8265  Cc1ccc(-c2cc(C(F)(F)F)nn2-c2ccc(S(N)(=O)=O)cc2...            Ki   \n",
       "9734  Cc1ccc(-c2cc(C(F)(F)F)nn2-c2ccc(S(N)(=O)=O)cc2...            Ki   \n",
       "\n",
       "     Standard Relation  Standard Value Standard Units  pChEMBL Value  \\\n",
       "3856               '='            0.00     kCal mol-1            NaN   \n",
       "8232               '='            2.15         10'4/M            NaN   \n",
       "8265               NaN             NaN            NaN            NaN   \n",
       "9734               '='            0.47             nM           9.33   \n",
       "\n",
       "     Data Validity Comment                                      Comment  \\\n",
       "3856                   NaN                                          NaN   \n",
       "8232                   NaN                                          NaN   \n",
       "8265                   NaN  Note: corresponding IC50 reported as Active   \n",
       "9734                   NaN                                          NaN   \n",
       "\n",
       "        Uo Units  Ligand Efficiency BEI  Ligand Efficiency LE  \\\n",
       "3856         NaN                    NaN                   NaN   \n",
       "8232         NaN                    NaN                   NaN   \n",
       "8265         NaN                    NaN                   NaN   \n",
       "9734  UO_0000065                  24.46                  0.49   \n",
       "\n",
       "      Ligand Efficiency LLE  Ligand Efficiency SEI  Potential Duplicate  \\\n",
       "3856                    NaN                    NaN                    0   \n",
       "8232                    NaN                    NaN                    0   \n",
       "8265                    NaN                    NaN                    0   \n",
       "9734                   5.82                  11.96                    0   \n",
       "\n",
       "     Assay ChEMBL ID                                  Assay Description  \\\n",
       "3856    CHEMBL768430  Relative free energy of binding of compound to...   \n",
       "8232   CHEMBL3380382  Binding affinity to COX-2 (unknown origin) by ...   \n",
       "8265   CHEMBL1909131  DRUGMATRIX: Cyclooxygenase COX-2 enzyme inhibi...   \n",
       "9734   CHEMBL4810382  Inhibition of human recombinant COX-2 using ar...   \n",
       "\n",
       "     Assay Type BAO Format ID              BAO Label Assay Organism  \\\n",
       "3856          B   BAO_0000357  single protein format            NaN   \n",
       "8232          B   BAO_0000357  single protein format   Homo sapiens   \n",
       "8265          B   BAO_0000219      cell-based format            NaN   \n",
       "9734          B   BAO_0000357  single protein format   Homo sapiens   \n",
       "\n",
       "     Assay Tissue ChEMBL ID Assay Tissue Name Assay Cell Type  \\\n",
       "3856                    NaN               NaN             NaN   \n",
       "8232                    NaN               NaN             NaN   \n",
       "8265                    NaN               NaN            Sf21   \n",
       "9734                    NaN               NaN             NaN   \n",
       "\n",
       "     Assay Subcellular Fraction Assay Parameters  Assay Variant Accession  \\\n",
       "3856                        NaN              NaN                      NaN   \n",
       "8232                        NaN              NaN                      NaN   \n",
       "8265                        NaN              NaN                      NaN   \n",
       "9734                        NaN              NaN                      NaN   \n",
       "\n",
       "      Assay Variant Mutation Target ChEMBL ID       Target Name  \\\n",
       "3856                     NaN        CHEMBL230  Cyclooxygenase-2   \n",
       "8232                     NaN        CHEMBL230  Cyclooxygenase-2   \n",
       "8265                     NaN        CHEMBL230  Cyclooxygenase-2   \n",
       "9734                     NaN        CHEMBL230  Cyclooxygenase-2   \n",
       "\n",
       "     Target Organism     Target Type Document ChEMBL ID  Source ID  \\\n",
       "3856    Homo sapiens  SINGLE PROTEIN      CHEMBL1134800          1   \n",
       "8232    Homo sapiens  SINGLE PROTEIN      CHEMBL3351295          1   \n",
       "8265    Homo sapiens  SINGLE PROTEIN      CHEMBL1909046         15   \n",
       "9734    Homo sapiens  SINGLE PROTEIN      CHEMBL4808216          1   \n",
       "\n",
       "         Source Description      Document Journal  Document Year  \\\n",
       "3856  Scientific Literature  Bioorg Med Chem Lett         2001.0   \n",
       "8232  Scientific Literature        Eur J Med Chem         2014.0   \n",
       "8265             DrugMatrix                   NaN            NaN   \n",
       "9734  Scientific Literature            J Med Chem         2021.0   \n",
       "\n",
       "     Cell ChEMBL ID     Properties Action Type  Standard Text Value  \n",
       "3856            NaN            NaN         NaN                  NaN  \n",
       "8232            NaN            NaN         NaN                  NaN  \n",
       "8265  CHEMBL4106362            NaN         NaN                  NaN  \n",
       "9734            NaN  TIME = 1.0 hr   INHIBITOR                  NaN  "
      ]
     },
     "execution_count": 23,
     "metadata": {},
     "output_type": "execute_result"
    }
   ],
   "source": [
    "data = cox2db[ (cox2db['Molecule ChEMBL ID'] == 'CHEMBL118') &\n",
    "                 ((cox2db['Standard Type'] == 'Delta G') | \n",
    "                  (cox2db['Standard Type'] == 'Ka')      |\n",
    "                  (cox2db['Standard Type'] == 'Ki')\n",
    "                 )]\n",
    "data"
   ]
  },
  {
   "cell_type": "markdown",
   "id": "hispanic-embassy",
   "metadata": {},
   "source": [
    "This $K_a$ can be converted to a $\\Delta G$ by \n",
    "\n",
    "$\\Delta G = -R T Ln(K_a)$. \n",
    "\n",
    "Using:\n",
    "- $R = 1.987 \\times 10^{-3} kcal \\cdot K^{−1} \\cdot mol−1$\n",
    "- $T = 298 K$\n",
    "\n",
    "we get $\\Delta G = -5.91 kcal/mol$ ."
   ]
  },
  {
   "cell_type": "markdown",
   "id": "tested-grenada",
   "metadata": {},
   "source": [
    "## Exploring the Data Types in the Full Database"
   ]
  },
  {
   "cell_type": "code",
   "execution_count": 24,
   "id": "thermal-donor",
   "metadata": {
    "tags": []
   },
   "outputs": [
    {
     "data": {
      "text/plain": [
       "Standard Type\n",
       "IC50                                         7891\n",
       "Inhibition                                   3315\n",
       "AC50                                         1193\n",
       "Ki                                            899\n",
       "Activity                                      398\n",
       "Ratio IC50                                    110\n",
       "-log(RatioIC50)                                42\n",
       "NT                                             20\n",
       "Ka                                             18\n",
       "% Ctrl                                         15\n",
       "Enzyme inhibition                              12\n",
       "Imax                                           12\n",
       "Kd                                              8\n",
       "% Inhibition of Control Values (Mean n=2)       8\n",
       "T1/2                                            8\n",
       "FC                                              5\n",
       "ED50                                            4\n",
       "K                                               4\n",
       "Drug metabolism                                 4\n",
       "Delta G                                         4\n",
       "INH                                             4\n",
       "Km                                              3\n",
       "Selectivity                                     2\n",
       "IC80                                            2\n",
       "EC50                                            2\n",
       "% of inhibition                                 2\n",
       "Kcat/Km                                         2\n",
       "Kcat                                            2\n",
       "pIC50                                           1\n",
       "NI                                              1\n",
       "IC60                                            1\n",
       "effect                                          1\n",
       "Ratio                                           1\n",
       "deltaG                                          1\n",
       "deltaH                                          1\n",
       "% of effect                                     1\n",
       "TdeltaS                                         1\n",
       "Name: count, dtype: int64"
      ]
     },
     "execution_count": 24,
     "metadata": {},
     "output_type": "execute_result"
    }
   ],
   "source": [
    "data = cox2db['Standard Type'].value_counts()\n",
    "data"
   ]
  },
  {
   "cell_type": "code",
   "execution_count": 25,
   "id": "broken-grocery",
   "metadata": {
    "tags": []
   },
   "outputs": [
    {
     "name": "stderr",
     "output_type": "stream",
     "text": [
      "/scratch/local/42663685/ipykernel_2735565/1226048823.py:2: UserWarning: set_ticklabels() should only be used with a fixed number of ticks, i.e. after set_ticks() or using a FixedLocator.\n",
      "  g = g.set_xticklabels(g.get_xticklabels(),rotation=90)\n"
     ]
    },
    {
     "data": {
      "image/png": "[encoded data removed]",
      "text/plain": [
       "<Figure size 640x480 with 1 Axes>"
      ]
     },
     "metadata": {},
     "output_type": "display_data"
    }
   ],
   "source": [
    "g = sns.barplot(x=data.index, y=data.values)\n",
    "g = g.set_xticklabels(g.get_xticklabels(),rotation=90)"
   ]
  },
  {
   "cell_type": "markdown",
   "id": "alpine-jacket",
   "metadata": {},
   "source": [
    "So, most of the data is in the form of IC50s. Some molecules also have inhibition, Ki and activity. Let's take a look at the different kinds of data. "
   ]
  },
  {
   "cell_type": "markdown",
   "id": "hawaiian-firewall",
   "metadata": {},
   "source": [
    "### $IC_{50}s$"
   ]
  },
  {
   "cell_type": "markdown",
   "id": "conscious-maple",
   "metadata": {},
   "source": [
    "We got lucky with Celecoxib. When we look at the full data, the IC50 data is reported in many different units:"
   ]
  },
  {
   "cell_type": "code",
   "execution_count": 93,
   "id": "positive-uniform",
   "metadata": {
    "tags": []
   },
   "outputs": [
    {
     "data": {
      "text/plain": [
       "Standard Units\n",
       "nM         6882\n",
       "ug.mL-1      25\n",
       "%             1\n",
       "ug            1\n",
       "Name: count, dtype: int64"
      ]
     },
     "execution_count": 93,
     "metadata": {},
     "output_type": "execute_result"
    }
   ],
   "source": [
    "data = cox2db[cox2db['Standard Type'] == 'IC50']\n",
    "data['Standard Units'].value_counts()"
   ]
  },
  {
   "cell_type": "markdown",
   "id": "c06b6238-d680-4cfe-947e-cce1823a2598",
   "metadata": {},
   "source": [
    "We can probably discard all that are not in nM units. Still, even if we only consider the data in 'nM', apparently there's data without values, either in 'Standard Value' or 'pChEMBL value':"
   ]
  },
  {
   "cell_type": "code",
   "execution_count": 94,
   "id": "corrected-world",
   "metadata": {
    "tags": []
   },
   "outputs": [
    {
     "data": {
      "text/plain": [
       "(np.True_, np.True_)"
      ]
     },
     "execution_count": 94,
     "metadata": {},
     "output_type": "execute_result"
    }
   ],
   "source": [
    "data = data[ data['Standard Units'] == 'nM' ]\n",
    "data['Standard Value'].isna().any(), data['pChEMBL Value'].isna().any()"
   ]
  },
  {
   "cell_type": "markdown",
   "id": "0a225d58-cd8b-4294-95de-55ffc4326954",
   "metadata": {},
   "source": [
    "19 entries are missing the values:"
   ]
  },
  {
   "cell_type": "code",
   "execution_count": 95,
   "id": "floppy-alcohol",
   "metadata": {
    "tags": []
   },
   "outputs": [
    {
     "data": {
      "text/plain": [
       "np.int64(19)"
      ]
     },
     "execution_count": 95,
     "metadata": {},
     "output_type": "execute_result"
    }
   ],
   "source": [
    "data['Standard Value'].isna().sum()"
   ]
  },
  {
   "cell_type": "markdown",
   "id": "7f12812a-87e3-49ea-a444-bc9f080bc3a9",
   "metadata": {},
   "source": [
    "Also, 1 of them don't have SMILES string:"
   ]
  },
  {
   "cell_type": "code",
   "execution_count": 96,
   "id": "maritime-announcement",
   "metadata": {
    "tags": []
   },
   "outputs": [
    {
     "data": {
      "text/plain": [
       "np.int64(1)"
      ]
     },
     "execution_count": 96,
     "metadata": {},
     "output_type": "execute_result"
    }
   ],
   "source": [
    "data['Smiles'].isna().sum()"
   ]
  },
  {
   "cell_type": "markdown",
   "id": "b2af1691-db63-4492-b508-9a15ce9a3823",
   "metadata": {},
   "source": [
    "Some were out of detection limits:"
   ]
  },
  {
   "cell_type": "code",
   "execution_count": 97,
   "id": "e890830d-21ce-4856-b345-f81714548a56",
   "metadata": {
    "tags": []
   },
   "outputs": [
    {
     "data": {
      "text/plain": [
       "Standard Relation\n",
       "'='     5843\n",
       "'>'      964\n",
       "'<'       55\n",
       "'>='       1\n",
       "Name: count, dtype: int64"
      ]
     },
     "execution_count": 97,
     "metadata": {},
     "output_type": "execute_result"
    }
   ],
   "source": [
    "data['Standard Relation'].value_counts()"
   ]
  },
  {
   "cell_type": "markdown",
   "id": "headed-wrist",
   "metadata": {},
   "source": [
    "The maximum and minimum values are also weird an $IC_{50}$ of 0 nM makes no sense:"
   ]
  },
  {
   "cell_type": "code",
   "execution_count": 63,
   "id": "qualified-identity",
   "metadata": {
    "tags": []
   },
   "outputs": [
    {
     "data": {
      "text/plain": [
       "(np.float64(833335724.28), np.float64(0.0))"
      ]
     },
     "execution_count": 63,
     "metadata": {},
     "output_type": "execute_result"
    }
   ],
   "source": [
    "data['Standard Value'].max(), data['Standard Value'].min()"
   ]
  },
  {
   "cell_type": "code",
   "execution_count": 64,
   "id": "prospective-strand",
   "metadata": {
    "tags": []
   },
   "outputs": [
    {
     "data": {
      "text/plain": [
       "count    6.863000e+03\n",
       "mean     1.061091e+06\n",
       "std      1.973908e+07\n",
       "min      0.000000e+00\n",
       "25%      1.000000e+02\n",
       "50%      1.000000e+03\n",
       "75%      1.000000e+04\n",
       "max      8.333357e+08\n",
       "Name: Standard Value, dtype: float64"
      ]
     },
     "execution_count": 64,
     "metadata": {},
     "output_type": "execute_result"
    }
   ],
   "source": [
    "data['Standard Value'].describe()"
   ]
  },
  {
   "cell_type": "markdown",
   "id": "dd42246a-a336-414b-a405-94cacaa1671f",
   "metadata": {},
   "source": [
    "when preparing a final database, we'll need to filter those outliers."
   ]
  },
  {
   "cell_type": "markdown",
   "id": "smaller-blank",
   "metadata": {},
   "source": [
    "### Inhibition"
   ]
  },
  {
   "cell_type": "code",
   "execution_count": 65,
   "id": "purple-practice",
   "metadata": {
    "tags": []
   },
   "outputs": [],
   "source": [
    "data = cox2db[ cox2db['Standard Type'] == 'Inhibition' ]"
   ]
  },
  {
   "cell_type": "markdown",
   "id": "saving-article",
   "metadata": {},
   "source": [
    "Some inhibitions are in $\\mu M$ units, which doesn't make much sense. Let's remove those. "
   ]
  },
  {
   "cell_type": "code",
   "execution_count": 31,
   "id": "dense-message",
   "metadata": {
    "tags": []
   },
   "outputs": [
    {
     "data": {
      "text/plain": [
       "Standard Units\n",
       "%     3290\n",
       "uM      25\n",
       "Name: count, dtype: int64"
      ]
     },
     "execution_count": 31,
     "metadata": {},
     "output_type": "execute_result"
    }
   ],
   "source": [
    "data['Standard Units'].value_counts()"
   ]
  },
  {
   "cell_type": "code",
   "execution_count": 32,
   "id": "under-batch",
   "metadata": {
    "tags": []
   },
   "outputs": [],
   "source": [
    "data = data[ data['Standard Units'] == '%' ]"
   ]
  },
  {
   "cell_type": "markdown",
   "id": "3c19a1ae-2b11-497e-98b9-3501f03c9f91",
   "metadata": {
    "tags": []
   },
   "source": [
    "Some of the values are empty:"
   ]
  },
  {
   "cell_type": "code",
   "execution_count": 33,
   "id": "difficult-leader",
   "metadata": {
    "tags": []
   },
   "outputs": [
    {
     "data": {
      "text/plain": [
       "np.True_"
      ]
     },
     "execution_count": 33,
     "metadata": {},
     "output_type": "execute_result"
    }
   ],
   "source": [
    "data['Standard Value'].isna().any()"
   ]
  },
  {
   "cell_type": "code",
   "execution_count": 34,
   "id": "usual-ideal",
   "metadata": {
    "tags": []
   },
   "outputs": [
    {
     "data": {
      "text/plain": [
       "count    2903.000000\n",
       "mean       43.445277\n",
       "std        34.260686\n",
       "min      -125.000000\n",
       "25%        15.900000\n",
       "50%        39.000000\n",
       "75%        72.395000\n",
       "max       158.200000\n",
       "Name: Standard Value, dtype: float64"
      ]
     },
     "execution_count": 34,
     "metadata": {},
     "output_type": "execute_result"
    }
   ],
   "source": [
    "data['Standard Value'].describe()"
   ]
  },
  {
   "cell_type": "code",
   "execution_count": 35,
   "id": "collected-appearance",
   "metadata": {
    "tags": []
   },
   "outputs": [
    {
     "data": {
      "text/plain": [
       "<Axes: >"
      ]
     },
     "execution_count": 35,
     "metadata": {},
     "output_type": "execute_result"
    },
    {
     "data": {
      "image/png": "[encoded data removed]",
      "text/plain": [
       "<Figure size 640x480 with 1 Axes>"
      ]
     },
     "metadata": {},
     "output_type": "display_data"
    }
   ],
   "source": [
    "data['Standard Value'].hist()"
   ]
  },
  {
   "cell_type": "markdown",
   "id": "super-creator",
   "metadata": {},
   "source": [
    "What does it mean to have **negative** % inhibition????"
   ]
  },
  {
   "cell_type": "code",
   "execution_count": 36,
   "id": "million-prize",
   "metadata": {
    "tags": []
   },
   "outputs": [
    {
     "data": {
      "text/html": [
       "<div>\n",
       "<style scoped>\n",
       "    .dataframe tbody tr th:only-of-type {\n",
       "        vertical-align: middle;\n",
       "    }\n",
       "\n",
       "    .dataframe tbody tr th {\n",
       "        vertical-align: top;\n",
       "    }\n",
       "\n",
       "    .dataframe thead th {\n",
       "        text-align: right;\n",
       "    }\n",
       "</style>\n",
       "<table border=\"1\" class=\"dataframe\">\n",
       "  <thead>\n",
       "    <tr style=\"text-align: right;\">\n",
       "      <th></th>\n",
       "      <th>Molecule ChEMBL ID</th>\n",
       "      <th>Molecule Name</th>\n",
       "      <th>Molecule Max Phase</th>\n",
       "      <th>Molecular Weight</th>\n",
       "      <th>#RO5 Violations</th>\n",
       "      <th>AlogP</th>\n",
       "      <th>Compound Key</th>\n",
       "      <th>Smiles</th>\n",
       "      <th>Standard Type</th>\n",
       "      <th>Standard Relation</th>\n",
       "      <th>Standard Value</th>\n",
       "      <th>Standard Units</th>\n",
       "      <th>pChEMBL Value</th>\n",
       "      <th>Data Validity Comment</th>\n",
       "      <th>Comment</th>\n",
       "      <th>Uo Units</th>\n",
       "      <th>Ligand Efficiency BEI</th>\n",
       "      <th>Ligand Efficiency LE</th>\n",
       "      <th>Ligand Efficiency LLE</th>\n",
       "      <th>Ligand Efficiency SEI</th>\n",
       "      <th>Potential Duplicate</th>\n",
       "      <th>Assay ChEMBL ID</th>\n",
       "      <th>Assay Description</th>\n",
       "      <th>Assay Type</th>\n",
       "      <th>BAO Format ID</th>\n",
       "      <th>BAO Label</th>\n",
       "      <th>Assay Organism</th>\n",
       "      <th>Assay Tissue ChEMBL ID</th>\n",
       "      <th>Assay Tissue Name</th>\n",
       "      <th>Assay Cell Type</th>\n",
       "      <th>Assay Subcellular Fraction</th>\n",
       "      <th>Assay Parameters</th>\n",
       "      <th>Assay Variant Accession</th>\n",
       "      <th>Assay Variant Mutation</th>\n",
       "      <th>Target ChEMBL ID</th>\n",
       "      <th>Target Name</th>\n",
       "      <th>Target Organism</th>\n",
       "      <th>Target Type</th>\n",
       "      <th>Document ChEMBL ID</th>\n",
       "      <th>Source ID</th>\n",
       "      <th>Source Description</th>\n",
       "      <th>Document Journal</th>\n",
       "      <th>Document Year</th>\n",
       "      <th>Cell ChEMBL ID</th>\n",
       "      <th>Properties</th>\n",
       "      <th>Action Type</th>\n",
       "      <th>Standard Text Value</th>\n",
       "    </tr>\n",
       "  </thead>\n",
       "  <tbody>\n",
       "    <tr>\n",
       "      <th>33</th>\n",
       "      <td>CHEMBL18007</td>\n",
       "      <td>NaN</td>\n",
       "      <td>NaN</td>\n",
       "      <td>355.39</td>\n",
       "      <td>0.0</td>\n",
       "      <td>4.30</td>\n",
       "      <td>7</td>\n",
       "      <td>O=C1/C(=C(/O)c2ccccc2)c2ccccc2C(=O)N1Cc1ccccc1</td>\n",
       "      <td>Inhibition</td>\n",
       "      <td>'='</td>\n",
       "      <td>-3.0</td>\n",
       "      <td>%</td>\n",
       "      <td>NaN</td>\n",
       "      <td>NaN</td>\n",
       "      <td>NaN</td>\n",
       "      <td>UO_0000187</td>\n",
       "      <td>NaN</td>\n",
       "      <td>NaN</td>\n",
       "      <td>NaN</td>\n",
       "      <td>NaN</td>\n",
       "      <td>0</td>\n",
       "      <td>CHEMBL763345</td>\n",
       "      <td>Inhibitory activity against Prostaglandin G/H ...</td>\n",
       "      <td>B</td>\n",
       "      <td>BAO_0000357</td>\n",
       "      <td>single protein format</td>\n",
       "      <td>Cercopithecidae</td>\n",
       "      <td>NaN</td>\n",
       "      <td>NaN</td>\n",
       "      <td>NaN</td>\n",
       "      <td>NaN</td>\n",
       "      <td>NaN</td>\n",
       "      <td>NaN</td>\n",
       "      <td>NaN</td>\n",
       "      <td>CHEMBL230</td>\n",
       "      <td>Cyclooxygenase-2</td>\n",
       "      <td>Homo sapiens</td>\n",
       "      <td>SINGLE PROTEIN</td>\n",
       "      <td>CHEMBL1130988</td>\n",
       "      <td>1</td>\n",
       "      <td>Scientific Literature</td>\n",
       "      <td>Bioorg Med Chem Lett</td>\n",
       "      <td>1998.0</td>\n",
       "      <td>NaN</td>\n",
       "      <td>NaN</td>\n",
       "      <td>NaN</td>\n",
       "      <td>NaN</td>\n",
       "    </tr>\n",
       "    <tr>\n",
       "      <th>180</th>\n",
       "      <td>CHEMBL306894</td>\n",
       "      <td>NaN</td>\n",
       "      <td>NaN</td>\n",
       "      <td>365.41</td>\n",
       "      <td>0.0</td>\n",
       "      <td>2.78</td>\n",
       "      <td>6a</td>\n",
       "      <td>CS(=O)(=O)c1ccc(-c2cc(CO[N+](=O)[O-])nn2C2CCCC...</td>\n",
       "      <td>Inhibition</td>\n",
       "      <td>'='</td>\n",
       "      <td>-125.0</td>\n",
       "      <td>%</td>\n",
       "      <td>NaN</td>\n",
       "      <td>Outside typical range</td>\n",
       "      <td>NaN</td>\n",
       "      <td>UO_0000187</td>\n",
       "      <td>NaN</td>\n",
       "      <td>NaN</td>\n",
       "      <td>NaN</td>\n",
       "      <td>NaN</td>\n",
       "      <td>0</td>\n",
       "      <td>CHEMBL761116</td>\n",
       "      <td>Evaluation for percent inhibition of recombina...</td>\n",
       "      <td>B</td>\n",
       "      <td>BAO_0000221</td>\n",
       "      <td>tissue-based format</td>\n",
       "      <td>NaN</td>\n",
       "      <td>CHEMBL3638178</td>\n",
       "      <td>Blood</td>\n",
       "      <td>NaN</td>\n",
       "      <td>NaN</td>\n",
       "      <td>NaN</td>\n",
       "      <td>NaN</td>\n",
       "      <td>NaN</td>\n",
       "      <td>CHEMBL230</td>\n",
       "      <td>Cyclooxygenase-2</td>\n",
       "      <td>Homo sapiens</td>\n",
       "      <td>SINGLE PROTEIN</td>\n",
       "      <td>CHEMBL1149153</td>\n",
       "      <td>1</td>\n",
       "      <td>Scientific Literature</td>\n",
       "      <td>J Med Chem</td>\n",
       "      <td>2004.0</td>\n",
       "      <td>NaN</td>\n",
       "      <td>NaN</td>\n",
       "      <td>NaN</td>\n",
       "      <td>NaN</td>\n",
       "    </tr>\n",
       "    <tr>\n",
       "      <th>501</th>\n",
       "      <td>CHEMBL177083</td>\n",
       "      <td>NaN</td>\n",
       "      <td>NaN</td>\n",
       "      <td>394.84</td>\n",
       "      <td>0.0</td>\n",
       "      <td>2.85</td>\n",
       "      <td>25</td>\n",
       "      <td>COc1ccc2c(c1)C(O)=C(C(=O)Nc1ccc(Cl)cc1)N(C)S2(...</td>\n",
       "      <td>Inhibition</td>\n",
       "      <td>'='</td>\n",
       "      <td>-9.0</td>\n",
       "      <td>%</td>\n",
       "      <td>NaN</td>\n",
       "      <td>NaN</td>\n",
       "      <td>NaN</td>\n",
       "      <td>UO_0000187</td>\n",
       "      <td>NaN</td>\n",
       "      <td>NaN</td>\n",
       "      <td>NaN</td>\n",
       "      <td>NaN</td>\n",
       "      <td>0</td>\n",
       "      <td>CHEMBL763160</td>\n",
       "      <td>Inhibition of human Prostaglandin G/H synthase...</td>\n",
       "      <td>B</td>\n",
       "      <td>BAO_0000357</td>\n",
       "      <td>single protein format</td>\n",
       "      <td>NaN</td>\n",
       "      <td>NaN</td>\n",
       "      <td>NaN</td>\n",
       "      <td>NaN</td>\n",
       "      <td>NaN</td>\n",
       "      <td>NaN</td>\n",
       "      <td>NaN</td>\n",
       "      <td>NaN</td>\n",
       "      <td>CHEMBL230</td>\n",
       "      <td>Cyclooxygenase-2</td>\n",
       "      <td>Homo sapiens</td>\n",
       "      <td>SINGLE PROTEIN</td>\n",
       "      <td>CHEMBL1129978</td>\n",
       "      <td>1</td>\n",
       "      <td>Scientific Literature</td>\n",
       "      <td>J Med Chem</td>\n",
       "      <td>1997.0</td>\n",
       "      <td>NaN</td>\n",
       "      <td>NaN</td>\n",
       "      <td>NaN</td>\n",
       "      <td>NaN</td>\n",
       "    </tr>\n",
       "    <tr>\n",
       "      <th>642</th>\n",
       "      <td>CHEMBL367970</td>\n",
       "      <td>NaN</td>\n",
       "      <td>NaN</td>\n",
       "      <td>417.87</td>\n",
       "      <td>0.0</td>\n",
       "      <td>3.33</td>\n",
       "      <td>68</td>\n",
       "      <td>CN1C(C(=O)Nc2ccccc2)=C(O)c2c(c3cc(Cl)ccc3n2C)S...</td>\n",
       "      <td>Inhibition</td>\n",
       "      <td>'='</td>\n",
       "      <td>-3.0</td>\n",
       "      <td>%</td>\n",
       "      <td>NaN</td>\n",
       "      <td>NaN</td>\n",
       "      <td>NaN</td>\n",
       "      <td>UO_0000187</td>\n",
       "      <td>NaN</td>\n",
       "      <td>NaN</td>\n",
       "      <td>NaN</td>\n",
       "      <td>NaN</td>\n",
       "      <td>0</td>\n",
       "      <td>CHEMBL763159</td>\n",
       "      <td>Inhibition of human Prostaglandin G/H synthase...</td>\n",
       "      <td>B</td>\n",
       "      <td>BAO_0000357</td>\n",
       "      <td>single protein format</td>\n",
       "      <td>NaN</td>\n",
       "      <td>NaN</td>\n",
       "      <td>NaN</td>\n",
       "      <td>NaN</td>\n",
       "      <td>NaN</td>\n",
       "      <td>NaN</td>\n",
       "      <td>NaN</td>\n",
       "      <td>NaN</td>\n",
       "      <td>CHEMBL230</td>\n",
       "      <td>Cyclooxygenase-2</td>\n",
       "      <td>Homo sapiens</td>\n",
       "      <td>SINGLE PROTEIN</td>\n",
       "      <td>CHEMBL1129978</td>\n",
       "      <td>1</td>\n",
       "      <td>Scientific Literature</td>\n",
       "      <td>J Med Chem</td>\n",
       "      <td>1997.0</td>\n",
       "      <td>NaN</td>\n",
       "      <td>NaN</td>\n",
       "      <td>NaN</td>\n",
       "      <td>NaN</td>\n",
       "    </tr>\n",
       "    <tr>\n",
       "      <th>672</th>\n",
       "      <td>CHEMBL4872569</td>\n",
       "      <td>NaN</td>\n",
       "      <td>NaN</td>\n",
       "      <td>315.35</td>\n",
       "      <td>0.0</td>\n",
       "      <td>2.43</td>\n",
       "      <td>5b</td>\n",
       "      <td>Cc1cc(-c2cccnc2)nn1S(=O)(=O)Oc1ccccc1</td>\n",
       "      <td>Inhibition</td>\n",
       "      <td>'='</td>\n",
       "      <td>-2.0</td>\n",
       "      <td>%</td>\n",
       "      <td>NaN</td>\n",
       "      <td>NaN</td>\n",
       "      <td>NaN</td>\n",
       "      <td>UO_0000187</td>\n",
       "      <td>NaN</td>\n",
       "      <td>NaN</td>\n",
       "      <td>NaN</td>\n",
       "      <td>NaN</td>\n",
       "      <td>0</td>\n",
       "      <td>CHEMBL4810972</td>\n",
       "      <td>Inhibition of human recombinant COX-2 assessed...</td>\n",
       "      <td>B</td>\n",
       "      <td>BAO_0000357</td>\n",
       "      <td>single protein format</td>\n",
       "      <td>Homo sapiens</td>\n",
       "      <td>NaN</td>\n",
       "      <td>NaN</td>\n",
       "      <td>NaN</td>\n",
       "      <td>NaN</td>\n",
       "      <td>NaN</td>\n",
       "      <td>NaN</td>\n",
       "      <td>NaN</td>\n",
       "      <td>CHEMBL230</td>\n",
       "      <td>Cyclooxygenase-2</td>\n",
       "      <td>Homo sapiens</td>\n",
       "      <td>SINGLE PROTEIN</td>\n",
       "      <td>CHEMBL4808246</td>\n",
       "      <td>1</td>\n",
       "      <td>Scientific Literature</td>\n",
       "      <td>Bioorg Med Chem</td>\n",
       "      <td>2021.0</td>\n",
       "      <td>NaN</td>\n",
       "      <td>Dose = 0.1 microM | TIME = 1.033 hr</td>\n",
       "      <td>NaN</td>\n",
       "      <td>NaN</td>\n",
       "    </tr>\n",
       "  </tbody>\n",
       "</table>\n",
       "</div>"
      ],
      "text/plain": [
       "    Molecule ChEMBL ID Molecule Name  Molecule Max Phase  Molecular Weight  \\\n",
       "33         CHEMBL18007           NaN                 NaN            355.39   \n",
       "180       CHEMBL306894           NaN                 NaN            365.41   \n",
       "501       CHEMBL177083           NaN                 NaN            394.84   \n",
       "642       CHEMBL367970           NaN                 NaN            417.87   \n",
       "672      CHEMBL4872569           NaN                 NaN            315.35   \n",
       "\n",
       "     #RO5 Violations  AlogP Compound Key  \\\n",
       "33               0.0   4.30            7   \n",
       "180              0.0   2.78           6a   \n",
       "501              0.0   2.85           25   \n",
       "642              0.0   3.33           68   \n",
       "672              0.0   2.43           5b   \n",
       "\n",
       "                                                Smiles Standard Type  \\\n",
       "33      O=C1/C(=C(/O)c2ccccc2)c2ccccc2C(=O)N1Cc1ccccc1    Inhibition   \n",
       "180  CS(=O)(=O)c1ccc(-c2cc(CO[N+](=O)[O-])nn2C2CCCC...    Inhibition   \n",
       "501  COc1ccc2c(c1)C(O)=C(C(=O)Nc1ccc(Cl)cc1)N(C)S2(...    Inhibition   \n",
       "642  CN1C(C(=O)Nc2ccccc2)=C(O)c2c(c3cc(Cl)ccc3n2C)S...    Inhibition   \n",
       "672              Cc1cc(-c2cccnc2)nn1S(=O)(=O)Oc1ccccc1    Inhibition   \n",
       "\n",
       "    Standard Relation  Standard Value Standard Units  pChEMBL Value  \\\n",
       "33                '='            -3.0              %            NaN   \n",
       "180               '='          -125.0              %            NaN   \n",
       "501               '='            -9.0              %            NaN   \n",
       "642               '='            -3.0              %            NaN   \n",
       "672               '='            -2.0              %            NaN   \n",
       "\n",
       "     Data Validity Comment Comment    Uo Units  Ligand Efficiency BEI  \\\n",
       "33                     NaN     NaN  UO_0000187                    NaN   \n",
       "180  Outside typical range     NaN  UO_0000187                    NaN   \n",
       "501                    NaN     NaN  UO_0000187                    NaN   \n",
       "642                    NaN     NaN  UO_0000187                    NaN   \n",
       "672                    NaN     NaN  UO_0000187                    NaN   \n",
       "\n",
       "     Ligand Efficiency LE  Ligand Efficiency LLE  Ligand Efficiency SEI  \\\n",
       "33                    NaN                    NaN                    NaN   \n",
       "180                   NaN                    NaN                    NaN   \n",
       "501                   NaN                    NaN                    NaN   \n",
       "642                   NaN                    NaN                    NaN   \n",
       "672                   NaN                    NaN                    NaN   \n",
       "\n",
       "     Potential Duplicate Assay ChEMBL ID  \\\n",
       "33                     0    CHEMBL763345   \n",
       "180                    0    CHEMBL761116   \n",
       "501                    0    CHEMBL763160   \n",
       "642                    0    CHEMBL763159   \n",
       "672                    0   CHEMBL4810972   \n",
       "\n",
       "                                     Assay Description Assay Type  \\\n",
       "33   Inhibitory activity against Prostaglandin G/H ...          B   \n",
       "180  Evaluation for percent inhibition of recombina...          B   \n",
       "501  Inhibition of human Prostaglandin G/H synthase...          B   \n",
       "642  Inhibition of human Prostaglandin G/H synthase...          B   \n",
       "672  Inhibition of human recombinant COX-2 assessed...          B   \n",
       "\n",
       "    BAO Format ID              BAO Label   Assay Organism  \\\n",
       "33    BAO_0000357  single protein format  Cercopithecidae   \n",
       "180   BAO_0000221    tissue-based format              NaN   \n",
       "501   BAO_0000357  single protein format              NaN   \n",
       "642   BAO_0000357  single protein format              NaN   \n",
       "672   BAO_0000357  single protein format     Homo sapiens   \n",
       "\n",
       "    Assay Tissue ChEMBL ID Assay Tissue Name Assay Cell Type  \\\n",
       "33                     NaN               NaN             NaN   \n",
       "180          CHEMBL3638178             Blood             NaN   \n",
       "501                    NaN               NaN             NaN   \n",
       "642                    NaN               NaN             NaN   \n",
       "672                    NaN               NaN             NaN   \n",
       "\n",
       "    Assay Subcellular Fraction Assay Parameters  Assay Variant Accession  \\\n",
       "33                         NaN              NaN                      NaN   \n",
       "180                        NaN              NaN                      NaN   \n",
       "501                        NaN              NaN                      NaN   \n",
       "642                        NaN              NaN                      NaN   \n",
       "672                        NaN              NaN                      NaN   \n",
       "\n",
       "     Assay Variant Mutation Target ChEMBL ID       Target Name  \\\n",
       "33                      NaN        CHEMBL230  Cyclooxygenase-2   \n",
       "180                     NaN        CHEMBL230  Cyclooxygenase-2   \n",
       "501                     NaN        CHEMBL230  Cyclooxygenase-2   \n",
       "642                     NaN        CHEMBL230  Cyclooxygenase-2   \n",
       "672                     NaN        CHEMBL230  Cyclooxygenase-2   \n",
       "\n",
       "    Target Organism     Target Type Document ChEMBL ID  Source ID  \\\n",
       "33     Homo sapiens  SINGLE PROTEIN      CHEMBL1130988          1   \n",
       "180    Homo sapiens  SINGLE PROTEIN      CHEMBL1149153          1   \n",
       "501    Homo sapiens  SINGLE PROTEIN      CHEMBL1129978          1   \n",
       "642    Homo sapiens  SINGLE PROTEIN      CHEMBL1129978          1   \n",
       "672    Homo sapiens  SINGLE PROTEIN      CHEMBL4808246          1   \n",
       "\n",
       "        Source Description      Document Journal  Document Year  \\\n",
       "33   Scientific Literature  Bioorg Med Chem Lett         1998.0   \n",
       "180  Scientific Literature            J Med Chem         2004.0   \n",
       "501  Scientific Literature            J Med Chem         1997.0   \n",
       "642  Scientific Literature            J Med Chem         1997.0   \n",
       "672  Scientific Literature       Bioorg Med Chem         2021.0   \n",
       "\n",
       "    Cell ChEMBL ID                           Properties Action Type  \\\n",
       "33             NaN                                  NaN         NaN   \n",
       "180            NaN                                  NaN         NaN   \n",
       "501            NaN                                  NaN         NaN   \n",
       "642            NaN                                  NaN         NaN   \n",
       "672            NaN  Dose = 0.1 microM | TIME = 1.033 hr         NaN   \n",
       "\n",
       "     Standard Text Value  \n",
       "33                   NaN  \n",
       "180                  NaN  \n",
       "501                  NaN  \n",
       "642                  NaN  \n",
       "672                  NaN  "
      ]
     },
     "execution_count": 36,
     "metadata": {},
     "output_type": "execute_result"
    }
   ],
   "source": [
    "data[data['Standard Value'] < 0].head()"
   ]
  },
  {
   "cell_type": "markdown",
   "id": "injured-founder",
   "metadata": {},
   "source": [
    "A look at the source for the second entry reveals that this compound can actually be considered an activator of COX-2!!\n",
    " - ChEMBL Document [CHEMBL1149153](https://www.ebi.ac.uk/chembl/document_report_card/CHEMBL1149153/)\n",
    " - J. Med. Chem. 2004, 47, 9, 2180–2193 [here](https://pubs.acs.org/doi/10.1021/jm030276s)\n",
    " \n",
    " \n",
    "That means that, to use inhibitions, we should also remove data vith inhibition < 0. "
   ]
  },
  {
   "cell_type": "markdown",
   "id": "d9e1e42f-d9df-4fd3-b5cb-91a675928977",
   "metadata": {},
   "source": [
    "**Exercise:** Check the presence of valid dat and SMILES."
   ]
  },
  {
   "cell_type": "markdown",
   "id": "d7e4adf8-c365-4839-9413-baa6bfa135b9",
   "metadata": {
    "tags": []
   },
   "source": [
    "### $AC_{50}s$"
   ]
  },
  {
   "cell_type": "markdown",
   "id": "73bc524c-2d1c-4025-ab32-9273c389c57f",
   "metadata": {},
   "source": [
    "The third in the list is the concentration for half-maximal activity, $AC_{50}$:"
   ]
  },
  {
   "cell_type": "code",
   "execution_count": 37,
   "id": "1de5396a-56d8-413e-931c-7751b0bae89c",
   "metadata": {
    "tags": []
   },
   "outputs": [
    {
     "data": {
      "text/plain": [
       "Standard Units\n",
       "nM    1193\n",
       "Name: count, dtype: int64"
      ]
     },
     "execution_count": 37,
     "metadata": {},
     "output_type": "execute_result"
    }
   ],
   "source": [
    "data = cox2db[cox2db['Standard Type'] == 'AC50']\n",
    "data['Standard Units'].value_counts()"
   ]
  },
  {
   "cell_type": "markdown",
   "id": "84a620fb-c2c7-46ca-b379-d17497287860",
   "metadata": {},
   "source": [
    "So, they are all in the same units, which is good. However, some are missing the 'pChEMBL value':"
   ]
  },
  {
   "cell_type": "code",
   "execution_count": 38,
   "id": "e29f68f2-1ad1-4952-92ab-41ad9040d101",
   "metadata": {
    "tags": []
   },
   "outputs": [
    {
     "data": {
      "text/plain": [
       "(np.False_, np.True_)"
      ]
     },
     "execution_count": 38,
     "metadata": {},
     "output_type": "execute_result"
    }
   ],
   "source": [
    "data['Standard Value'].isna().any(), data['pChEMBL Value'].isna().any()"
   ]
  },
  {
   "cell_type": "markdown",
   "id": "556ed45e-02bb-47df-85a1-12f3c9e3a97a",
   "metadata": {},
   "source": [
    "There's also a weird variation in values:"
   ]
  },
  {
   "cell_type": "code",
   "execution_count": 39,
   "id": "cd6650e0-fc42-4abc-9e1e-057d72ce3cb5",
   "metadata": {
    "tags": []
   },
   "outputs": [
    {
     "data": {
      "text/plain": [
       "(np.float64(1000000.0), np.float64(48.4))"
      ]
     },
     "execution_count": 39,
     "metadata": {},
     "output_type": "execute_result"
    }
   ],
   "source": [
    "data['Standard Value'].max(), data['Standard Value'].min()"
   ]
  },
  {
   "cell_type": "code",
   "execution_count": 40,
   "id": "0f245bea-826d-44dc-8785-8cf93b6444c0",
   "metadata": {
    "tags": []
   },
   "outputs": [
    {
     "data": {
      "text/plain": [
       "count       1193.000000\n",
       "mean       27801.344091\n",
       "std        41885.943446\n",
       "min           48.400000\n",
       "25%        10000.000000\n",
       "50%        30000.000000\n",
       "75%        30000.000000\n",
       "max      1000000.000000\n",
       "Name: Standard Value, dtype: float64"
      ]
     },
     "execution_count": 40,
     "metadata": {},
     "output_type": "execute_result"
    }
   ],
   "source": [
    "data['Standard Value'].describe()"
   ]
  },
  {
   "cell_type": "code",
   "execution_count": 41,
   "id": "b969c984-a6d7-48ed-8fd7-066ce89cf601",
   "metadata": {
    "tags": []
   },
   "outputs": [
    {
     "data": {
      "text/plain": [
       "<Axes: xlabel='Standard Value', ylabel='Count'>"
      ]
     },
     "execution_count": 41,
     "metadata": {},
     "output_type": "execute_result"
    },
    {
     "data": {
      "image/png": "[encoded data removed]",
      "text/plain": [
       "<Figure size 640x480 with 1 Axes>"
      ]
     },
     "metadata": {},
     "output_type": "display_data"
    }
   ],
   "source": [
    "sns.histplot(data = data, x='Standard Value')"
   ]
  },
  {
   "cell_type": "markdown",
   "id": "33236339-8dae-4ed8-85b5-e382e461b1c1",
   "metadata": {},
   "source": [
    "Again, Ugh! The very large values are likely \"inactive\" molecules, where the data is reported just as _greater than_ some detection limit $X$ "
   ]
  },
  {
   "cell_type": "code",
   "execution_count": 42,
   "id": "818814ce-d07c-47b4-bc97-59b30737da9a",
   "metadata": {
    "tags": []
   },
   "outputs": [
    {
     "data": {
      "text/plain": [
       "Standard Relation\n",
       "'>'    1052\n",
       "'='     141\n",
       "Name: count, dtype: int64"
      ]
     },
     "execution_count": 42,
     "metadata": {},
     "output_type": "execute_result"
    }
   ],
   "source": [
    "data[\"Standard Relation\"].value_counts()"
   ]
  },
  {
   "cell_type": "markdown",
   "id": "a8485681-dd58-41cc-a1da-9e503a697dee",
   "metadata": {},
   "source": [
    "So, only about 141 points with real numbers."
   ]
  },
  {
   "cell_type": "markdown",
   "id": "abroad-squad",
   "metadata": {},
   "source": [
    "### $K_i$"
   ]
  },
  {
   "cell_type": "markdown",
   "id": "matched-edmonton",
   "metadata": {},
   "source": [
    "Next, lets look at $K_i$, with 899 entries."
   ]
  },
  {
   "cell_type": "code",
   "execution_count": 43,
   "id": "everyday-balance",
   "metadata": {
    "tags": []
   },
   "outputs": [],
   "source": [
    "data = cox2db[ cox2db['Standard Type'] == 'Ki' ]"
   ]
  },
  {
   "cell_type": "markdown",
   "id": "straight-illustration",
   "metadata": {},
   "source": [
    "From those, most have no value reported, because the dose-response curve could not be determined:"
   ]
  },
  {
   "cell_type": "code",
   "execution_count": 44,
   "id": "compressed-anniversary",
   "metadata": {
    "tags": []
   },
   "outputs": [
    {
     "data": {
      "text/plain": [
       "np.int64(871)"
      ]
     },
     "execution_count": 44,
     "metadata": {},
     "output_type": "execute_result"
    }
   ],
   "source": [
    "data['Standard Value'].isna().sum()"
   ]
  },
  {
   "cell_type": "code",
   "execution_count": 45,
   "id": "twelve-mission",
   "metadata": {
    "tags": []
   },
   "outputs": [
    {
     "data": {
      "text/html": [
       "<div>\n",
       "<style scoped>\n",
       "    .dataframe tbody tr th:only-of-type {\n",
       "        vertical-align: middle;\n",
       "    }\n",
       "\n",
       "    .dataframe tbody tr th {\n",
       "        vertical-align: top;\n",
       "    }\n",
       "\n",
       "    .dataframe thead th {\n",
       "        text-align: right;\n",
       "    }\n",
       "</style>\n",
       "<table border=\"1\" class=\"dataframe\">\n",
       "  <thead>\n",
       "    <tr style=\"text-align: right;\">\n",
       "      <th></th>\n",
       "      <th>Molecule ChEMBL ID</th>\n",
       "      <th>Molecule Name</th>\n",
       "      <th>Molecule Max Phase</th>\n",
       "      <th>Molecular Weight</th>\n",
       "      <th>#RO5 Violations</th>\n",
       "      <th>AlogP</th>\n",
       "      <th>Compound Key</th>\n",
       "      <th>Smiles</th>\n",
       "      <th>Standard Type</th>\n",
       "      <th>Standard Relation</th>\n",
       "      <th>Standard Value</th>\n",
       "      <th>Standard Units</th>\n",
       "      <th>pChEMBL Value</th>\n",
       "      <th>Data Validity Comment</th>\n",
       "      <th>Comment</th>\n",
       "      <th>Uo Units</th>\n",
       "      <th>Ligand Efficiency BEI</th>\n",
       "      <th>Ligand Efficiency LE</th>\n",
       "      <th>Ligand Efficiency LLE</th>\n",
       "      <th>Ligand Efficiency SEI</th>\n",
       "      <th>Potential Duplicate</th>\n",
       "      <th>Assay ChEMBL ID</th>\n",
       "      <th>Assay Description</th>\n",
       "      <th>Assay Type</th>\n",
       "      <th>BAO Format ID</th>\n",
       "      <th>BAO Label</th>\n",
       "      <th>Assay Organism</th>\n",
       "      <th>Assay Tissue ChEMBL ID</th>\n",
       "      <th>Assay Tissue Name</th>\n",
       "      <th>Assay Cell Type</th>\n",
       "      <th>Assay Subcellular Fraction</th>\n",
       "      <th>Assay Parameters</th>\n",
       "      <th>Assay Variant Accession</th>\n",
       "      <th>Assay Variant Mutation</th>\n",
       "      <th>Target ChEMBL ID</th>\n",
       "      <th>Target Name</th>\n",
       "      <th>Target Organism</th>\n",
       "      <th>Target Type</th>\n",
       "      <th>Document ChEMBL ID</th>\n",
       "      <th>Source ID</th>\n",
       "      <th>Source Description</th>\n",
       "      <th>Document Journal</th>\n",
       "      <th>Document Year</th>\n",
       "      <th>Cell ChEMBL ID</th>\n",
       "      <th>Properties</th>\n",
       "      <th>Action Type</th>\n",
       "      <th>Standard Text Value</th>\n",
       "    </tr>\n",
       "  </thead>\n",
       "  <tbody>\n",
       "    <tr>\n",
       "      <th>0</th>\n",
       "      <td>CHEMBL1200623</td>\n",
       "      <td>ETHYLESTRENOL</td>\n",
       "      <td>4.0</td>\n",
       "      <td>288.48</td>\n",
       "      <td>1.0</td>\n",
       "      <td>5.09</td>\n",
       "      <td>ETHYLESTRENOL</td>\n",
       "      <td>CC[C@]1(O)CC[C@H]2[C@@H]3CCC4=CCCC[C@@H]4[C@H]...</td>\n",
       "      <td>Ki</td>\n",
       "      <td>NaN</td>\n",
       "      <td>NaN</td>\n",
       "      <td>NaN</td>\n",
       "      <td>NaN</td>\n",
       "      <td>NaN</td>\n",
       "      <td>Not Active (inhibition &lt; 50% @ 10 uM and thus ...</td>\n",
       "      <td>NaN</td>\n",
       "      <td>NaN</td>\n",
       "      <td>NaN</td>\n",
       "      <td>NaN</td>\n",
       "      <td>NaN</td>\n",
       "      <td>0</td>\n",
       "      <td>CHEMBL1909131</td>\n",
       "      <td>DRUGMATRIX: Cyclooxygenase COX-2 enzyme inhibi...</td>\n",
       "      <td>B</td>\n",
       "      <td>BAO_0000219</td>\n",
       "      <td>cell-based format</td>\n",
       "      <td>NaN</td>\n",
       "      <td>NaN</td>\n",
       "      <td>NaN</td>\n",
       "      <td>Sf21</td>\n",
       "      <td>NaN</td>\n",
       "      <td>NaN</td>\n",
       "      <td>NaN</td>\n",
       "      <td>NaN</td>\n",
       "      <td>CHEMBL230</td>\n",
       "      <td>Cyclooxygenase-2</td>\n",
       "      <td>Homo sapiens</td>\n",
       "      <td>SINGLE PROTEIN</td>\n",
       "      <td>CHEMBL1909046</td>\n",
       "      <td>15</td>\n",
       "      <td>DrugMatrix</td>\n",
       "      <td>NaN</td>\n",
       "      <td>NaN</td>\n",
       "      <td>CHEMBL4106362</td>\n",
       "      <td>NaN</td>\n",
       "      <td>NaN</td>\n",
       "      <td>NaN</td>\n",
       "    </tr>\n",
       "  </tbody>\n",
       "</table>\n",
       "</div>"
      ],
      "text/plain": [
       "  Molecule ChEMBL ID  Molecule Name  Molecule Max Phase  Molecular Weight  \\\n",
       "0      CHEMBL1200623  ETHYLESTRENOL                 4.0            288.48   \n",
       "\n",
       "   #RO5 Violations  AlogP   Compound Key  \\\n",
       "0              1.0   5.09  ETHYLESTRENOL   \n",
       "\n",
       "                                              Smiles Standard Type  \\\n",
       "0  CC[C@]1(O)CC[C@H]2[C@@H]3CCC4=CCCC[C@@H]4[C@H]...            Ki   \n",
       "\n",
       "  Standard Relation  Standard Value Standard Units  pChEMBL Value  \\\n",
       "0               NaN             NaN            NaN            NaN   \n",
       "\n",
       "  Data Validity Comment                                            Comment  \\\n",
       "0                   NaN  Not Active (inhibition < 50% @ 10 uM and thus ...   \n",
       "\n",
       "  Uo Units  Ligand Efficiency BEI  Ligand Efficiency LE  \\\n",
       "0      NaN                    NaN                   NaN   \n",
       "\n",
       "   Ligand Efficiency LLE  Ligand Efficiency SEI  Potential Duplicate  \\\n",
       "0                    NaN                    NaN                    0   \n",
       "\n",
       "  Assay ChEMBL ID                                  Assay Description  \\\n",
       "0   CHEMBL1909131  DRUGMATRIX: Cyclooxygenase COX-2 enzyme inhibi...   \n",
       "\n",
       "  Assay Type BAO Format ID          BAO Label Assay Organism  \\\n",
       "0          B   BAO_0000219  cell-based format            NaN   \n",
       "\n",
       "  Assay Tissue ChEMBL ID Assay Tissue Name Assay Cell Type  \\\n",
       "0                    NaN               NaN            Sf21   \n",
       "\n",
       "  Assay Subcellular Fraction Assay Parameters  Assay Variant Accession  \\\n",
       "0                        NaN              NaN                      NaN   \n",
       "\n",
       "   Assay Variant Mutation Target ChEMBL ID       Target Name Target Organism  \\\n",
       "0                     NaN        CHEMBL230  Cyclooxygenase-2    Homo sapiens   \n",
       "\n",
       "      Target Type Document ChEMBL ID  Source ID Source Description  \\\n",
       "0  SINGLE PROTEIN      CHEMBL1909046         15         DrugMatrix   \n",
       "\n",
       "  Document Journal  Document Year Cell ChEMBL ID Properties Action Type  \\\n",
       "0              NaN            NaN  CHEMBL4106362        NaN         NaN   \n",
       "\n",
       "   Standard Text Value  \n",
       "0                  NaN  "
      ]
     },
     "execution_count": 45,
     "metadata": {},
     "output_type": "execute_result"
    }
   ],
   "source": [
    "data.head(1)"
   ]
  },
  {
   "cell_type": "code",
   "execution_count": 46,
   "id": "sound-combat",
   "metadata": {
    "tags": []
   },
   "outputs": [
    {
     "name": "stdout",
     "output_type": "stream",
     "text": [
      "Not Active (inhibition < 50% @ 10 uM and thus dose-reponse curve not measured)\n"
     ]
    }
   ],
   "source": [
    "print(data.loc[0]['Comment'])"
   ]
  },
  {
   "cell_type": "markdown",
   "id": "identical-following",
   "metadata": {},
   "source": [
    "Ant those that have a value reported include a range of different data. Some of the data are only \" > \" a certain threshold, indicating not active. "
   ]
  },
  {
   "cell_type": "code",
   "execution_count": 47,
   "id": "chief-rwanda",
   "metadata": {
    "tags": []
   },
   "outputs": [
    {
     "data": {
      "text/plain": [
       "Standard Relation\n",
       "'='    26\n",
       "'>'     2\n",
       "Name: count, dtype: int64"
      ]
     },
     "execution_count": 47,
     "metadata": {},
     "output_type": "execute_result"
    }
   ],
   "source": [
    "data[data['Standard Value'].notna()]['Standard Relation'].value_counts()"
   ]
  },
  {
   "cell_type": "markdown",
   "id": "electronic-analysis",
   "metadata": {},
   "source": [
    "Also, some have $K_i = 0$:"
   ]
  },
  {
   "cell_type": "markdown",
   "id": "combined-multiple",
   "metadata": {},
   "source": [
    "### Activity\n",
    "Activity, which is listed for 398 cases:"
   ]
  },
  {
   "cell_type": "code",
   "execution_count": 48,
   "id": "african-translator",
   "metadata": {
    "tags": []
   },
   "outputs": [],
   "source": [
    "data = cox2db[ cox2db['Standard Type'] == 'Activity' ]"
   ]
  },
  {
   "cell_type": "code",
   "execution_count": 49,
   "id": "spread-variable",
   "metadata": {
    "tags": []
   },
   "outputs": [
    {
     "data": {
      "text/plain": [
       "Standard Units\n",
       "%        226\n",
       "pg/ml     23\n",
       "ng/ml     17\n",
       "Name: count, dtype: int64"
      ]
     },
     "execution_count": 49,
     "metadata": {},
     "output_type": "execute_result"
    }
   ],
   "source": [
    "data['Standard Units'].value_counts()"
   ]
  },
  {
   "cell_type": "code",
   "execution_count": 50,
   "id": "tribal-particular",
   "metadata": {
    "tags": []
   },
   "outputs": [
    {
     "data": {
      "text/html": [
       "<div>\n",
       "<style scoped>\n",
       "    .dataframe tbody tr th:only-of-type {\n",
       "        vertical-align: middle;\n",
       "    }\n",
       "\n",
       "    .dataframe tbody tr th {\n",
       "        vertical-align: top;\n",
       "    }\n",
       "\n",
       "    .dataframe thead th {\n",
       "        text-align: right;\n",
       "    }\n",
       "</style>\n",
       "<table border=\"1\" class=\"dataframe\">\n",
       "  <thead>\n",
       "    <tr style=\"text-align: right;\">\n",
       "      <th></th>\n",
       "      <th>Molecule ChEMBL ID</th>\n",
       "      <th>Molecule Name</th>\n",
       "      <th>Molecule Max Phase</th>\n",
       "      <th>Molecular Weight</th>\n",
       "      <th>#RO5 Violations</th>\n",
       "      <th>AlogP</th>\n",
       "      <th>Compound Key</th>\n",
       "      <th>Smiles</th>\n",
       "      <th>Standard Type</th>\n",
       "      <th>Standard Relation</th>\n",
       "      <th>Standard Value</th>\n",
       "      <th>Standard Units</th>\n",
       "      <th>pChEMBL Value</th>\n",
       "      <th>Data Validity Comment</th>\n",
       "      <th>Comment</th>\n",
       "      <th>Uo Units</th>\n",
       "      <th>Ligand Efficiency BEI</th>\n",
       "      <th>Ligand Efficiency LE</th>\n",
       "      <th>Ligand Efficiency LLE</th>\n",
       "      <th>Ligand Efficiency SEI</th>\n",
       "      <th>Potential Duplicate</th>\n",
       "      <th>Assay ChEMBL ID</th>\n",
       "      <th>Assay Description</th>\n",
       "      <th>Assay Type</th>\n",
       "      <th>BAO Format ID</th>\n",
       "      <th>BAO Label</th>\n",
       "      <th>Assay Organism</th>\n",
       "      <th>Assay Tissue ChEMBL ID</th>\n",
       "      <th>Assay Tissue Name</th>\n",
       "      <th>Assay Cell Type</th>\n",
       "      <th>Assay Subcellular Fraction</th>\n",
       "      <th>Assay Parameters</th>\n",
       "      <th>Assay Variant Accession</th>\n",
       "      <th>Assay Variant Mutation</th>\n",
       "      <th>Target ChEMBL ID</th>\n",
       "      <th>Target Name</th>\n",
       "      <th>Target Organism</th>\n",
       "      <th>Target Type</th>\n",
       "      <th>Document ChEMBL ID</th>\n",
       "      <th>Source ID</th>\n",
       "      <th>Source Description</th>\n",
       "      <th>Document Journal</th>\n",
       "      <th>Document Year</th>\n",
       "      <th>Cell ChEMBL ID</th>\n",
       "      <th>Properties</th>\n",
       "      <th>Action Type</th>\n",
       "      <th>Standard Text Value</th>\n",
       "    </tr>\n",
       "  </thead>\n",
       "  <tbody>\n",
       "    <tr>\n",
       "      <th>1901</th>\n",
       "      <td>CHEMBL3809156</td>\n",
       "      <td>NaN</td>\n",
       "      <td>NaN</td>\n",
       "      <td>406.48</td>\n",
       "      <td>0.0</td>\n",
       "      <td>-0.51</td>\n",
       "      <td>30</td>\n",
       "      <td>COC(=O)[C@H](CC(C)C)NC(=O)[C@H](Cc1ccccc1)NC(=...</td>\n",
       "      <td>Activity</td>\n",
       "      <td>'='</td>\n",
       "      <td>0.08</td>\n",
       "      <td>ng/ml</td>\n",
       "      <td>NaN</td>\n",
       "      <td>NaN</td>\n",
       "      <td>NaN</td>\n",
       "      <td>UO_0000275</td>\n",
       "      <td>NaN</td>\n",
       "      <td>NaN</td>\n",
       "      <td>NaN</td>\n",
       "      <td>NaN</td>\n",
       "      <td>0</td>\n",
       "      <td>CHEMBL3811634</td>\n",
       "      <td>Inhibition of COX2 in healthy human whole bloo...</td>\n",
       "      <td>B</td>\n",
       "      <td>BAO_0000221</td>\n",
       "      <td>tissue-based format</td>\n",
       "      <td>Homo sapiens</td>\n",
       "      <td>CHEMBL3638178</td>\n",
       "      <td>Blood</td>\n",
       "      <td>NaN</td>\n",
       "      <td>NaN</td>\n",
       "      <td>NaN</td>\n",
       "      <td>NaN</td>\n",
       "      <td>NaN</td>\n",
       "      <td>CHEMBL230</td>\n",
       "      <td>Cyclooxygenase-2</td>\n",
       "      <td>Homo sapiens</td>\n",
       "      <td>SINGLE PROTEIN</td>\n",
       "      <td>CHEMBL3808358</td>\n",
       "      <td>1</td>\n",
       "      <td>Scientific Literature</td>\n",
       "      <td>J Med Chem</td>\n",
       "      <td>2016.0</td>\n",
       "      <td>NaN</td>\n",
       "      <td>NaN</td>\n",
       "      <td>NaN</td>\n",
       "      <td>NaN</td>\n",
       "    </tr>\n",
       "    <tr>\n",
       "      <th>2608</th>\n",
       "      <td>CHEMBL6</td>\n",
       "      <td>INDOMETHACIN</td>\n",
       "      <td>4.0</td>\n",
       "      <td>357.79</td>\n",
       "      <td>0.0</td>\n",
       "      <td>3.93</td>\n",
       "      <td>indomethacin</td>\n",
       "      <td>COc1ccc2c(c1)c(CC(=O)O)c(C)n2C(=O)c1ccc(Cl)cc1</td>\n",
       "      <td>Activity</td>\n",
       "      <td>'='</td>\n",
       "      <td>2.10</td>\n",
       "      <td>ng/ml</td>\n",
       "      <td>NaN</td>\n",
       "      <td>NaN</td>\n",
       "      <td>NaN</td>\n",
       "      <td>UO_0000275</td>\n",
       "      <td>NaN</td>\n",
       "      <td>NaN</td>\n",
       "      <td>NaN</td>\n",
       "      <td>NaN</td>\n",
       "      <td>0</td>\n",
       "      <td>CHEMBL3811634</td>\n",
       "      <td>Inhibition of COX2 in healthy human whole bloo...</td>\n",
       "      <td>B</td>\n",
       "      <td>BAO_0000221</td>\n",
       "      <td>tissue-based format</td>\n",
       "      <td>Homo sapiens</td>\n",
       "      <td>CHEMBL3638178</td>\n",
       "      <td>Blood</td>\n",
       "      <td>NaN</td>\n",
       "      <td>NaN</td>\n",
       "      <td>NaN</td>\n",
       "      <td>NaN</td>\n",
       "      <td>NaN</td>\n",
       "      <td>CHEMBL230</td>\n",
       "      <td>Cyclooxygenase-2</td>\n",
       "      <td>Homo sapiens</td>\n",
       "      <td>SINGLE PROTEIN</td>\n",
       "      <td>CHEMBL3808358</td>\n",
       "      <td>1</td>\n",
       "      <td>Scientific Literature</td>\n",
       "      <td>J Med Chem</td>\n",
       "      <td>2016.0</td>\n",
       "      <td>NaN</td>\n",
       "      <td>NaN</td>\n",
       "      <td>NaN</td>\n",
       "      <td>NaN</td>\n",
       "    </tr>\n",
       "    <tr>\n",
       "      <th>3784</th>\n",
       "      <td>CHEMBL4640256</td>\n",
       "      <td>NaN</td>\n",
       "      <td>NaN</td>\n",
       "      <td>414.90</td>\n",
       "      <td>0.0</td>\n",
       "      <td>2.50</td>\n",
       "      <td>10</td>\n",
       "      <td>COC(=O)[C@@H](N)Cc1cn(-c2nc(Cl)nc(N3CCCCC3)n2)...</td>\n",
       "      <td>Activity</td>\n",
       "      <td>'='</td>\n",
       "      <td>0.45</td>\n",
       "      <td>ng/ml</td>\n",
       "      <td>NaN</td>\n",
       "      <td>NaN</td>\n",
       "      <td>NaN</td>\n",
       "      <td>UO_0000275</td>\n",
       "      <td>NaN</td>\n",
       "      <td>NaN</td>\n",
       "      <td>NaN</td>\n",
       "      <td>NaN</td>\n",
       "      <td>0</td>\n",
       "      <td>CHEMBL4610813</td>\n",
       "      <td>Inhibition of LPS-activated COX2 in human whol...</td>\n",
       "      <td>B</td>\n",
       "      <td>BAO_0000221</td>\n",
       "      <td>tissue-based format</td>\n",
       "      <td>Homo sapiens</td>\n",
       "      <td>CHEMBL3638178</td>\n",
       "      <td>Blood</td>\n",
       "      <td>NaN</td>\n",
       "      <td>NaN</td>\n",
       "      <td>NaN</td>\n",
       "      <td>NaN</td>\n",
       "      <td>NaN</td>\n",
       "      <td>CHEMBL230</td>\n",
       "      <td>Cyclooxygenase-2</td>\n",
       "      <td>Homo sapiens</td>\n",
       "      <td>SINGLE PROTEIN</td>\n",
       "      <td>CHEMBL4610009</td>\n",
       "      <td>1</td>\n",
       "      <td>Scientific Literature</td>\n",
       "      <td>Bioorg Med Chem</td>\n",
       "      <td>2020.0</td>\n",
       "      <td>NaN</td>\n",
       "      <td>NaN</td>\n",
       "      <td>NaN</td>\n",
       "      <td>NaN</td>\n",
       "    </tr>\n",
       "    <tr>\n",
       "      <th>3785</th>\n",
       "      <td>CHEMBL6</td>\n",
       "      <td>INDOMETHACIN</td>\n",
       "      <td>4.0</td>\n",
       "      <td>357.79</td>\n",
       "      <td>0.0</td>\n",
       "      <td>3.93</td>\n",
       "      <td>Indomethacin</td>\n",
       "      <td>COc1ccc2c(c1)c(CC(=O)O)c(C)n2C(=O)c1ccc(Cl)cc1</td>\n",
       "      <td>Activity</td>\n",
       "      <td>'='</td>\n",
       "      <td>0.98</td>\n",
       "      <td>ng/ml</td>\n",
       "      <td>NaN</td>\n",
       "      <td>NaN</td>\n",
       "      <td>NaN</td>\n",
       "      <td>UO_0000275</td>\n",
       "      <td>NaN</td>\n",
       "      <td>NaN</td>\n",
       "      <td>NaN</td>\n",
       "      <td>NaN</td>\n",
       "      <td>0</td>\n",
       "      <td>CHEMBL4610813</td>\n",
       "      <td>Inhibition of LPS-activated COX2 in human whol...</td>\n",
       "      <td>B</td>\n",
       "      <td>BAO_0000221</td>\n",
       "      <td>tissue-based format</td>\n",
       "      <td>Homo sapiens</td>\n",
       "      <td>CHEMBL3638178</td>\n",
       "      <td>Blood</td>\n",
       "      <td>NaN</td>\n",
       "      <td>NaN</td>\n",
       "      <td>NaN</td>\n",
       "      <td>NaN</td>\n",
       "      <td>NaN</td>\n",
       "      <td>CHEMBL230</td>\n",
       "      <td>Cyclooxygenase-2</td>\n",
       "      <td>Homo sapiens</td>\n",
       "      <td>SINGLE PROTEIN</td>\n",
       "      <td>CHEMBL4610009</td>\n",
       "      <td>1</td>\n",
       "      <td>Scientific Literature</td>\n",
       "      <td>Bioorg Med Chem</td>\n",
       "      <td>2020.0</td>\n",
       "      <td>NaN</td>\n",
       "      <td>NaN</td>\n",
       "      <td>NaN</td>\n",
       "      <td>NaN</td>\n",
       "    </tr>\n",
       "    <tr>\n",
       "      <th>4287</th>\n",
       "      <td>CHEMBL4164251</td>\n",
       "      <td>NaN</td>\n",
       "      <td>NaN</td>\n",
       "      <td>320.74</td>\n",
       "      <td>0.0</td>\n",
       "      <td>1.21</td>\n",
       "      <td>2</td>\n",
       "      <td>Nc1nc(Cl)nc(Nc2ccc(N3CCOCC3=O)cc2)n1</td>\n",
       "      <td>Activity</td>\n",
       "      <td>'='</td>\n",
       "      <td>1.14</td>\n",
       "      <td>ng/ml</td>\n",
       "      <td>NaN</td>\n",
       "      <td>NaN</td>\n",
       "      <td>NaN</td>\n",
       "      <td>UO_0000275</td>\n",
       "      <td>NaN</td>\n",
       "      <td>NaN</td>\n",
       "      <td>NaN</td>\n",
       "      <td>NaN</td>\n",
       "      <td>0</td>\n",
       "      <td>CHEMBL4151940</td>\n",
       "      <td>Inhibition of COX2 in human whole blood assess...</td>\n",
       "      <td>B</td>\n",
       "      <td>BAO_0000357</td>\n",
       "      <td>single protein format</td>\n",
       "      <td>Homo sapiens</td>\n",
       "      <td>NaN</td>\n",
       "      <td>NaN</td>\n",
       "      <td>NaN</td>\n",
       "      <td>NaN</td>\n",
       "      <td>NaN</td>\n",
       "      <td>NaN</td>\n",
       "      <td>NaN</td>\n",
       "      <td>CHEMBL230</td>\n",
       "      <td>Cyclooxygenase-2</td>\n",
       "      <td>Homo sapiens</td>\n",
       "      <td>SINGLE PROTEIN</td>\n",
       "      <td>CHEMBL4145689</td>\n",
       "      <td>1</td>\n",
       "      <td>Scientific Literature</td>\n",
       "      <td>J Med Chem</td>\n",
       "      <td>2018.0</td>\n",
       "      <td>NaN</td>\n",
       "      <td>NaN</td>\n",
       "      <td>NaN</td>\n",
       "      <td>NaN</td>\n",
       "    </tr>\n",
       "  </tbody>\n",
       "</table>\n",
       "</div>"
      ],
      "text/plain": [
       "     Molecule ChEMBL ID Molecule Name  Molecule Max Phase  Molecular Weight  \\\n",
       "1901      CHEMBL3809156           NaN                 NaN            406.48   \n",
       "2608            CHEMBL6  INDOMETHACIN                 4.0            357.79   \n",
       "3784      CHEMBL4640256           NaN                 NaN            414.90   \n",
       "3785            CHEMBL6  INDOMETHACIN                 4.0            357.79   \n",
       "4287      CHEMBL4164251           NaN                 NaN            320.74   \n",
       "\n",
       "      #RO5 Violations  AlogP  Compound Key  \\\n",
       "1901              0.0  -0.51            30   \n",
       "2608              0.0   3.93  indomethacin   \n",
       "3784              0.0   2.50            10   \n",
       "3785              0.0   3.93  Indomethacin   \n",
       "4287              0.0   1.21             2   \n",
       "\n",
       "                                                 Smiles Standard Type  \\\n",
       "1901  COC(=O)[C@H](CC(C)C)NC(=O)[C@H](Cc1ccccc1)NC(=...      Activity   \n",
       "2608     COc1ccc2c(c1)c(CC(=O)O)c(C)n2C(=O)c1ccc(Cl)cc1      Activity   \n",
       "3784  COC(=O)[C@@H](N)Cc1cn(-c2nc(Cl)nc(N3CCCCC3)n2)...      Activity   \n",
       "3785     COc1ccc2c(c1)c(CC(=O)O)c(C)n2C(=O)c1ccc(Cl)cc1      Activity   \n",
       "4287               Nc1nc(Cl)nc(Nc2ccc(N3CCOCC3=O)cc2)n1      Activity   \n",
       "\n",
       "     Standard Relation  Standard Value Standard Units  pChEMBL Value  \\\n",
       "1901               '='            0.08          ng/ml            NaN   \n",
       "2608               '='            2.10          ng/ml            NaN   \n",
       "3784               '='            0.45          ng/ml            NaN   \n",
       "3785               '='            0.98          ng/ml            NaN   \n",
       "4287               '='            1.14          ng/ml            NaN   \n",
       "\n",
       "     Data Validity Comment Comment    Uo Units  Ligand Efficiency BEI  \\\n",
       "1901                   NaN     NaN  UO_0000275                    NaN   \n",
       "2608                   NaN     NaN  UO_0000275                    NaN   \n",
       "3784                   NaN     NaN  UO_0000275                    NaN   \n",
       "3785                   NaN     NaN  UO_0000275                    NaN   \n",
       "4287                   NaN     NaN  UO_0000275                    NaN   \n",
       "\n",
       "      Ligand Efficiency LE  Ligand Efficiency LLE  Ligand Efficiency SEI  \\\n",
       "1901                   NaN                    NaN                    NaN   \n",
       "2608                   NaN                    NaN                    NaN   \n",
       "3784                   NaN                    NaN                    NaN   \n",
       "3785                   NaN                    NaN                    NaN   \n",
       "4287                   NaN                    NaN                    NaN   \n",
       "\n",
       "      Potential Duplicate Assay ChEMBL ID  \\\n",
       "1901                    0   CHEMBL3811634   \n",
       "2608                    0   CHEMBL3811634   \n",
       "3784                    0   CHEMBL4610813   \n",
       "3785                    0   CHEMBL4610813   \n",
       "4287                    0   CHEMBL4151940   \n",
       "\n",
       "                                      Assay Description Assay Type  \\\n",
       "1901  Inhibition of COX2 in healthy human whole bloo...          B   \n",
       "2608  Inhibition of COX2 in healthy human whole bloo...          B   \n",
       "3784  Inhibition of LPS-activated COX2 in human whol...          B   \n",
       "3785  Inhibition of LPS-activated COX2 in human whol...          B   \n",
       "4287  Inhibition of COX2 in human whole blood assess...          B   \n",
       "\n",
       "     BAO Format ID              BAO Label Assay Organism  \\\n",
       "1901   BAO_0000221    tissue-based format   Homo sapiens   \n",
       "2608   BAO_0000221    tissue-based format   Homo sapiens   \n",
       "3784   BAO_0000221    tissue-based format   Homo sapiens   \n",
       "3785   BAO_0000221    tissue-based format   Homo sapiens   \n",
       "4287   BAO_0000357  single protein format   Homo sapiens   \n",
       "\n",
       "     Assay Tissue ChEMBL ID Assay Tissue Name Assay Cell Type  \\\n",
       "1901          CHEMBL3638178             Blood             NaN   \n",
       "2608          CHEMBL3638178             Blood             NaN   \n",
       "3784          CHEMBL3638178             Blood             NaN   \n",
       "3785          CHEMBL3638178             Blood             NaN   \n",
       "4287                    NaN               NaN             NaN   \n",
       "\n",
       "     Assay Subcellular Fraction Assay Parameters  Assay Variant Accession  \\\n",
       "1901                        NaN              NaN                      NaN   \n",
       "2608                        NaN              NaN                      NaN   \n",
       "3784                        NaN              NaN                      NaN   \n",
       "3785                        NaN              NaN                      NaN   \n",
       "4287                        NaN              NaN                      NaN   \n",
       "\n",
       "      Assay Variant Mutation Target ChEMBL ID       Target Name  \\\n",
       "1901                     NaN        CHEMBL230  Cyclooxygenase-2   \n",
       "2608                     NaN        CHEMBL230  Cyclooxygenase-2   \n",
       "3784                     NaN        CHEMBL230  Cyclooxygenase-2   \n",
       "3785                     NaN        CHEMBL230  Cyclooxygenase-2   \n",
       "4287                     NaN        CHEMBL230  Cyclooxygenase-2   \n",
       "\n",
       "     Target Organism     Target Type Document ChEMBL ID  Source ID  \\\n",
       "1901    Homo sapiens  SINGLE PROTEIN      CHEMBL3808358          1   \n",
       "2608    Homo sapiens  SINGLE PROTEIN      CHEMBL3808358          1   \n",
       "3784    Homo sapiens  SINGLE PROTEIN      CHEMBL4610009          1   \n",
       "3785    Homo sapiens  SINGLE PROTEIN      CHEMBL4610009          1   \n",
       "4287    Homo sapiens  SINGLE PROTEIN      CHEMBL4145689          1   \n",
       "\n",
       "         Source Description Document Journal  Document Year Cell ChEMBL ID  \\\n",
       "1901  Scientific Literature       J Med Chem         2016.0            NaN   \n",
       "2608  Scientific Literature       J Med Chem         2016.0            NaN   \n",
       "3784  Scientific Literature  Bioorg Med Chem         2020.0            NaN   \n",
       "3785  Scientific Literature  Bioorg Med Chem         2020.0            NaN   \n",
       "4287  Scientific Literature       J Med Chem         2018.0            NaN   \n",
       "\n",
       "     Properties Action Type  Standard Text Value  \n",
       "1901        NaN         NaN                  NaN  \n",
       "2608        NaN         NaN                  NaN  \n",
       "3784        NaN         NaN                  NaN  \n",
       "3785        NaN         NaN                  NaN  \n",
       "4287        NaN         NaN                  NaN  "
      ]
     },
     "execution_count": 50,
     "metadata": {},
     "output_type": "execute_result"
    }
   ],
   "source": [
    "data[ data['Standard Units'] == 'ng/ml' ].head()"
   ]
  },
  {
   "cell_type": "markdown",
   "id": "prostate-cattle",
   "metadata": {},
   "source": [
    "This is a relly hard data to analyze. Looking at one document [here](https://pubs.acs.org/doi/10.1021/acs.jmedchem.8b00922), we see that the data listed as \"inhibition\" actually is the . _\"Inhibition of TxB2 during Calcium-Ionophore Stimulation and Inhibition of PGE2 during LPS-Stimulation of Human Whole Blood\"_, at the compound concentration of 1 μM.\n",
    "\n",
    "The only way to use this data is by looking at each article case-by-case! However, the same papers can also have IC50s for the molecules, so we can use that instead."
   ]
  },
  {
   "cell_type": "markdown",
   "id": "sonic-rubber",
   "metadata": {},
   "source": [
    "# Build Database"
   ]
  },
  {
   "cell_type": "markdown",
   "id": "shared-highland",
   "metadata": {},
   "source": [
    "There are a total of 8,545 compounds wth unique SMILES in the database. However, the database actually has:\n",
    "\n",
    "- 7891 entries for $IC_{50}$ (which seems to be the most complete type of data). \n",
    "- 3315 entries with \"Inhibition\" data\n",
    "- 1193 with \"$AC_{50}$s\"\n",
    "- 899 with $K_i$ data, from which only 25 acctually have any data to it.\n",
    "- 398 with \"Activity\" data.\n",
    "\n",
    "Let's create a database with only useful data. It is likely that we can get *some* data on all molecules by using a combination of these."
   ]
  },
  {
   "cell_type": "markdown",
   "id": "53e4261c-3f64-47ef-82db-154d29f795c7",
   "metadata": {},
   "source": [
    "## Columns\n",
    "There's a large number of columns, with all kinds of data in the database:"
   ]
  },
  {
   "cell_type": "code",
   "execution_count": 70,
   "id": "fifty-italy",
   "metadata": {
    "tags": []
   },
   "outputs": [
    {
     "data": {
      "text/plain": [
       "Index(['Molecule ChEMBL ID', 'Molecule Name', 'Molecule Max Phase',\n",
       "       'Molecular Weight', '#RO5 Violations', 'AlogP', 'Compound Key',\n",
       "       'Smiles', 'Standard Type', 'Standard Relation', 'Standard Value',\n",
       "       'Standard Units', 'pChEMBL Value', 'Data Validity Comment', 'Comment',\n",
       "       'Uo Units', 'Ligand Efficiency BEI', 'Ligand Efficiency LE',\n",
       "       'Ligand Efficiency LLE', 'Ligand Efficiency SEI', 'Potential Duplicate',\n",
       "       'Assay ChEMBL ID', 'Assay Description', 'Assay Type', 'BAO Format ID',\n",
       "       'BAO Label', 'Assay Organism', 'Assay Tissue ChEMBL ID',\n",
       "       'Assay Tissue Name', 'Assay Cell Type', 'Assay Subcellular Fraction',\n",
       "       'Assay Parameters', 'Assay Variant Accession', 'Assay Variant Mutation',\n",
       "       'Target ChEMBL ID', 'Target Name', 'Target Organism', 'Target Type',\n",
       "       'Document ChEMBL ID', 'Source ID', 'Source Description',\n",
       "       'Document Journal', 'Document Year', 'Cell ChEMBL ID', 'Properties',\n",
       "       'Action Type', 'Standard Text Value'],\n",
       "      dtype='object')"
      ]
     },
     "execution_count": 70,
     "metadata": {},
     "output_type": "execute_result"
    }
   ],
   "source": [
    "cox2db.columns"
   ]
  },
  {
   "cell_type": "markdown",
   "id": "4c78192e-8167-4f29-a226-ee85bce14ec6",
   "metadata": {
    "tags": []
   },
   "source": [
    "That's a lot of columns, and not all are necessary. Let's keep only a selection of these:"
   ]
  },
  {
   "cell_type": "code",
   "execution_count": 71,
   "id": "framed-convention",
   "metadata": {
    "tags": []
   },
   "outputs": [],
   "source": [
    "columns = ['Molecule ChEMBL ID', 'Molecule Name', 'Molecule Max Phase',\n",
    "           'Smiles', 'Standard Type', 'Standard Relation', 'Standard Value','Standard Units']"
   ]
  },
  {
   "cell_type": "markdown",
   "id": "front-mixer",
   "metadata": {},
   "source": [
    "## IC50s"
   ]
  },
  {
   "cell_type": "markdown",
   "id": "96e5eadd-1184-4925-ad61-d373fe27947e",
   "metadata": {},
   "source": [
    "Let's do some checking first. We start with the 7,891 entries with IC50 data.\n",
    "\n",
    "**Remember that:**\n",
    "- Some are reported in different units,\n",
    "- some have values or SMILES missing,\n",
    "- Some are only annotated as _\"larger than\"_ or _\"smaller than\"_ some threshold\n",
    "- Some have `Data Validity Comment`s indicating the data may be problematic\n",
    "\n",
    "We will need to remove all those cases.\n",
    "\n",
    "Lets start only with data for which we have:\n",
    "1. Measured IC50 values in units of nM\n",
    "1. There is a Smiles value\n",
    "1. Have no warnings on data value"
   ]
  },
  {
   "cell_type": "code",
   "execution_count": 124,
   "id": "fifty-swiss",
   "metadata": {
    "tags": []
   },
   "outputs": [
    {
     "name": "stdout",
     "output_type": "stream",
     "text": [
      "Total number of entries that match the criteria: 5571\n",
      "Number of entries with unique SMILES strings:    4011\n",
      "Do the number of unique SMILES match the number of unique ChEMBL IDs? True\n"
     ]
    }
   ],
   "source": [
    "ic50_data = cox2db[ (cox2db['Standard Type']     == 'IC50')  &\n",
    "                    (cox2db['Standard Relation'] ==  \"'='\")  &\n",
    "                    (cox2db['Standard Units']    ==  'nM' )  &\n",
    "                    (cox2db['Smiles'].notna()             )  &\n",
    "                    (cox2db['Data Validity Comment'].isna()) ][columns]\n",
    "\n",
    "print(\"Total number of entries that match the criteria:\", len(ic50_data))\n",
    "print(\"Number of entries with unique SMILES strings:   \", len(ic50_data['Smiles'].unique()))\n",
    "print(\"Do the number of unique SMILES match the number of unique ChEMBL IDs?\", \n",
    "      len(ic50_data['Smiles'].unique()) == len(ic50_data['Molecule ChEMBL ID'].unique()))"
   ]
  },
  {
   "cell_type": "markdown",
   "id": "greek-violence",
   "metadata": {},
   "source": [
    "### Wisdom of the crowd\n",
    "\n",
    "There are a total of 5,571 entries that match the criteria, but only 4,011 unique molecules. That means there a lot of molecules appear more than once (remember Celecoxib?). If the values vary so much, how do we choose the correct one?\n",
    "\n",
    "We *could* just average the values, but that may be skewed by outliers. Here, we will use the *Wisdom of the Crowd* idea: for each molecule, we will choose the **most common** value (`mode`)."
   ]
  },
  {
   "cell_type": "code",
   "execution_count": 125,
   "id": "signed-scott",
   "metadata": {
    "tags": []
   },
   "outputs": [
    {
     "name": "stderr",
     "output_type": "stream",
     "text": [
      "  0%|          | 0/4011 [00:00<?, ?it/s]/scratch/local/42663685/ipykernel_2735565/66569010.py:5: FutureWarning: The behavior of DataFrame concatenation with empty or all-NA entries is deprecated. In a future version, this will no longer exclude empty or all-NA columns when determining the result dtypes. To retain the old behavior, exclude the relevant entries before the concat operation.\n",
      "  cox2_ic50s = pd.concat([cox2_ic50s,new_row])\n",
      "100%|██████████| 4011/4011 [00:08<00:00, 455.77it/s]\n"
     ]
    },
    {
     "data": {
      "text/plain": [
       "(4011, 8)"
      ]
     },
     "execution_count": 125,
     "metadata": {},
     "output_type": "execute_result"
    }
   ],
   "source": [
    "# This creates a new DataFrame to hold unique entries, and use the `mode` of IC50s for that molecule as the value.\n",
    "cox2_ic50s = pd.DataFrame(columns=columns)\n",
    "for  ic50_data_line in tqdm(ic50_data['Molecule ChEMBL ID'].unique()):\n",
    "    new_row =  ic50_data[ ic50_data['Molecule ChEMBL ID'] ==  ic50_data_line].mode().head(1).copy(deep=True)\n",
    "    cox2_ic50s = pd.concat([cox2_ic50s,new_row])\n",
    "cox2_ic50s.shape"
   ]
  },
  {
   "cell_type": "code",
   "execution_count": 126,
   "id": "announced-postcard",
   "metadata": {
    "tags": []
   },
   "outputs": [
    {
     "data": {
      "text/html": [
       "<div>\n",
       "<style scoped>\n",
       "    .dataframe tbody tr th:only-of-type {\n",
       "        vertical-align: middle;\n",
       "    }\n",
       "\n",
       "    .dataframe tbody tr th {\n",
       "        vertical-align: top;\n",
       "    }\n",
       "\n",
       "    .dataframe thead th {\n",
       "        text-align: right;\n",
       "    }\n",
       "</style>\n",
       "<table border=\"1\" class=\"dataframe\">\n",
       "  <thead>\n",
       "    <tr style=\"text-align: right;\">\n",
       "      <th></th>\n",
       "      <th>Molecule ChEMBL ID</th>\n",
       "      <th>Molecule Name</th>\n",
       "      <th>Molecule Max Phase</th>\n",
       "      <th>Smiles</th>\n",
       "      <th>Standard Type</th>\n",
       "      <th>Standard Relation</th>\n",
       "      <th>Standard Value</th>\n",
       "      <th>Standard Units</th>\n",
       "    </tr>\n",
       "  </thead>\n",
       "  <tbody>\n",
       "    <tr>\n",
       "      <th>0</th>\n",
       "      <td>CHEMBL416126</td>\n",
       "      <td>NaN</td>\n",
       "      <td>NaN</td>\n",
       "      <td>CS(=O)(=O)c1ccc(-c2cc(F)c(F)cc2-c2ccc3c(c2)OCO...</td>\n",
       "      <td>IC50</td>\n",
       "      <td>'='</td>\n",
       "      <td>12.00</td>\n",
       "      <td>nM</td>\n",
       "    </tr>\n",
       "    <tr>\n",
       "      <th>0</th>\n",
       "      <td>CHEMBL143776</td>\n",
       "      <td>NaN</td>\n",
       "      <td>NaN</td>\n",
       "      <td>Fc1ccc(-c2[nH]c(-c3ccc(F)cc3)c3c2C2CCC3C2)cc1</td>\n",
       "      <td>IC50</td>\n",
       "      <td>'='</td>\n",
       "      <td>0.08</td>\n",
       "      <td>nM</td>\n",
       "    </tr>\n",
       "    <tr>\n",
       "      <th>0</th>\n",
       "      <td>CHEMBL322276</td>\n",
       "      <td>NaN</td>\n",
       "      <td>NaN</td>\n",
       "      <td>CC1(C)OC(=O)C(Oc2ccc3[nH]ccc3c2)=C1c1ccc(S(C)(...</td>\n",
       "      <td>IC50</td>\n",
       "      <td>'='</td>\n",
       "      <td>30.00</td>\n",
       "      <td>nM</td>\n",
       "    </tr>\n",
       "    <tr>\n",
       "      <th>0</th>\n",
       "      <td>CHEMBL43864</td>\n",
       "      <td>NaN</td>\n",
       "      <td>NaN</td>\n",
       "      <td>Cc1ccc(-c2ccc(S(C)(=O)=O)cc2)n1C1CCCCC1</td>\n",
       "      <td>IC50</td>\n",
       "      <td>'='</td>\n",
       "      <td>520.00</td>\n",
       "      <td>nM</td>\n",
       "    </tr>\n",
       "    <tr>\n",
       "      <th>0</th>\n",
       "      <td>CHEMBL45090</td>\n",
       "      <td>NaN</td>\n",
       "      <td>NaN</td>\n",
       "      <td>CS(=O)(=O)c1ccc(-n2cc(C(F)(F)F)nc2-c2cc(Cl)cc(...</td>\n",
       "      <td>IC50</td>\n",
       "      <td>'='</td>\n",
       "      <td>169.82</td>\n",
       "      <td>nM</td>\n",
       "    </tr>\n",
       "  </tbody>\n",
       "</table>\n",
       "</div>"
      ],
      "text/plain": [
       "  Molecule ChEMBL ID Molecule Name  Molecule Max Phase  \\\n",
       "0       CHEMBL416126           NaN                 NaN   \n",
       "0       CHEMBL143776           NaN                 NaN   \n",
       "0       CHEMBL322276           NaN                 NaN   \n",
       "0        CHEMBL43864           NaN                 NaN   \n",
       "0        CHEMBL45090           NaN                 NaN   \n",
       "\n",
       "                                              Smiles Standard Type  \\\n",
       "0  CS(=O)(=O)c1ccc(-c2cc(F)c(F)cc2-c2ccc3c(c2)OCO...          IC50   \n",
       "0      Fc1ccc(-c2[nH]c(-c3ccc(F)cc3)c3c2C2CCC3C2)cc1          IC50   \n",
       "0  CC1(C)OC(=O)C(Oc2ccc3[nH]ccc3c2)=C1c1ccc(S(C)(...          IC50   \n",
       "0            Cc1ccc(-c2ccc(S(C)(=O)=O)cc2)n1C1CCCCC1          IC50   \n",
       "0  CS(=O)(=O)c1ccc(-n2cc(C(F)(F)F)nc2-c2cc(Cl)cc(...          IC50   \n",
       "\n",
       "  Standard Relation  Standard Value Standard Units  \n",
       "0               '='           12.00             nM  \n",
       "0               '='            0.08             nM  \n",
       "0               '='           30.00             nM  \n",
       "0               '='          520.00             nM  \n",
       "0               '='          169.82             nM  "
      ]
     },
     "execution_count": 126,
     "metadata": {},
     "output_type": "execute_result"
    }
   ],
   "source": [
    "cox2_ic50s.head()"
   ]
  },
  {
   "cell_type": "code",
   "execution_count": 127,
   "id": "95318eaa-c391-4dcb-b686-69214eac12e2",
   "metadata": {
    "tags": []
   },
   "outputs": [
    {
     "name": "stdout",
     "output_type": "stream",
     "text": [
      "The new database has shape:  (4011, 8)\n",
      "The new database has length:  4011\n",
      "Number of unique ChEMBL IDs:  4011\n"
     ]
    }
   ],
   "source": [
    "print(\"The new database has shape: \", cox2_ic50s.shape)\n",
    "print(\"The new database has length: \", len( cox2_ic50s['Smiles'].unique() ))\n",
    "print(\"Number of unique ChEMBL IDs: \", len( cox2_ic50s['Molecule ChEMBL ID'].unique() ))"
   ]
  },
  {
   "cell_type": "markdown",
   "id": "fea8e376-b8bc-4cec-b4a0-cac441a7c024",
   "metadata": {},
   "source": [
    "Finally, let's remove the temporary dataframes, to save memory:"
   ]
  },
  {
   "cell_type": "code",
   "execution_count": 128,
   "id": "technological-infrastructure",
   "metadata": {
    "tags": []
   },
   "outputs": [],
   "source": [
    "del(ic50_data, ic50_data_line)"
   ]
  },
  {
   "cell_type": "markdown",
   "id": "70287bc6-c56e-488a-9aae-a69df0393223",
   "metadata": {},
   "source": [
    "### Activity Bit\n",
    "The numerical data we have so far is good for regression. We can also add a column to represent\n",
    "if the molecule is active or not, useful for classification purposes. Here, let's define a molecule\n",
    "as *acctive* if the $IC_{50}$ is below 100 nM:"
   ]
  },
  {
   "cell_type": "code",
   "execution_count": 129,
   "id": "b0dd59d4-7a84-4b5d-b34e-9bffba659ade",
   "metadata": {
    "tags": []
   },
   "outputs": [],
   "source": [
    "cox2_ic50s[\"Active\"] = cox2_ic50s[\"Standard Value\"] < 100"
   ]
  },
  {
   "cell_type": "code",
   "execution_count": 130,
   "id": "67daf1fb-8c6b-47c7-8ce4-f5ba6e89f6d6",
   "metadata": {
    "tags": []
   },
   "outputs": [
    {
     "data": {
      "text/plain": [
       "Active\n",
       "False    3004\n",
       "True     1007\n",
       "Name: count, dtype: int64"
      ]
     },
     "execution_count": 130,
     "metadata": {},
     "output_type": "execute_result"
    }
   ],
   "source": [
    "cox2_ic50s[\"Active\"].value_counts()"
   ]
  },
  {
   "cell_type": "markdown",
   "id": "19adfad2-20a4-490d-be60-e17323570801",
   "metadata": {},
   "source": [
    "We have about 3 inactives for each active compound."
   ]
  },
  {
   "cell_type": "markdown",
   "id": "6079f22e-c7bc-4ed1-b5d0-74529b6be29f",
   "metadata": {},
   "source": [
    "### Other Relationships\n",
    "\n",
    "We can now go back to the other relationships, Furst, look at the molecules with a \"larger than\" relationship. Those were so inactive they couldn't even measure the $IC_{50}$s! "
   ]
  },
  {
   "cell_type": "code",
   "execution_count": 131,
   "id": "9437c32c-e0f7-4109-a87d-976eeb6ed7c0",
   "metadata": {
    "tags": []
   },
   "outputs": [],
   "source": [
    "ic50_lt_data = cox2db[ (cox2db['Standard Type']     == 'IC50')  &\n",
    "                       (cox2db['Standard Relation'] ==  \"'>'\")  &\n",
    "                       (cox2db['Smiles'].notna()             )  &\n",
    "                       (cox2db['Data Validity Comment'].isna()) ][columns]"
   ]
  },
  {
   "cell_type": "markdown",
   "id": "2037b263-2d70-4d8e-b1cf-599ec793e6bc",
   "metadata": {
    "tags": []
   },
   "source": [
    "However, not all are unique, and some were already counted before:"
   ]
  },
  {
   "cell_type": "code",
   "execution_count": 132,
   "id": "b5a02d15-9343-4249-8f07-7d29001069a9",
   "metadata": {
    "tags": []
   },
   "outputs": [
    {
     "name": "stdout",
     "output_type": "stream",
     "text": [
      "Total number of molecules with 'lt' relationship data: 910\n",
      "Number of unique molecules with 'lt' relationship data:  856\n",
      "Number of those without IC50 data: 811\n"
     ]
    }
   ],
   "source": [
    "cox2_ic50s_mols = set(cox2_ic50s['Molecule ChEMBL ID'].unique())\n",
    "\n",
    "lt_mols = set(ic50_lt_data['Molecule ChEMBL ID'].unique())\n",
    "new_mols = lt_mols - cox2_ic50s_mols\n",
    "print(\"Total number of molecules with 'lt' relationship data:\", len(ic50_lt_data))\n",
    "print(\"Number of unique molecules with 'lt' relationship data: \", len(lt_mols) )\n",
    "print(\"Number of those without IC50 data:\", len(new_mols))"
   ]
  },
  {
   "cell_type": "markdown",
   "id": "8fbfb049-f713-44ee-9505-e170d3f2c17c",
   "metadata": {},
   "source": [
    "Still, we can sue the data for 811 new molecules. Let's just set them all as inactive, and marge to the previous database."
   ]
  },
  {
   "cell_type": "code",
   "execution_count": 133,
   "id": "63cc547d-805d-4f18-ae0a-1e5ae4eab3d7",
   "metadata": {
    "tags": []
   },
   "outputs": [],
   "source": [
    "ic50_lt_data.drop_duplicates(subset=['Molecule ChEMBL ID'], inplace=True)"
   ]
  },
  {
   "cell_type": "code",
   "execution_count": 134,
   "id": "f4b66e79-a9e8-46f2-9e40-b60ca4bc57a3",
   "metadata": {
    "tags": []
   },
   "outputs": [
    {
     "name": "stderr",
     "output_type": "stream",
     "text": [
      "100%|██████████| 856/856 [00:00<00:00, 43218.39it/s]\n"
     ]
    }
   ],
   "source": [
    "for mol in tqdm(ic50_lt_data['Molecule ChEMBL ID']):\n",
    "    if (mol in cox2_ic50s_mols):\n",
    "        ic50_lt_data.drop( ic50_lt_data.loc[ic50_lt_data['Molecule ChEMBL ID'] == mol].index, inplace=True)"
   ]
  },
  {
   "cell_type": "code",
   "execution_count": 135,
   "id": "bb01c2c2-8ba6-4e69-977a-b58781ea01c2",
   "metadata": {
    "tags": []
   },
   "outputs": [
    {
     "data": {
      "text/plain": [
       "811"
      ]
     },
     "execution_count": 135,
     "metadata": {},
     "output_type": "execute_result"
    }
   ],
   "source": [
    "len(ic50_lt_data)"
   ]
  },
  {
   "cell_type": "markdown",
   "id": "b71223bc-6dc6-4044-ba52-5b620ff4cec6",
   "metadata": {},
   "source": [
    "Let's now set the `Active` bit of those to \"False\" (inactive) and merge to the database:"
   ]
  },
  {
   "cell_type": "code",
   "execution_count": 136,
   "id": "f13b2b7c-9661-4292-94b7-6dec62726ac6",
   "metadata": {
    "tags": []
   },
   "outputs": [
    {
     "name": "stdout",
     "output_type": "stream",
     "text": [
      "The IC50s database now has 4822 unique molecules.\n"
     ]
    }
   ],
   "source": [
    "ic50_lt_data['Active'] = False\n",
    "cox2_ic50s = pd.concat([cox2_ic50s,ic50_lt_data], ignore_index=True)\n",
    "print(f\"The IC50s database now has {len(cox2_ic50s)} unique molecules.\")"
   ]
  },
  {
   "cell_type": "markdown",
   "id": "professional-dollar",
   "metadata": {},
   "source": [
    "### $IC_{50}$s Summary\n",
    "\n",
    "From an initial total of 13,999 entries, there were only 8,545 unique molecules. From those, only  4,011 were unique molecules with reasonably useful IC50 data."
   ]
  },
  {
   "cell_type": "markdown",
   "id": "e1683b1d-f21a-4207-81ed-119cce19fca2",
   "metadata": {},
   "source": [
    "### A quick peek at the molecules"
   ]
  },
  {
   "cell_type": "code",
   "execution_count": 137,
   "id": "complete-indonesia",
   "metadata": {
    "tags": []
   },
   "outputs": [
    {
     "data": {
      "image/png": "[encoded data removed]",
      "text/plain": [
       "<IPython.core.display.Image object>"
      ]
     },
     "execution_count": 137,
     "metadata": {},
     "output_type": "execute_result"
    }
   ],
   "source": [
    "# A quick look at the molecules\n",
    "n_to_draw = 8\n",
    "df = cox2_ic50s.sort_values(by=[\"Standard Value\"],ascending=[True]).head(n_to_draw)\n",
    "PandasTools.AddMoleculeColumnToFrame(df, smilesCol='Smiles')\n",
    "mols = df.ROMol.values\n",
    "top_ic50s = df['Molecule ChEMBL ID'].values\n",
    "legends = []\n",
    "for chemblid, ic50, unit in zip(df['Molecule ChEMBL ID'].values, df['Standard Value'].values, df['Standard Units']):\n",
    "    legends.append(f\"{chemblid}\\nIC50={ic50:.3f}{unit}\") \n",
    "Draw.MolsToGridImage(mols, molsPerRow=4,subImgSize=(250,250), legends=legends)"
   ]
  },
  {
   "cell_type": "markdown",
   "id": "fba36cee-d598-4922-862b-b782bf9faa8c",
   "metadata": {},
   "source": [
    "## Other Properties"
   ]
  },
  {
   "cell_type": "markdown",
   "id": "2a35a5ca-bd51-488e-9711-49e0e094aae8",
   "metadata": {},
   "source": [
    "There are also some molecules with only other types of activity reported:"
   ]
  },
  {
   "cell_type": "code",
   "execution_count": 138,
   "id": "6eed5a0a-22a4-45c2-acac-03c6b28b286b",
   "metadata": {
    "tags": []
   },
   "outputs": [
    {
     "name": "stdout",
     "output_type": "stream",
     "text": [
      "Number of entries with data as Inhibition: 2666\n",
      "Number of those without IC50 data: 1233\n",
      "------------------------------------------------------------\n",
      "Number of entries with data as AC50: 136\n",
      "Number of those without IC50 data: 117\n",
      "------------------------------------------------------------\n",
      "Number of entries with data as Ki: 26\n",
      "Number of those without IC50 data: 2\n",
      "------------------------------------------------------------\n",
      "Number of entries with data as Activity: 263\n",
      "Number of those without IC50 data: 132\n",
      "------------------------------------------------------------\n"
     ]
    }
   ],
   "source": [
    "other_properties = ['Inhibition', 'AC50','Ki','Activity']\n",
    "\n",
    "cox2_ic50s_mols = set(cox2_ic50s['Molecule ChEMBL ID'].unique())\n",
    "for prop in other_properties:\n",
    "    prop_data = cox2db[ (cox2db['Standard Type']     == prop)  &\n",
    "                        (cox2db['Standard Relation'] ==  \"'='\")  &\n",
    "                        (cox2db['Smiles'].notna()             )  &\n",
    "                        (cox2db['Data Validity Comment'].isna()) ][columns]\n",
    "    print(f\"Number of entries with data as {prop}: {len(prop_data)}\")\n",
    "    prop_mols = set(prop_data['Molecule ChEMBL ID'].unique())\n",
    "    new_mols = prop_mols - cox2_ic50s_mols\n",
    "    print(\"Number of those without IC50 data:\", len(new_mols))\n",
    "    print(\"-\"*60)"
   ]
  },
  {
   "cell_type": "markdown",
   "id": "633ded0b-7713-4265-9899-8e4b7e765a8d",
   "metadata": {},
   "source": [
    "It looks like we can recover some more data using those measures, but that will be left as an exercise."
   ]
  },
  {
   "cell_type": "markdown",
   "id": "indonesian-complexity",
   "metadata": {},
   "source": [
    "## Pre-process database"
   ]
  },
  {
   "cell_type": "markdown",
   "id": "viral-stanley",
   "metadata": {},
   "source": [
    "Now we need to pre-process the database, to:\n",
    "\n",
    "1. Remove molecules that contain atoms other than ['C','N','O','H','S','P','As','Se','F','Cl','Br','I']\n",
    "1. Standardize (remove salts, etc.)\n",
    "1. Reset the SMILES from the ROMol objects\n",
    "1. Remove duplicates"
   ]
  },
  {
   "cell_type": "markdown",
   "id": "033d43bd-1ca4-4f6d-abb6-28b56dae1658",
   "metadata": {},
   "source": [
    "### Check the validity of the SMILES"
   ]
  },
  {
   "cell_type": "markdown",
   "id": "6161e841-9699-4d28-95f6-d636d5acd0ed",
   "metadata": {},
   "source": [
    "To check the validity of the SMILES, we can use RDKit to interpret the SMILES column. If it can create a `mol` object, the SMILES is OK. This will be helpful for other checks as well."
   ]
  },
  {
   "cell_type": "code",
   "execution_count": 140,
   "id": "1509408c-c42e-45b5-8294-d1cd7b2a9751",
   "metadata": {
    "tags": []
   },
   "outputs": [],
   "source": [
    "PandasTools.AddMoleculeColumnToFrame(cox2_ic50s,smilesCol='Smiles')"
   ]
  },
  {
   "cell_type": "code",
   "execution_count": 141,
   "id": "7042c3ff-5adf-45e0-a03d-d5e46f9861b5",
   "metadata": {
    "tags": []
   },
   "outputs": [
    {
     "data": {
      "text/plain": [
       "4822"
      ]
     },
     "execution_count": 141,
     "metadata": {},
     "output_type": "execute_result"
    }
   ],
   "source": [
    "len(cox2_ic50s)"
   ]
  },
  {
   "cell_type": "code",
   "execution_count": 142,
   "id": "b5de9c21-23ff-44ac-96ce-68a9e2c73511",
   "metadata": {
    "tags": []
   },
   "outputs": [
    {
     "data": {
      "text/plain": [
       "np.False_"
      ]
     },
     "execution_count": 142,
     "metadata": {},
     "output_type": "execute_result"
    }
   ],
   "source": [
    "cox2_ic50s.ROMol.isna().any()"
   ]
  },
  {
   "cell_type": "markdown",
   "id": "b9caa9df-aaf3-48da-ab31-07e3ee05b211",
   "metadata": {},
   "source": [
    "OK, no invalid SMILES! (Not really surprising, given that ChEMBL uses RDKit internally..)"
   ]
  },
  {
   "cell_type": "code",
   "execution_count": null,
   "id": "38b3a610-26fc-4805-bd05-71b27fd8f708",
   "metadata": {},
   "outputs": [],
   "source": []
  },
  {
   "cell_type": "markdown",
   "id": "9c09be6c-4925-4b1f-bf07-4dd4ce837e8b",
   "metadata": {},
   "source": [
    "### Remove Molecules with non-standard atoms"
   ]
  },
  {
   "cell_type": "code",
   "execution_count": 139,
   "id": "81a156f6-5a88-4fab-82b4-b6df4f98405c",
   "metadata": {
    "tags": []
   },
   "outputs": [],
   "source": [
    "def only_valid_atoms(mol):\n",
    "    \"\"\"\n",
    "    Checks that a molecule only has valid atoms.\n",
    "    \"\"\"\n",
    "    valid_atoms=['C','N','O','H','S','P','As','Se','F','Cl','Br','I']\n",
    "\n",
    "\n",
    "    if mol is None or mol.GetNumAtoms() < 1:\n",
    "        return False\n",
    "    else:\n",
    "        for atom in mol.GetAtoms():\n",
    "            symbol = atom.GetSymbol()\n",
    "            if symbol not in valid_atoms:return False\n",
    "    return True"
   ]
  },
  {
   "cell_type": "code",
   "execution_count": 72,
   "id": "opened-hybrid",
   "metadata": {},
   "outputs": [
    {
     "data": {
      "application/json": {
       "ascii": false,
       "bar_format": null,
       "colour": null,
       "elapsed": 0.008728504180908203,
       "initial": 0,
       "n": 0,
       "ncols": null,
       "nrows": null,
       "postfix": null,
       "prefix": "Removing molecules with invalid atoms",
       "rate": null,
       "total": 3616,
       "unit": "it",
       "unit_divisor": 1000,
       "unit_scale": false
      },
      "application/vnd.jupyter.widget-view+json": {
       "model_id": "288d9e0d3b39440198781cf277373215",
       "version_major": 2,
       "version_minor": 0
      },
      "text/plain": [
       "Removing molecules with invalid atoms:   0%|          | 0/3616 [00:00<?, ?it/s]"
      ]
     },
     "metadata": {},
     "output_type": "display_data"
    },
    {
     "data": {
      "application/json": {
       "ascii": false,
       "bar_format": null,
       "colour": null,
       "elapsed": 0.007539510726928711,
       "initial": 0,
       "n": 0,
       "ncols": null,
       "nrows": null,
       "postfix": null,
       "prefix": "Standardizing",
       "rate": null,
       "total": 3590,
       "unit": "it",
       "unit_divisor": 1000,
       "unit_scale": false
      },
      "application/vnd.jupyter.widget-view+json": {
       "model_id": "037512fa00ff4a9b860d9efb987de42a",
       "version_major": 2,
       "version_minor": 0
      },
      "text/plain": [
       "Standardizing:   0%|          | 0/3590 [00:00<?, ?it/s]"
      ]
     },
     "metadata": {},
     "output_type": "display_data"
    },
    {
     "data": {
      "application/json": {
       "ascii": false,
       "bar_format": null,
       "colour": null,
       "elapsed": 0.008031845092773438,
       "initial": 0,
       "n": 0,
       "ncols": null,
       "nrows": null,
       "postfix": null,
       "prefix": "Resetting SMILES",
       "rate": null,
       "total": 3590,
       "unit": "it",
       "unit_divisor": 1000,
       "unit_scale": false
      },
      "application/vnd.jupyter.widget-view+json": {
       "model_id": "6c6d8a0f4e83496c960ded1a21350499",
       "version_major": 2,
       "version_minor": 0
      },
      "text/plain": [
       "Resetting SMILES:   0%|          | 0/3590 [00:00<?, ?it/s]"
      ]
     },
     "metadata": {},
     "output_type": "display_data"
    },
    {
     "data": {
      "application/json": {
       "ascii": false,
       "bar_format": null,
       "colour": null,
       "elapsed": 0.006800651550292969,
       "initial": 0,
       "n": 0,
       "ncols": null,
       "nrows": null,
       "postfix": null,
       "prefix": "Generating InChI Keys",
       "rate": null,
       "total": 3590,
       "unit": "it",
       "unit_divisor": 1000,
       "unit_scale": false
      },
      "application/vnd.jupyter.widget-view+json": {
       "model_id": "ee296cb0b3914568acf0e2ea1d13ed61",
       "version_major": 2,
       "version_minor": 0
      },
      "text/plain": [
       "Generating InChI Keys:   0%|          | 0/3590 [00:00<?, ?it/s]"
      ]
     },
     "metadata": {},
     "output_type": "display_data"
    }
   ],
   "source": [
    "clean_df, dup_df = preprocess.preprocess_db(cox2_ic50s, smiles_col='Smiles')"
   ]
  },
  {
   "cell_type": "code",
   "execution_count": 73,
   "id": "global-setup",
   "metadata": {},
   "outputs": [
    {
     "data": {
      "text/plain": [
       "((3616, 10), (3590, 10), (0, 0))"
      ]
     },
     "execution_count": 73,
     "metadata": {},
     "output_type": "execute_result"
    }
   ],
   "source": [
    "cox2_ic50s.shape, clean_df.shape, dup_df.shape"
   ]
  },
  {
   "cell_type": "code",
   "execution_count": 74,
   "id": "alternate-practitioner",
   "metadata": {},
   "outputs": [
    {
     "data": {
      "text/plain": [
       "Index(['Molecule ChEMBL ID', 'Molecule Name', 'Molecule Max Phase',\n",
       "       'Standard Type', 'Standard Relation', 'Standard Value',\n",
       "       'Standard Units', 'ROMol', 'Smiles', 'InChI Key'],\n",
       "      dtype='object')"
      ]
     },
     "execution_count": 74,
     "metadata": {},
     "output_type": "execute_result"
    }
   ],
   "source": [
    "clean_df.columns"
   ]
  },
  {
   "cell_type": "code",
   "execution_count": 75,
   "id": "neutral-conducting",
   "metadata": {},
   "outputs": [
    {
     "data": {
      "image/png": "[encoded data removed]",
      "text/plain": [
       "<IPython.core.display.Image object>"
      ]
     },
     "execution_count": 75,
     "metadata": {},
     "output_type": "execute_result"
    }
   ],
   "source": [
    "# A quick look at the molecules\n",
    "n_to_draw = 8\n",
    "df = clean_df[ clean_df['Molecule ChEMBL ID'].isin(top_ic50s) ]\n",
    "mols = df.ROMol.values\n",
    "legends = []\n",
    "for chemblid, ic50, unit in zip(df['Molecule ChEMBL ID'].values, df['Standard Value'].values, df['Standard Units'].values):\n",
    "    legends.append(f\"{chemblid}\\nIC50={ic50:.3f} {unit}\") \n",
    "Draw.MolsToGridImage(mols, molsPerRow=4,subImgSize=(250,250), legends=legends)"
   ]
  },
  {
   "cell_type": "code",
   "execution_count": 76,
   "id": "ae0fda36-b24d-432d-bd69-a3136ee8de9f",
   "metadata": {},
   "outputs": [
    {
     "data": {
      "text/plain": [
       "array(['nM'], dtype=object)"
      ]
     },
     "execution_count": 76,
     "metadata": {},
     "output_type": "execute_result"
    }
   ],
   "source": [
    "clean_df['Standard Units'].unique()"
   ]
  },
  {
   "cell_type": "markdown",
   "id": "acoustic-cedar",
   "metadata": {},
   "source": [
    "So, the there were 52 molecules with atoms other than ['C','N','O','H','S','P','As','Se','F','Cl','Br','I']. Other than that, all was fine."
   ]
  },
  {
   "cell_type": "code",
   "execution_count": 77,
   "id": "better-atmosphere",
   "metadata": {},
   "outputs": [],
   "source": [
    "cox2_ic50s = clean_df.copy(deep=True)"
   ]
  },
  {
   "cell_type": "markdown",
   "id": "registered-reserve",
   "metadata": {},
   "source": [
    "We no longer need these other databases, let's remove them."
   ]
  },
  {
   "cell_type": "code",
   "execution_count": 78,
   "id": "chemical-reference",
   "metadata": {},
   "outputs": [],
   "source": [
    "del(clean_df,dup_df)"
   ]
  },
  {
   "cell_type": "code",
   "execution_count": 79,
   "id": "constant-ontario",
   "metadata": {},
   "outputs": [
    {
     "data": {
      "text/html": [
       "<div>\n",
       "<style scoped>\n",
       "    .dataframe tbody tr th:only-of-type {\n",
       "        vertical-align: middle;\n",
       "    }\n",
       "\n",
       "    .dataframe tbody tr th {\n",
       "        vertical-align: top;\n",
       "    }\n",
       "\n",
       "    .dataframe thead th {\n",
       "        text-align: right;\n",
       "    }\n",
       "</style>\n",
       "<table border=\"1\" class=\"dataframe\">\n",
       "  <thead>\n",
       "    <tr style=\"text-align: right;\">\n",
       "      <th></th>\n",
       "      <th>Molecule ChEMBL ID</th>\n",
       "      <th>Molecule Name</th>\n",
       "      <th>Molecule Max Phase</th>\n",
       "      <th>Standard Type</th>\n",
       "      <th>Standard Relation</th>\n",
       "      <th>Standard Value</th>\n",
       "      <th>Standard Units</th>\n",
       "      <th>ROMol</th>\n",
       "      <th>Smiles</th>\n",
       "      <th>InChI Key</th>\n",
       "    </tr>\n",
       "  </thead>\n",
       "  <tbody>\n",
       "    <tr>\n",
       "      <th>0</th>\n",
       "      <td>CHEMBL2115305</td>\n",
       "      <td>NaN</td>\n",
       "      <td>0</td>\n",
       "      <td>IC50</td>\n",
       "      <td>'='</td>\n",
       "      <td>1700.00</td>\n",
       "      <td>nM</td>\n",
       "      <td>&lt;rdkit.Chem.rdchem.Mol object at 0x7f6b838fe4a0&gt;</td>\n",
       "      <td>COc1ccc2c(c1)c(CC(=O)NN1CCC[C@@H]1CO)c(C)n2C(=...</td>\n",
       "      <td>IBWROCWYMVFROI-ZYTCOXICNA-N</td>\n",
       "    </tr>\n",
       "    <tr>\n",
       "      <th>1</th>\n",
       "      <td>CHEMBL274841</td>\n",
       "      <td>NaN</td>\n",
       "      <td>0</td>\n",
       "      <td>IC50</td>\n",
       "      <td>'='</td>\n",
       "      <td>18000.00</td>\n",
       "      <td>nM</td>\n",
       "      <td>&lt;rdkit.Chem.rdchem.Mol object at 0x7f6b838fe740&gt;</td>\n",
       "      <td>Cc1ccc(-c2ncc(Cl)cc2-c2ccc(S(C)(=O)=O)cc2)c[n+...</td>\n",
       "      <td>KMLFAHIIJSUUPX-UHFFFAOYNA-N</td>\n",
       "    </tr>\n",
       "    <tr>\n",
       "      <th>2</th>\n",
       "      <td>CHEMBL15791</td>\n",
       "      <td>NaN</td>\n",
       "      <td>0</td>\n",
       "      <td>IC50</td>\n",
       "      <td>'='</td>\n",
       "      <td>1700.00</td>\n",
       "      <td>nM</td>\n",
       "      <td>&lt;rdkit.Chem.rdchem.Mol object at 0x7f6b8390dcf0&gt;</td>\n",
       "      <td>CONC1=NC(=O)/C(=C/c2cc(C(C)(C)C)c(O)c(C(C)(C)C...</td>\n",
       "      <td>ZJFXWSPUWDWLPL-ORKNZVJUNA-N</td>\n",
       "    </tr>\n",
       "    <tr>\n",
       "      <th>3</th>\n",
       "      <td>CHEMBL72294</td>\n",
       "      <td>NaN</td>\n",
       "      <td>0.0</td>\n",
       "      <td>IC50</td>\n",
       "      <td>'='</td>\n",
       "      <td>1698.24</td>\n",
       "      <td>nM</td>\n",
       "      <td>&lt;rdkit.Chem.rdchem.Mol object at 0x7f6b83911270&gt;</td>\n",
       "      <td>Cc1ccc(-n2c(-c3ccc(S(N)(=O)=O)cc3)c(C)oc2=O)cc1</td>\n",
       "      <td>JAPKJIUHTVTGNM-DZQCGVKKNA-N</td>\n",
       "    </tr>\n",
       "    <tr>\n",
       "      <th>4</th>\n",
       "      <td>CHEMBL304054</td>\n",
       "      <td>NaN</td>\n",
       "      <td>0.0</td>\n",
       "      <td>IC50</td>\n",
       "      <td>'='</td>\n",
       "      <td>510.00</td>\n",
       "      <td>nM</td>\n",
       "      <td>&lt;rdkit.Chem.rdchem.Mol object at 0x7f6b83911350&gt;</td>\n",
       "      <td>Cc1cccc(-n2c(-c3ccc(S(N)(=O)=O)cc3)coc2=O)c1</td>\n",
       "      <td>VDJKUOJXTDRTKV-HVXXBKQBNA-N</td>\n",
       "    </tr>\n",
       "  </tbody>\n",
       "</table>\n",
       "</div>"
      ],
      "text/plain": [
       "  Molecule ChEMBL ID Molecule Name Molecule Max Phase Standard Type  \\\n",
       "0      CHEMBL2115305           NaN                  0          IC50   \n",
       "1       CHEMBL274841           NaN                  0          IC50   \n",
       "2        CHEMBL15791           NaN                  0          IC50   \n",
       "3        CHEMBL72294           NaN                0.0          IC50   \n",
       "4       CHEMBL304054           NaN                0.0          IC50   \n",
       "\n",
       "  Standard Relation  Standard Value Standard Units  \\\n",
       "0               '='         1700.00             nM   \n",
       "1               '='        18000.00             nM   \n",
       "2               '='         1700.00             nM   \n",
       "3               '='         1698.24             nM   \n",
       "4               '='          510.00             nM   \n",
       "\n",
       "                                              ROMol  \\\n",
       "0  <rdkit.Chem.rdchem.Mol object at 0x7f6b838fe4a0>   \n",
       "1  <rdkit.Chem.rdchem.Mol object at 0x7f6b838fe740>   \n",
       "2  <rdkit.Chem.rdchem.Mol object at 0x7f6b8390dcf0>   \n",
       "3  <rdkit.Chem.rdchem.Mol object at 0x7f6b83911270>   \n",
       "4  <rdkit.Chem.rdchem.Mol object at 0x7f6b83911350>   \n",
       "\n",
       "                                              Smiles  \\\n",
       "0  COc1ccc2c(c1)c(CC(=O)NN1CCC[C@@H]1CO)c(C)n2C(=...   \n",
       "1  Cc1ccc(-c2ncc(Cl)cc2-c2ccc(S(C)(=O)=O)cc2)c[n+...   \n",
       "2  CONC1=NC(=O)/C(=C/c2cc(C(C)(C)C)c(O)c(C(C)(C)C...   \n",
       "3    Cc1ccc(-n2c(-c3ccc(S(N)(=O)=O)cc3)c(C)oc2=O)cc1   \n",
       "4       Cc1cccc(-n2c(-c3ccc(S(N)(=O)=O)cc3)coc2=O)c1   \n",
       "\n",
       "                     InChI Key  \n",
       "0  IBWROCWYMVFROI-ZYTCOXICNA-N  \n",
       "1  KMLFAHIIJSUUPX-UHFFFAOYNA-N  \n",
       "2  ZJFXWSPUWDWLPL-ORKNZVJUNA-N  \n",
       "3  JAPKJIUHTVTGNM-DZQCGVKKNA-N  \n",
       "4  VDJKUOJXTDRTKV-HVXXBKQBNA-N  "
      ]
     },
     "execution_count": 79,
     "metadata": {},
     "output_type": "execute_result"
    }
   ],
   "source": [
    "cox2_ic50s.head()"
   ]
  },
  {
   "cell_type": "markdown",
   "id": "9f4da794-8197-409d-b9eb-46806af7cea0",
   "metadata": {},
   "source": [
    "Finally, let's convert the IC50 values to log-scale:"
   ]
  },
  {
   "cell_type": "code",
   "execution_count": 80,
   "id": "b56b7fbd-d3d7-4350-af4f-ec897487e1eb",
   "metadata": {},
   "outputs": [],
   "source": [
    "cox2_ic50s['pIC50'] = np.log10(cox2_ic50s['Standard Value'].astype(float))"
   ]
  },
  {
   "cell_type": "code",
   "execution_count": 81,
   "id": "f3a661eb-e410-4a6c-bccb-398e8f8ec970",
   "metadata": {},
   "outputs": [
    {
     "data": {
      "text/html": [
       "<div>\n",
       "<style scoped>\n",
       "    .dataframe tbody tr th:only-of-type {\n",
       "        vertical-align: middle;\n",
       "    }\n",
       "\n",
       "    .dataframe tbody tr th {\n",
       "        vertical-align: top;\n",
       "    }\n",
       "\n",
       "    .dataframe thead th {\n",
       "        text-align: right;\n",
       "    }\n",
       "</style>\n",
       "<table border=\"1\" class=\"dataframe\">\n",
       "  <thead>\n",
       "    <tr style=\"text-align: right;\">\n",
       "      <th></th>\n",
       "      <th>Molecule ChEMBL ID</th>\n",
       "      <th>Molecule Name</th>\n",
       "      <th>Molecule Max Phase</th>\n",
       "      <th>Standard Type</th>\n",
       "      <th>Standard Relation</th>\n",
       "      <th>Standard Value</th>\n",
       "      <th>Standard Units</th>\n",
       "      <th>ROMol</th>\n",
       "      <th>Smiles</th>\n",
       "      <th>InChI Key</th>\n",
       "      <th>pIC50</th>\n",
       "    </tr>\n",
       "  </thead>\n",
       "  <tbody>\n",
       "    <tr>\n",
       "      <th>0</th>\n",
       "      <td>CHEMBL2115305</td>\n",
       "      <td>NaN</td>\n",
       "      <td>0</td>\n",
       "      <td>IC50</td>\n",
       "      <td>'='</td>\n",
       "      <td>1700.00</td>\n",
       "      <td>nM</td>\n",
       "      <td>&lt;rdkit.Chem.rdchem.Mol object at 0x7f6b838fe4a0&gt;</td>\n",
       "      <td>COc1ccc2c(c1)c(CC(=O)NN1CCC[C@@H]1CO)c(C)n2C(=...</td>\n",
       "      <td>IBWROCWYMVFROI-ZYTCOXICNA-N</td>\n",
       "      <td>3.230449</td>\n",
       "    </tr>\n",
       "    <tr>\n",
       "      <th>1</th>\n",
       "      <td>CHEMBL274841</td>\n",
       "      <td>NaN</td>\n",
       "      <td>0</td>\n",
       "      <td>IC50</td>\n",
       "      <td>'='</td>\n",
       "      <td>18000.00</td>\n",
       "      <td>nM</td>\n",
       "      <td>&lt;rdkit.Chem.rdchem.Mol object at 0x7f6b838fe740&gt;</td>\n",
       "      <td>Cc1ccc(-c2ncc(Cl)cc2-c2ccc(S(C)(=O)=O)cc2)c[n+...</td>\n",
       "      <td>KMLFAHIIJSUUPX-UHFFFAOYNA-N</td>\n",
       "      <td>4.255273</td>\n",
       "    </tr>\n",
       "    <tr>\n",
       "      <th>2</th>\n",
       "      <td>CHEMBL15791</td>\n",
       "      <td>NaN</td>\n",
       "      <td>0</td>\n",
       "      <td>IC50</td>\n",
       "      <td>'='</td>\n",
       "      <td>1700.00</td>\n",
       "      <td>nM</td>\n",
       "      <td>&lt;rdkit.Chem.rdchem.Mol object at 0x7f6b8390dcf0&gt;</td>\n",
       "      <td>CONC1=NC(=O)/C(=C/c2cc(C(C)(C)C)c(O)c(C(C)(C)C...</td>\n",
       "      <td>ZJFXWSPUWDWLPL-ORKNZVJUNA-N</td>\n",
       "      <td>3.230449</td>\n",
       "    </tr>\n",
       "    <tr>\n",
       "      <th>3</th>\n",
       "      <td>CHEMBL72294</td>\n",
       "      <td>NaN</td>\n",
       "      <td>0.0</td>\n",
       "      <td>IC50</td>\n",
       "      <td>'='</td>\n",
       "      <td>1698.24</td>\n",
       "      <td>nM</td>\n",
       "      <td>&lt;rdkit.Chem.rdchem.Mol object at 0x7f6b83911270&gt;</td>\n",
       "      <td>Cc1ccc(-n2c(-c3ccc(S(N)(=O)=O)cc3)c(C)oc2=O)cc1</td>\n",
       "      <td>JAPKJIUHTVTGNM-DZQCGVKKNA-N</td>\n",
       "      <td>3.229999</td>\n",
       "    </tr>\n",
       "    <tr>\n",
       "      <th>4</th>\n",
       "      <td>CHEMBL304054</td>\n",
       "      <td>NaN</td>\n",
       "      <td>0.0</td>\n",
       "      <td>IC50</td>\n",
       "      <td>'='</td>\n",
       "      <td>510.00</td>\n",
       "      <td>nM</td>\n",
       "      <td>&lt;rdkit.Chem.rdchem.Mol object at 0x7f6b83911350&gt;</td>\n",
       "      <td>Cc1cccc(-n2c(-c3ccc(S(N)(=O)=O)cc3)coc2=O)c1</td>\n",
       "      <td>VDJKUOJXTDRTKV-HVXXBKQBNA-N</td>\n",
       "      <td>2.707570</td>\n",
       "    </tr>\n",
       "  </tbody>\n",
       "</table>\n",
       "</div>"
      ],
      "text/plain": [
       "  Molecule ChEMBL ID Molecule Name Molecule Max Phase Standard Type  \\\n",
       "0      CHEMBL2115305           NaN                  0          IC50   \n",
       "1       CHEMBL274841           NaN                  0          IC50   \n",
       "2        CHEMBL15791           NaN                  0          IC50   \n",
       "3        CHEMBL72294           NaN                0.0          IC50   \n",
       "4       CHEMBL304054           NaN                0.0          IC50   \n",
       "\n",
       "  Standard Relation  Standard Value Standard Units  \\\n",
       "0               '='         1700.00             nM   \n",
       "1               '='        18000.00             nM   \n",
       "2               '='         1700.00             nM   \n",
       "3               '='         1698.24             nM   \n",
       "4               '='          510.00             nM   \n",
       "\n",
       "                                              ROMol  \\\n",
       "0  <rdkit.Chem.rdchem.Mol object at 0x7f6b838fe4a0>   \n",
       "1  <rdkit.Chem.rdchem.Mol object at 0x7f6b838fe740>   \n",
       "2  <rdkit.Chem.rdchem.Mol object at 0x7f6b8390dcf0>   \n",
       "3  <rdkit.Chem.rdchem.Mol object at 0x7f6b83911270>   \n",
       "4  <rdkit.Chem.rdchem.Mol object at 0x7f6b83911350>   \n",
       "\n",
       "                                              Smiles  \\\n",
       "0  COc1ccc2c(c1)c(CC(=O)NN1CCC[C@@H]1CO)c(C)n2C(=...   \n",
       "1  Cc1ccc(-c2ncc(Cl)cc2-c2ccc(S(C)(=O)=O)cc2)c[n+...   \n",
       "2  CONC1=NC(=O)/C(=C/c2cc(C(C)(C)C)c(O)c(C(C)(C)C...   \n",
       "3    Cc1ccc(-n2c(-c3ccc(S(N)(=O)=O)cc3)c(C)oc2=O)cc1   \n",
       "4       Cc1cccc(-n2c(-c3ccc(S(N)(=O)=O)cc3)coc2=O)c1   \n",
       "\n",
       "                     InChI Key     pIC50  \n",
       "0  IBWROCWYMVFROI-ZYTCOXICNA-N  3.230449  \n",
       "1  KMLFAHIIJSUUPX-UHFFFAOYNA-N  4.255273  \n",
       "2  ZJFXWSPUWDWLPL-ORKNZVJUNA-N  3.230449  \n",
       "3  JAPKJIUHTVTGNM-DZQCGVKKNA-N  3.229999  \n",
       "4  VDJKUOJXTDRTKV-HVXXBKQBNA-N  2.707570  "
      ]
     },
     "execution_count": 81,
     "metadata": {},
     "output_type": "execute_result"
    }
   ],
   "source": [
    "cox2_ic50s.head()"
   ]
  },
  {
   "cell_type": "code",
   "execution_count": 82,
   "id": "55ac1e6d-b1b1-4015-a509-5147ce9bc2c4",
   "metadata": {},
   "outputs": [
    {
     "data": {
      "text/plain": [
       "<Axes: >"
      ]
     },
     "execution_count": 82,
     "metadata": {},
     "output_type": "execute_result"
    },
    {
     "data": {
      "image/png": "[encoded data removed]",
      "text/plain": [
       "<Figure size 640x480 with 1 Axes>"
      ]
     },
     "metadata": {},
     "output_type": "display_data"
    }
   ],
   "source": [
    "cox2_ic50s['Standard Value'].hist()"
   ]
  },
  {
   "cell_type": "code",
   "execution_count": 83,
   "id": "a641ae2f-afd1-441a-b868-6f466b13d499",
   "metadata": {},
   "outputs": [
    {
     "data": {
      "text/plain": [
       "<Axes: >"
      ]
     },
     "execution_count": 83,
     "metadata": {},
     "output_type": "execute_result"
    },
    {
     "data": {
      "image/png": "[encoded data removed]",
      "text/plain": [
       "<Figure size 640x480 with 1 Axes>"
      ]
     },
     "metadata": {},
     "output_type": "display_data"
    }
   ],
   "source": [
    "cox2_ic50s['pIC50'].hist()"
   ]
  },
  {
   "cell_type": "code",
   "execution_count": 84,
   "id": "healthy-marsh",
   "metadata": {},
   "outputs": [
    {
     "data": {
      "text/plain": [
       "3590"
      ]
     },
     "execution_count": 84,
     "metadata": {},
     "output_type": "execute_result"
    }
   ],
   "source": [
    "len(cox2_ic50s)"
   ]
  },
  {
   "cell_type": "code",
   "execution_count": 85,
   "id": "composite-indian",
   "metadata": {},
   "outputs": [
    {
     "data": {
      "text/plain": [
       "Index(['Molecule ChEMBL ID', 'Molecule Name', 'Molecule Max Phase',\n",
       "       'Standard Type', 'Standard Relation', 'Standard Value',\n",
       "       'Standard Units', 'ROMol', 'Smiles', 'InChI Key', 'pIC50'],\n",
       "      dtype='object')"
      ]
     },
     "execution_count": 85,
     "metadata": {},
     "output_type": "execute_result"
    }
   ],
   "source": [
    "cox2_ic50s.columns"
   ]
  },
  {
   "cell_type": "code",
   "execution_count": 86,
   "id": "beneficial-essence",
   "metadata": {},
   "outputs": [],
   "source": [
    "#cox2_ic50s[['Smiles','Molecule ChEMBL ID','Standard Value']].to_csv('cox2_ic50s.smi', sep=' ' , index=False)"
   ]
  },
  {
   "cell_type": "code",
   "execution_count": 87,
   "id": "9ce13115-e809-4c13-9d11-752b5851e8e9",
   "metadata": {},
   "outputs": [],
   "source": [
    "#cox2_ic50s[['Smiles','Molecule ChEMBL ID', 'pIC50']].to_csv('cox2_pIC50s.smi', sep=' ' ,index=False)"
   ]
  },
  {
   "cell_type": "code",
   "execution_count": 88,
   "id": "a697ccb7-973c-41ad-ae19-56ebeed2b911",
   "metadata": {},
   "outputs": [
    {
     "data": {
      "text/plain": [
       "3590"
      ]
     },
     "execution_count": 88,
     "metadata": {},
     "output_type": "execute_result"
    }
   ],
   "source": [
    "len(cox2_ic50s['Molecule ChEMBL ID'].unique())"
   ]
  },
  {
   "cell_type": "markdown",
   "id": "1566a9fa-8f0a-4719-ac8f-3f32a170236b",
   "metadata": {},
   "source": [
    "# Properties of Approved Molecules"
   ]
  },
  {
   "cell_type": "code",
   "execution_count": 97,
   "id": "83c3f1a6-ceeb-4479-9ea5-b7ed653d6ac0",
   "metadata": {},
   "outputs": [
    {
     "data": {
      "text/html": [
       "<div>\n",
       "<style scoped>\n",
       "    .dataframe tbody tr th:only-of-type {\n",
       "        vertical-align: middle;\n",
       "    }\n",
       "\n",
       "    .dataframe tbody tr th {\n",
       "        vertical-align: top;\n",
       "    }\n",
       "\n",
       "    .dataframe thead th {\n",
       "        text-align: right;\n",
       "    }\n",
       "</style>\n",
       "<table border=\"1\" class=\"dataframe\">\n",
       "  <thead>\n",
       "    <tr style=\"text-align: right;\">\n",
       "      <th></th>\n",
       "      <th>Standard Value</th>\n",
       "      <th>pIC50</th>\n",
       "      <th>Similarity_Score</th>\n",
       "      <th>SAScore</th>\n",
       "      <th>QED_Score</th>\n",
       "      <th>CHEMBERT_BE</th>\n",
       "      <th>ADMET_Risk</th>\n",
       "      <th>Oral_Bioavailability</th>\n",
       "      <th>Intestinal_Absorption</th>\n",
       "    </tr>\n",
       "  </thead>\n",
       "  <tbody>\n",
       "    <tr>\n",
       "      <th>count</th>\n",
       "      <td>36.000000</td>\n",
       "      <td>36.000000</td>\n",
       "      <td>36.000000</td>\n",
       "      <td>36.000000</td>\n",
       "      <td>36.000000</td>\n",
       "      <td>36.000000</td>\n",
       "      <td>36.000000</td>\n",
       "      <td>36.000000</td>\n",
       "      <td>36.000000</td>\n",
       "    </tr>\n",
       "    <tr>\n",
       "      <th>mean</th>\n",
       "      <td>8202.699806</td>\n",
       "      <td>2.585741</td>\n",
       "      <td>0.786799</td>\n",
       "      <td>2.238326</td>\n",
       "      <td>0.764256</td>\n",
       "      <td>-8.058934</td>\n",
       "      <td>1.965117</td>\n",
       "      <td>86.845000</td>\n",
       "      <td>95.323056</td>\n",
       "    </tr>\n",
       "    <tr>\n",
       "      <th>std</th>\n",
       "      <td>22013.465060</td>\n",
       "      <td>1.216342</td>\n",
       "      <td>0.101982</td>\n",
       "      <td>0.483251</td>\n",
       "      <td>0.140110</td>\n",
       "      <td>1.205382</td>\n",
       "      <td>1.626371</td>\n",
       "      <td>17.824033</td>\n",
       "      <td>13.037036</td>\n",
       "    </tr>\n",
       "    <tr>\n",
       "      <th>min</th>\n",
       "      <td>4.803000</td>\n",
       "      <td>0.681513</td>\n",
       "      <td>0.526316</td>\n",
       "      <td>1.295792</td>\n",
       "      <td>0.408716</td>\n",
       "      <td>-11.136306</td>\n",
       "      <td>0.000000</td>\n",
       "      <td>42.150000</td>\n",
       "      <td>46.720000</td>\n",
       "    </tr>\n",
       "    <tr>\n",
       "      <th>25%</th>\n",
       "      <td>36.750000</td>\n",
       "      <td>1.559386</td>\n",
       "      <td>0.710526</td>\n",
       "      <td>1.926052</td>\n",
       "      <td>0.728404</td>\n",
       "      <td>-8.722302</td>\n",
       "      <td>0.619782</td>\n",
       "      <td>92.145000</td>\n",
       "      <td>99.697500</td>\n",
       "    </tr>\n",
       "    <tr>\n",
       "      <th>50%</th>\n",
       "      <td>521.000000</td>\n",
       "      <td>2.716485</td>\n",
       "      <td>0.777473</td>\n",
       "      <td>2.147436</td>\n",
       "      <td>0.821600</td>\n",
       "      <td>-7.930749</td>\n",
       "      <td>1.704283</td>\n",
       "      <td>95.770000</td>\n",
       "      <td>99.960000</td>\n",
       "    </tr>\n",
       "    <tr>\n",
       "      <th>75%</th>\n",
       "      <td>2487.500000</td>\n",
       "      <td>3.394992</td>\n",
       "      <td>0.842105</td>\n",
       "      <td>2.465503</td>\n",
       "      <td>0.859567</td>\n",
       "      <td>-7.232438</td>\n",
       "      <td>2.959727</td>\n",
       "      <td>96.862500</td>\n",
       "      <td>99.990000</td>\n",
       "    </tr>\n",
       "    <tr>\n",
       "      <th>max</th>\n",
       "      <td>93300.000000</td>\n",
       "      <td>4.969882</td>\n",
       "      <td>1.000000</td>\n",
       "      <td>3.496406</td>\n",
       "      <td>0.905784</td>\n",
       "      <td>-6.079607</td>\n",
       "      <td>6.000000</td>\n",
       "      <td>97.860000</td>\n",
       "      <td>100.000000</td>\n",
       "    </tr>\n",
       "  </tbody>\n",
       "</table>\n",
       "</div>"
      ],
      "text/plain": [
       "       Standard Value      pIC50  Similarity_Score    SAScore  QED_Score  \\\n",
       "count       36.000000  36.000000         36.000000  36.000000  36.000000   \n",
       "mean      8202.699806   2.585741          0.786799   2.238326   0.764256   \n",
       "std      22013.465060   1.216342          0.101982   0.483251   0.140110   \n",
       "min          4.803000   0.681513          0.526316   1.295792   0.408716   \n",
       "25%         36.750000   1.559386          0.710526   1.926052   0.728404   \n",
       "50%        521.000000   2.716485          0.777473   2.147436   0.821600   \n",
       "75%       2487.500000   3.394992          0.842105   2.465503   0.859567   \n",
       "max      93300.000000   4.969882          1.000000   3.496406   0.905784   \n",
       "\n",
       "       CHEMBERT_BE  ADMET_Risk  Oral_Bioavailability  Intestinal_Absorption  \n",
       "count    36.000000   36.000000             36.000000              36.000000  \n",
       "mean     -8.058934    1.965117             86.845000              95.323056  \n",
       "std       1.205382    1.626371             17.824033              13.037036  \n",
       "min     -11.136306    0.000000             42.150000              46.720000  \n",
       "25%      -8.722302    0.619782             92.145000              99.697500  \n",
       "50%      -7.930749    1.704283             95.770000              99.960000  \n",
       "75%      -7.232438    2.959727             96.862500              99.990000  \n",
       "max      -6.079607    6.000000             97.860000             100.000000  "
      ]
     },
     "execution_count": 97,
     "metadata": {},
     "output_type": "execute_result"
    }
   ],
   "source": [
    "approved = cox2_ic50s[ cox2_ic50s['Molecule Max Phase'] > 3 ]\n",
    "approved.describe()"
   ]
  },
  {
   "cell_type": "code",
   "execution_count": 98,
   "id": "02b88739-322e-4e51-b2c4-46f5ff942afe",
   "metadata": {},
   "outputs": [
    {
     "data": {
      "text/plain": [
       "Index(['Molecule ChEMBL ID', 'Molecule Name', 'Molecule Max Phase',\n",
       "       'Standard Type', 'Standard Relation', 'Standard Value',\n",
       "       'Standard Units', 'ROMol', 'Smiles', 'InChI Key', 'pIC50',\n",
       "       'Similarity_Score', 'SAScore', 'QED_Score', 'CHEMBERT_BE', 'ADMET_Risk',\n",
       "       'Oral_Bioavailability', 'Intestinal_Absorption'],\n",
       "      dtype='object')"
      ]
     },
     "execution_count": 98,
     "metadata": {},
     "output_type": "execute_result"
    }
   ],
   "source": [
    "approved.columns"
   ]
  },
  {
   "cell_type": "code",
   "execution_count": 99,
   "id": "f25c828c-2fe0-4921-a018-74327c1ebac3",
   "metadata": {},
   "outputs": [
    {
     "data": {
      "image/png": "[encoded data removed]",
      "text/plain": [
       "<Figure size 640x480 with 2 Axes>"
      ]
     },
     "metadata": {},
     "output_type": "display_data"
    }
   ],
   "source": [
    "prop_to_plot = 'pIC50'\n",
    "fig, ax1 = plt.subplots()\n",
    "ax2 = ax1.twinx()\n",
    "sns.histplot(data=approved,   x=prop_to_plot,stat='percent', ax=ax2, color='green', label='approved')\n",
    "sns.histplot(data=cox2_ic50s, x=prop_to_plot,stat='percent', ax=ax1, color='blue',   label='All molecules')\n",
    "ax1.set_ylabel('All Molecules (%)')\n",
    "ax2.set_ylabel('Approved (%)', color='green')\n",
    "for tick in ax2.get_yticklabels(): tick.set_color('green')\n",
    "fig.legend(loc=(0.1,0.8));"
   ]
  },
  {
   "cell_type": "code",
   "execution_count": 101,
   "id": "35a6807f-2a3c-4125-bb32-b3a8da44429b",
   "metadata": {},
   "outputs": [
    {
     "data": {
      "image/png": "[encoded data removed]",
      "text/plain": [
       "<Figure size 640x480 with 2 Axes>"
      ]
     },
     "metadata": {},
     "output_type": "display_data"
    }
   ],
   "source": [
    "prop_to_plot = 'QED_Score'\n",
    "fig, ax1 = plt.subplots()\n",
    "ax2 = ax1.twinx()\n",
    "sns.histplot(data=approved,   x=prop_to_plot, stat='percent', ax=ax2, color='green', label='approved')\n",
    "sns.histplot(data=cox2_ic50s, x=prop_to_plot, stat='percent', ax=ax1, color='blue',   label='All molecules')\n",
    "ax1.set_ylabel('All Molecules (%)')\n",
    "ax2.set_ylabel('Approved (%)', color='green')\n",
    "for tick in ax2.get_yticklabels(): tick.set_color('green')\n",
    "fig.legend(loc=(0.1,0.8));"
   ]
  },
  {
   "cell_type": "code",
   "execution_count": 103,
   "id": "76e6c29d-0c6a-4c35-ab7b-492e0552e2c1",
   "metadata": {},
   "outputs": [
    {
     "data": {
      "image/png": "[encoded data removed]",
      "text/plain": [
       "<Figure size 640x480 with 2 Axes>"
      ]
     },
     "metadata": {},
     "output_type": "display_data"
    }
   ],
   "source": [
    "prop_to_plot = 'CHEMBERT_BE'\n",
    "fig, ax1 = plt.subplots()\n",
    "ax2 = ax1.twinx()\n",
    "sns.histplot(data=approved,   x=prop_to_plot,stat='percent', ax=ax2, color='green', label='approved')\n",
    "sns.histplot(data=cox2_ic50s, x=prop_to_plot,stat='percent', ax=ax1, color='blue',   label='All molecules')\n",
    "ax1.set_ylabel('All Molecules (%)')\n",
    "ax2.set_ylabel('Approved (%)', color='green')\n",
    "for tick in ax2.get_yticklabels(): tick.set_color('green')\n",
    "fig.legend(loc=(0.6,0.8));"
   ]
  },
  {
   "cell_type": "markdown",
   "id": "89d9d858-d6be-4545-87de-5d01b5e5bd8b",
   "metadata": {},
   "source": [
    "# Save database"
   ]
  },
  {
   "cell_type": "code",
   "execution_count": 153,
   "id": "3bca61a5-c29b-413b-b157-e5a998261b9d",
   "metadata": {},
   "outputs": [
    {
     "data": {
      "text/plain": [
       "Index(['Molecule ChEMBL ID', 'Molecule Name', 'Molecule Max Phase',\n",
       "       'Standard Type', 'Standard Relation', 'Standard Value',\n",
       "       'Standard Units', 'ROMol', 'Smiles', 'InChI Key', 'pIC50',\n",
       "       'Similarity_Score', 'SAScore', 'QED_Score', 'CHEMBERT_BE', 'ADMET_Risk',\n",
       "       'Oral_Bioavailability', 'Intestinal_Absorption'],\n",
       "      dtype='object')"
      ]
     },
     "execution_count": 153,
     "metadata": {},
     "output_type": "execute_result"
    }
   ],
   "source": [
    "cox2_ic50s.columns"
   ]
  },
  {
   "cell_type": "code",
   "execution_count": 157,
   "id": "banned-shore",
   "metadata": {},
   "outputs": [],
   "source": [
    "cox2_ic50s.to_pickle(\"cox2_ic50s.pkl\")"
   ]
  },
  {
   "cell_type": "code",
   "execution_count": null,
   "id": "dc8cd0c2-cd5f-4a0e-87b4-da1155f313f0",
   "metadata": {},
   "outputs": [],
   "source": []
  }
 ],
 "metadata": {
  "kernelspec": {
   "display_name": "test_class_env",
   "language": "python",
   "name": "test_class_env"
  },
  "language_info": {
   "codemirror_mode": {
    "name": "ipython",
    "version": 3
   },
   "file_extension": ".py",
   "mimetype": "text/x-python",
   "name": "python",
   "nbconvert_exporter": "python",
   "pygments_lexer": "ipython3",
   "version": "3.12.5"
  },
  "toc": {
   "base_numbering": 1,
   "nav_menu": {},
   "number_sections": true,
   "sideBar": true,
   "skip_h1_title": false,
   "title_cell": "Table of Contents",
   "title_sidebar": "Contents",
   "toc_cell": false,
   "toc_position": {
    "height": "calc(100% - 180px)",
    "left": "10px",
    "top": "150px",
    "width": "287px"
   },
   "toc_section_display": true,
   "toc_window_display": true
  },
  "varInspector": {
   "cols": {
    "lenName": 16,
    "lenType": 16,
    "lenVar": 40
   },
   "kernels_config": {
    "python": {
     "delete_cmd_postfix": "",
     "delete_cmd_prefix": "del ",
     "library": "var_list.py",
     "varRefreshCmd": "print(var_dic_list())"
    },
    "r": {
     "delete_cmd_postfix": ") ",
     "delete_cmd_prefix": "rm(",
     "library": "var_list.r",
     "varRefreshCmd": "cat(var_dic_list()) "
    }
   },
   "types_to_exclude": [
    "module",
    "function",
    "builtin_function_or_method",
    "instance",
    "_Feature"
   ],
   "window_display": false
  }
 },
 "nbformat": 4,
 "nbformat_minor": 5
}
